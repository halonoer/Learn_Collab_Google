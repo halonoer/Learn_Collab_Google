{
  "nbformat": 4,
  "nbformat_minor": 0,
  "metadata": {
    "colab": {
      "provenance": [],
      "authorship_tag": "ABX9TyMAUFnCgBPGtu7XpvEO7MbM",
      "include_colab_link": true
    },
    "kernelspec": {
      "name": "python3",
      "display_name": "Python 3"
    },
    "language_info": {
      "name": "python"
    }
  },
  "cells": [
    {
      "cell_type": "markdown",
      "metadata": {
        "id": "view-in-github",
        "colab_type": "text"
      },
      "source": [
        "<a href=\"https://colab.research.google.com/github/halonoer/Learn_Collab_Google/blob/main/BelajarModul3.ipynb\" target=\"_parent\"><img src=\"https://colab.research.google.com/assets/colab-badge.svg\" alt=\"Open In Colab\"/></a>"
      ]
    },
    {
      "cell_type": "markdown",
      "source": [
        "> # **Data Mining**\n",
        "\n",
        "*   Nama : **Muhammad Noer**\n",
        "*   NPM  : **21082010188**\n",
        "---\n"
      ],
      "metadata": {
        "id": "kHQxGj9jV9qC"
      }
    },
    {
      "cell_type": "markdown",
      "source": [
        "**Data Mining** adalah proses menemukan pola, informasi, atau pengetahuan yang bernilai dari kumpulan data yang besar. Ibaratnya seperti \"menggali\" data untuk mengidentifikasi sesuatu yang berharga. Tujuan utama dari data mining adalah mengubah data mentah menjadi informasi yang dapat digunakan untuk pengambilan keputusan atau tindakan yang lebih efektif."
      ],
      "metadata": {
        "id": "5amK7-vslCX1"
      }
    },
    {
      "cell_type": "markdown",
      "source": [
        "- **Pandas** adalah library Python yang populer untuk manipulasi data dan analisis data. Library ini menyediakan struktur data yang fleksibel, seperti DataFrame dan Series, untuk mempermudah pekerjaan dengan data tabular (seperti spreadsheet).\n",
        "- **pd**: Ini adalah alias umum yang digunakan saat mengimpor Pandas. Biasanya kita menulis import pandas as pd agar lebih praktis saat memanggil fungsi-fungsi dari Pandas.\n",
        "- **stacked**: Dalam Pandas, istilah **stack()** digunakan untuk mengubah data dari format wide menjadi format long. Jika Anda memiliki DataFrame dengan beberapa kolom, **stack()** akan \"menumpuk\" kolom-kolom tersebut menjadi satu kolom baru dengan indeks multi-level (level row).\n",
        "- **isnull**: Fungsi ini digunakan untuk memeriksa apakah ada nilai NaN atau kosong dalam DataFrame atau Series. Hasilnya berupa DataFrame atau Series yang berisi True jika nilainya kosong, dan False jika nilainya tidak kosong.\n",
        "- **drop**: Fungsi ini digunakan untuk menghapus kolom atau baris dari DataFrame. Anda bisa menentukan apakah ingin menghapus baris (axis=0) atau kolom (axis=1).\n",
        "- **dropna()** digunakan khusus untuk menghapus baris atau kolom yang berisi NaN.\n",
        "- **sum**: Fungsi ini digunakan untuk menjumlahkan nilai-nilai dalam kolom atau baris DataFrame atau Series. Biasanya digunakan untuk data numerik, tetapi juga bisa digunakan dengan **isnull()** untuk menghitung jumlah nilai yang kosong.\n",
        "- **mode**: Mode adalah nilai yang paling sering muncul dalam kolom atau baris DataFrame atau Series. Fungsi ini mengembalikan modus dari data.\n",
        "-**inplace**: Ini adalah parameter yang digunakan dalam beberapa fungsi Pandas seperti **drop()**, **fillna()**, dan lain-lain. Jika **inplace=True**, maka perubahan akan dilakukan langsung pada DataFrame asli tanpa perlu membuat salinan baru. Jika **inplace=False** (default), fungsi akan mengembalikan DataFrame baru dengan perubahan."
      ],
      "metadata": {
        "id": "9Sn0EfszA40Y"
      }
    },
    {
      "cell_type": "markdown",
      "source": [
        "## **Data Preparation**"
      ],
      "metadata": {
        "id": "LkKPnPr0dvxt"
      }
    },
    {
      "cell_type": "markdown",
      "source": [
        "1. Select Data"
      ],
      "metadata": {
        "id": "OwTHm8GImQ9k"
      }
    },
    {
      "cell_type": "markdown",
      "source": [
        "- Proses memilih data yang relevan dan diperlukan untuk analisis. Data yang tidak penting akan diabaikan.\n",
        "- Contoh: Misalnya, dari data pelanggan, kita hanya memilih kolom \"Nama\", \"Umur\", dan \"Pendapatan\"."
      ],
      "metadata": {
        "id": "_H3-mYHpqLfK"
      }
    },
    {
      "cell_type": "code",
      "source": [
        "import pandas as pd\n",
        "\n",
        "# Contoh dataset\n",
        "data = {'Nama': ['Andi', 'Budi', 'Cici'], 'Umur': [25, 30, 22], 'Pendapatan': [5000000, 7000000, 6000000], 'Kota': ['Jakarta', 'Bandung', 'Surabaya']}\n",
        "df = pd.DataFrame(data)\n",
        "\n",
        "# Pilih kolom yang relevan\n",
        "selected_data = df[['Nama', 'Umur', 'Pendapatan']]\n",
        "print(selected_data)"
      ],
      "metadata": {
        "colab": {
          "base_uri": "https://localhost:8080/"
        },
        "id": "NcF-Shg7oXOh",
        "outputId": "8151b04e-10d2-463f-f41a-b7f0e17c617b"
      },
      "execution_count": 1,
      "outputs": [
        {
          "output_type": "stream",
          "name": "stdout",
          "text": [
            "   Nama  Umur  Pendapatan\n",
            "0  Andi    25     5000000\n",
            "1  Budi    30     7000000\n",
            "2  Cici    22     6000000\n"
          ]
        }
      ]
    },
    {
      "cell_type": "markdown",
      "source": [
        "2. Clean Data\n",
        "- Proses membersihkan data dari kesalahan, kekosongan, atau data yang tidak valid, sehingga data yang digunakan bisa dipercaya dan akurat.\n",
        "- Contoh: Menghapus nilai yang kosong atau memperbaiki data yang tidak valid."
      ],
      "metadata": {
        "id": "NSI08CMHoJwr"
      }
    },
    {
      "cell_type": "code",
      "source": [
        "# Contoh data dengan nilai kosong\n",
        "data = {'Nama': ['Andi', 'Budi', None], 'Umur': [25, None, 22], 'Pendapatan': [5000000, 7000000, None]}\n",
        "df = pd.DataFrame(data)\n",
        "\n",
        "# Bersihkan data (menghapus baris yang memiliki nilai kosong)\n",
        "cleaned_data = df.dropna()\n",
        "print(cleaned_data)\n"
      ],
      "metadata": {
        "colab": {
          "base_uri": "https://localhost:8080/"
        },
        "id": "b6n_qJpFpR6C",
        "outputId": "0a98259d-ada9-40d0-a08e-8cc192011713"
      },
      "execution_count": 2,
      "outputs": [
        {
          "output_type": "stream",
          "name": "stdout",
          "text": [
            "   Nama  Umur  Pendapatan\n",
            "0  Andi  25.0   5000000.0\n"
          ]
        }
      ]
    },
    {
      "cell_type": "markdown",
      "source": [
        "3. Contruct Require Data\n",
        "- Proses membuat data baru atau mengubah data yang ada agar lebih sesuai untuk analisis. Ini bisa termasuk membuat kolom baru atau menghitung nilai-nilai tertentu.\n",
        "- Contoh: Menambahkan kolom baru \"Kategori Pendapatan\" berdasarkan nilai pendapatan."
      ],
      "metadata": {
        "id": "39Rl8t6mohfz"
      }
    },
    {
      "cell_type": "code",
      "source": [
        "# Menambahkan kolom \"Kategori Pendapatan\"\n",
        "df['Kategori Pendapatan'] = pd.cut(df['Pendapatan'], bins=[0, 5000000, 10000000], labels=['Rendah', 'Tinggi'])\n",
        "print(df)\n"
      ],
      "metadata": {
        "colab": {
          "base_uri": "https://localhost:8080/"
        },
        "id": "G0rDzcf9pvsa",
        "outputId": "f8e9002e-141d-4c36-ec5d-b29b263b21c9"
      },
      "execution_count": 3,
      "outputs": [
        {
          "output_type": "stream",
          "name": "stdout",
          "text": [
            "   Nama  Umur  Pendapatan Kategori Pendapatan\n",
            "0  Andi  25.0   5000000.0              Rendah\n",
            "1  Budi   NaN   7000000.0              Tinggi\n",
            "2  None  22.0         NaN                 NaN\n"
          ]
        }
      ]
    },
    {
      "cell_type": "markdown",
      "source": [
        "4. Integrate Data\n",
        "- Proses menggabungkan data dari berbagai sumber menjadi satu kesatuan sehingga semua data relevan tersedia di satu tempat.\n",
        "- Contoh: Menggabungkan dua tabel data pelanggan dan data pembelian."
      ],
      "metadata": {
        "id": "CnnmJA7tor5Z"
      }
    },
    {
      "cell_type": "code",
      "source": [
        "# Contoh data pelanggan\n",
        "data_pelanggan = {'ID': [1, 2, 3], 'Nama': ['Andi', 'Budi', 'Cici']}\n",
        "df_pelanggan = pd.DataFrame(data_pelanggan)\n",
        "\n",
        "# Contoh data pembelian\n",
        "data_pembelian = {'ID': [1, 2, 3], 'Produk': ['Laptop', 'HP', 'Tablet'], 'Harga': [10000000, 5000000, 7000000]}\n",
        "df_pembelian = pd.DataFrame(data_pembelian)\n",
        "\n",
        "# Menggabungkan kedua data berdasarkan ID\n",
        "merged_data = pd.merge(df_pelanggan, df_pembelian, on='ID')\n",
        "print(merged_data)\n"
      ],
      "metadata": {
        "colab": {
          "base_uri": "https://localhost:8080/"
        },
        "id": "zpRv_RASp4yx",
        "outputId": "acd8caa9-5e14-449f-c28c-75ea091763b3"
      },
      "execution_count": 4,
      "outputs": [
        {
          "output_type": "stream",
          "name": "stdout",
          "text": [
            "   ID  Nama  Produk     Harga\n",
            "0   1  Andi  Laptop  10000000\n",
            "1   2  Budi      HP   5000000\n",
            "2   3  Cici  Tablet   7000000\n"
          ]
        }
      ]
    },
    {
      "cell_type": "markdown",
      "source": [
        "\n",
        "## **Kategori data**"
      ],
      "metadata": {
        "id": "HZjaJJM3d0I-"
      }
    },
    {
      "cell_type": "markdown",
      "source": [
        "\n",
        "\n",
        "> **Ordinal**\n",
        "\n",
        "\n",
        "Adalah data yang memiliki urutan atau ranking, misalnya tingkat pendidikan (SD, SMP, SMA). Walaupun ada urutan, jarak antar kategorinya tidak bisa dihitung secara pasti.\n",
        "\n",
        "1. **Ordinal Encoder**: Digunakan untuk mengubah data ordinal menjadi angka berdasarkan urutannya.\n",
        "Contoh: Misalnya, tingkat pendidikan: ['SD', 'SMP', 'SMA']\n",
        "\n",
        "  Setelah di-encode:\n",
        "  - SD -> 0\n",
        "  - SMP -> 1\n",
        "  - SMA -> 2"
      ],
      "metadata": {
        "id": "STPuTgtnmBzj"
      }
    },
    {
      "cell_type": "code",
      "source": [
        "from sklearn.preprocessing import OrdinalEncoder\n",
        "\n",
        "data = [['SD'], ['SMP'], ['SMA']]\n",
        "encoder = OrdinalEncoder(categories=[['SD', 'SMP', 'SMA']])\n",
        "encoded_data = encoder.fit_transform(data)\n",
        "print(encoded_data)\n"
      ],
      "metadata": {
        "colab": {
          "base_uri": "https://localhost:8080/"
        },
        "id": "ETmq7FoRr-0a",
        "outputId": "3049de93-51a1-400b-d485-7113fc7b8352"
      },
      "execution_count": 5,
      "outputs": [
        {
          "output_type": "stream",
          "name": "stdout",
          "text": [
            "[[0.]\n",
            " [1.]\n",
            " [2.]]\n"
          ]
        }
      ]
    },
    {
      "cell_type": "markdown",
      "source": [
        "2. Label Encoder: Digunakan untuk mengubah data kategorikal menjadi angka tanpa memperhatikan urutan.\n",
        "\n",
        "  Contoh: Misalnya, tingkat pendidikan: ['SD', 'SMP', 'SMA']\n",
        "\n",
        "  Hasil encoding bisa jadi:\n",
        "\n",
        "  SD -> 0\n",
        "  SMP -> 2\n",
        "  SMA -> 1"
      ],
      "metadata": {
        "id": "QsZ7OIzrsOdA"
      }
    },
    {
      "cell_type": "code",
      "source": [
        "from sklearn.preprocessing import LabelEncoder\n",
        "\n",
        "data = ['SD', 'SMP', 'SMA']\n",
        "encoder = LabelEncoder()\n",
        "encoded_data = encoder.fit_transform(data)\n",
        "print(encoded_data)\n"
      ],
      "metadata": {
        "colab": {
          "base_uri": "https://localhost:8080/"
        },
        "id": "M2bocCRRsvUa",
        "outputId": "2445625a-a7a3-44fc-fd33-6025b01d710e"
      },
      "execution_count": 6,
      "outputs": [
        {
          "output_type": "stream",
          "name": "stdout",
          "text": [
            "[0 2 1]\n"
          ]
        }
      ]
    },
    {
      "cell_type": "markdown",
      "source": [
        "3. Manual Mapping: Kita bisa menggunakan kamus (dictionary) untuk melakukan mapping manual dari kategori ke angka."
      ],
      "metadata": {
        "id": "2Dcov3D_s0no"
      }
    },
    {
      "cell_type": "code",
      "source": [
        "data = ['SD', 'SMP', 'SMA']\n",
        "mapping = {'SD': 0, 'SMP': 1, 'SMA': 2}\n",
        "encoded_data = [mapping[item] for item in data]\n",
        "print(encoded_data)\n"
      ],
      "metadata": {
        "colab": {
          "base_uri": "https://localhost:8080/"
        },
        "id": "mAeBJ-E_tImY",
        "outputId": "9aefdb37-6781-4f7e-86ae-9d248ad847cb"
      },
      "execution_count": 7,
      "outputs": [
        {
          "output_type": "stream",
          "name": "stdout",
          "text": [
            "[0, 1, 2]\n"
          ]
        }
      ]
    },
    {
      "cell_type": "markdown",
      "source": [
        "> **Nominal**\n",
        "\n",
        "Adalah data yang bersifat kategorikal tanpa urutan, seperti warna: ['merah', 'biru', 'hijau']. Warna tidak memiliki urutan.\n",
        "- Kategori Encoding\n",
        "1. Get Dummies (pandas): Menggunakan metode get_dummies() dari pandas untuk mengubah data nominal menjadi beberapa kolom dengan nilai biner (0 atau 1).\n",
        "\n",
        "Contoh: Data warna: ['merah', 'biru', 'hijau']\n",
        "\n",
        "hasilnya :"
      ],
      "metadata": {
        "id": "C3s27ki0mFvP"
      }
    },
    {
      "cell_type": "code",
      "source": [
        "import pandas as pd\n",
        "\n",
        "data = pd.DataFrame({'warna': ['merah', 'biru', 'hijau']})\n",
        "encoded_data = pd.get_dummies(data, columns=['warna'])\n",
        "print(encoded_data)\n"
      ],
      "metadata": {
        "colab": {
          "base_uri": "https://localhost:8080/"
        },
        "id": "nMrMAKSADpdU",
        "outputId": "05ece494-f84d-45a7-e4fc-544d3417805d"
      },
      "execution_count": 1,
      "outputs": [
        {
          "output_type": "stream",
          "name": "stdout",
          "text": [
            "   warna_biru  warna_hijau  warna_merah\n",
            "0       False        False         True\n",
            "1        True        False        False\n",
            "2       False         True        False\n"
          ]
        }
      ]
    },
    {
      "cell_type": "markdown",
      "source": [
        "2. OneHotEncoder (Sklearn): Ini mirip dengan get_dummies, tetapi berasal dari scikit-learn dan lebih sering digunakan dalam machine learning.\n",
        "\n",
        "Contoh: Data warna: ['merah', 'biru', 'hijau']\n",
        "\n",
        "hasilnya :"
      ],
      "metadata": {
        "id": "d7f6bdcwDy1S"
      }
    },
    {
      "cell_type": "code",
      "source": [
        "from sklearn.preprocessing import OneHotEncoder\n",
        "\n",
        "data = [['merah'], ['biru'], ['hijau']]\n",
        "encoder = OneHotEncoder(sparse=False)\n",
        "encoded_data = encoder.fit_transform(data)\n",
        "print(encoded_data)\n"
      ],
      "metadata": {
        "colab": {
          "base_uri": "https://localhost:8080/"
        },
        "id": "_b8KNjVaD6GV",
        "outputId": "0d58f5b5-ec24-4e9c-833f-843da5d40057"
      },
      "execution_count": 2,
      "outputs": [
        {
          "output_type": "stream",
          "name": "stdout",
          "text": [
            "[[0. 0. 1.]\n",
            " [1. 0. 0.]\n",
            " [0. 1. 0.]]\n"
          ]
        },
        {
          "output_type": "stream",
          "name": "stderr",
          "text": [
            "/usr/local/lib/python3.10/dist-packages/sklearn/preprocessing/_encoders.py:975: FutureWarning: `sparse` was renamed to `sparse_output` in version 1.2 and will be removed in 1.4. `sparse_output` is ignored unless you leave `sparse` to its default value.\n",
            "  warnings.warn(\n"
          ]
        }
      ]
    },
    {
      "cell_type": "markdown",
      "source": [
        "Penjelasan singkat:\n",
        "\n",
        "- **Ordinal Encoder** dan Manual Mapping digunakan untuk data ordinal (yang memiliki urutan).\n",
        "- **Label Encoder** digunakan untuk data kategorikal secara umum, tetapi lebih cocok untuk data ordinal dengan sedikit kategori.\n",
        "- **OneHotEncoder** dan **Get Dummies** digunakan untuk data nominal (yang tidak memiliki urutan)."
      ],
      "metadata": {
        "id": "6dbXMhlMECUU"
      }
    },
    {
      "cell_type": "markdown",
      "source": [
        "## **pemilihan fitur**"
      ],
      "metadata": {
        "id": "SrhNZCpteJe2"
      }
    },
    {
      "cell_type": "markdown",
      "source": [
        "fitur yang tidak relevan akan berdampak negatif pada kinerja model pembelajaran mesin"
      ],
      "metadata": {
        "id": "FE5Sh2mbmb9a"
      }
    },
    {
      "cell_type": "markdown",
      "source": [
        "> **Correlation**"
      ],
      "metadata": {
        "id": "Q6Anug1dgw8f"
      }
    },
    {
      "cell_type": "markdown",
      "source": [
        "1. **Pearson's r**  \n",
        "Korelasi Pearson mengukur hubungan linear antara dua variabel. Ini bekerja dengan baik ketika data memiliki distribusi normal dan hubungan linear.\n",
        "\n",
        "Nilai Korelasi:\n",
        "r = 1: Hubungan positif sempurna (garis lurus naik).\n",
        "r > 0: Hubungan positif (jika x naik, y juga naik).\n",
        "r = 0: Tidak ada hubungan.\n",
        "r < 0: Hubungan negatif (jika x naik, y turun).\n",
        "r = -1: Hubungan negatif sempurna (garis lurus turun).\n",
        "Contoh: Misalnya, kita ingin melihat hubungan antara jumlah jam belajar dan nilai ujian.\n",
        "\n",
        "Kode Python dengan Grafik:"
      ],
      "metadata": {
        "id": "o0CvNcuIuDym"
      }
    },
    {
      "cell_type": "code",
      "source": [
        "import numpy as np\n",
        "import matplotlib.pyplot as plt\n",
        "from scipy.stats import pearsonr\n",
        "\n",
        "# Data tinggi dan berat\n",
        "tinggi = np.array([150, 160, 170, 180, 190])\n",
        "berat = np.array([50, 60, 70, 80, 90])\n",
        "\n",
        "# Hitung korelasi Pearson\n",
        "r_value, p_value = pearsonr(tinggi, berat)\n",
        "print(f\"Korelasi Pearson: {r_value}\")\n",
        "\n",
        "# Visualisasi data\n",
        "plt.scatter(tinggi, berat, color='blue')\n",
        "plt.title(\"Korelasi Pearson antara Tinggi dan Berat\")\n",
        "plt.xlabel(\"Tinggi\")\n",
        "plt.ylabel(\"Berat\")\n",
        "plt.show()\n"
      ],
      "metadata": {
        "colab": {
          "base_uri": "https://localhost:8080/",
          "height": 489
        },
        "id": "x-q_OJVuvU2L",
        "outputId": "587e7d6b-4a54-4a7a-93c8-fbe3aadc1df6"
      },
      "execution_count": 8,
      "outputs": [
        {
          "output_type": "stream",
          "name": "stdout",
          "text": [
            "Korelasi Pearson: 1.0\n"
          ]
        },
        {
          "output_type": "display_data",
          "data": {
            "text/plain": [
              "<Figure size 640x480 with 1 Axes>"
            ],
            "image/png": "[encoded data removed]"
          },
          "metadata": {}
        }
      ]
    },
    {
      "cell_type": "markdown",
      "source": [
        "![Screenshot 2024-09-14 160148.png](data:image/png;base64,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)"
      ],
      "metadata": {
        "id": "olx_8kOExcAB"
      }
    },
    {
      "cell_type": "markdown",
      "source": [
        "Interpretasi: Jika hasilnya mendekati 1, berarti ada hubungan positif kuat antara tinggi dan berat badan."
      ],
      "metadata": {
        "id": "ze_4R-xWvjMa"
      }
    },
    {
      "cell_type": "markdown",
      "source": [
        "2. **Spearman's rho** Korelasi Spearman mengukur hubungan monoton antara dua variabel. Ini lebih fleksibel dari Pearson karena tidak memerlukan hubungan linear dan lebih tahan terhadap outlier.\n",
        "\n",
        "Nilai Korelasi:\n",
        "rho = 1: Hubungan monoton positif sempurna.\n",
        "rho > 0: Hubungan monoton positif.\n",
        "rho = 0: Tidak ada hubungan.\n",
        "rho < 0: Hubungan monoton negatif.\n",
        "rho = -1: Hubungan monoton negatif sempurna.\n",
        "Contoh: Misalnya, kita ingin melihat hubungan antara peringkat dalam kompetisi (ranking) dan skor ujian.\n",
        "\n",
        "Kode Python dengan Grafik:"
      ],
      "metadata": {
        "id": "YsHBv39UuHZG"
      }
    },
    {
      "cell_type": "code",
      "source": [
        "from scipy.stats import spearmanr\n",
        "\n",
        "# Data peringkat ujian\n",
        "ujian1 = np.array([1, 2, 3, 4, 5])\n",
        "ujian2 = np.array([2, 1, 4, 3, 5])\n",
        "\n",
        "# Hitung korelasi Spearman\n",
        "rho_value, p_value = spearmanr(ujian1, ujian2)\n",
        "print(f\"Korelasi Spearman: {rho_value}\")\n",
        "\n",
        "# Visualisasi data\n",
        "plt.scatter(ujian1, ujian2, color='green')\n",
        "plt.title(\"Korelasi Spearman antara Ujian 1 dan Ujian 2\")\n",
        "plt.xlabel(\"Peringkat Ujian 1\")\n",
        "plt.ylabel(\"Peringkat Ujian 2\")\n",
        "plt.show()\n"
      ],
      "metadata": {
        "colab": {
          "base_uri": "https://localhost:8080/",
          "height": 489
        },
        "id": "b4fRHTrM0r4o",
        "outputId": "ce26bf97-9443-4a6c-84b1-194e31b8f5f7"
      },
      "execution_count": 9,
      "outputs": [
        {
          "output_type": "stream",
          "name": "stdout",
          "text": [
            "Korelasi Spearman: 0.7999999999999999\n"
          ]
        },
        {
          "output_type": "display_data",
          "data": {
            "text/plain": [
              "<Figure size 640x480 with 1 Axes>"
            ],
            "image/png": "[encoded data removed]"
          },
          "metadata": {}
        }
      ]
    },
    {
      "cell_type": "markdown",
      "source": [
        "3. Kendall's tau"
      ],
      "metadata": {
        "id": "P9H9ECu-uKtc"
      }
    },
    {
      "cell_type": "markdown",
      "source": [
        "Korelasi Kendall digunakan untuk mengukur kekuatan hubungan ordinal antara dua variabel. Metode ini mirip dengan Spearman, tetapi lebih fokus pada konsistensi dalam urutan (misalnya, apakah dua variabel selalu bergerak bersama-sama dalam peringkat).\n",
        "\n",
        "Contoh sederhana: Misalnya, kita memiliki dua rangkaian peringkat dari dua juri yang menilai penampilan."
      ],
      "metadata": {
        "id": "S711NzmM3Mvl"
      }
    },
    {
      "cell_type": "code",
      "source": [
        "from scipy.stats import kendalltau\n",
        "\n",
        "# Data peringkat dari dua juri\n",
        "juri1 = np.array([1, 2, 3, 4, 5])\n",
        "juri2 = np.array([2, 1, 4, 3, 5])\n",
        "\n",
        "# Hitung korelasi Kendall\n",
        "tau_value, p_value = kendalltau(juri1, juri2)\n",
        "print(f\"Korelasi Kendall: {tau_value}\")\n",
        "\n",
        "# Visualisasi data\n",
        "plt.scatter(juri1, juri2, color='red')\n",
        "plt.title(\"Korelasi Kendall antara Juri 1 dan Juri 2\")\n",
        "plt.xlabel(\"Peringkat Juri 1\")\n",
        "plt.ylabel(\"Peringkat Juri 2\")\n",
        "plt.show()\n"
      ],
      "metadata": {
        "colab": {
          "base_uri": "https://localhost:8080/",
          "height": 489
        },
        "id": "zA0cG8ol12V2",
        "outputId": "9d82577b-40a3-4124-f670-42dac06cb81a"
      },
      "execution_count": 10,
      "outputs": [
        {
          "output_type": "stream",
          "name": "stdout",
          "text": [
            "Korelasi Kendall: 0.6\n"
          ]
        },
        {
          "output_type": "display_data",
          "data": {
            "text/plain": [
              "<Figure size 640x480 with 1 Axes>"
            ],
            "image/png": "[encoded data removed]"
          },
          "metadata": {}
        }
      ]
    },
    {
      "cell_type": "markdown",
      "source": [
        "Interpretasi: Jika hasilnya mendekati 1, berarti peringkat yang diberikan oleh kedua juri sangat konsisten satu sama lain."
      ],
      "metadata": {
        "id": "2FYiTpCP3XJW"
      }
    },
    {
      "cell_type": "markdown",
      "source": [
        "Correlation Value Means\n",
        "Pearson's r Value --- Correlation Between x and y\n",
        "1. Equal to 1 --- Perfect positive linear relationship\n",
        "2. Greater than 0 ---  Positive Correlation\n",
        "3. Equal to 0 --- independent\n",
        "4. Less than 0 --- negative correlation\n",
        "5. Equal to -1 --- Perfect negative linear relationship"
      ],
      "metadata": {
        "id": "_jLIeeikEWbt"
      }
    },
    {
      "cell_type": "code",
      "source": [
        "# Import pustaka pandas\n",
        "import pandas as pd\n",
        "\n",
        "# Membuat data untuk tabel\n",
        "data = {\n",
        "    \"Pearson's r Value\": [\"Equal to 1\", \"Greater than 0\", \"Equal to 0\", \"Less than 0\", \"Equal to -1\"],\n",
        "    \"Correlation Between x and y\": [\n",
        "        \"Perfect positive linear relationship\",\n",
        "        \"Positive Correlation\",\n",
        "        \"Independent\",\n",
        "        \"Negative Correlation\",\n",
        "        \"Perfect negative linear relationship\"\n",
        "    ]\n",
        "}\n",
        "\n",
        "# Membuat DataFrame\n",
        "df = pd.DataFrame(data)\n",
        "\n",
        "# Menampilkan tabel\n",
        "df\n",
        "\n"
      ],
      "metadata": {
        "colab": {
          "base_uri": "https://localhost:8080/",
          "height": 247
        },
        "id": "7jPKYFPryIkK",
        "outputId": "34e6f098-be2b-48e6-b80d-2d71cd32a56a"
      },
      "execution_count": 2,
      "outputs": [
        {
          "output_type": "execute_result",
          "data": {
            "text/plain": [
              "  Pearson's r Value           Correlation Between x and y\n",
              "0        Equal to 1  Perfect positive linear relationship\n",
              "1    Greater than 0                  Positive Correlation\n",
              "2        Equal to 0                           Independent\n",
              "3       Less than 0                  Negative Correlation\n",
              "4       Equal to -1  Perfect negative linear relationship"
            ],
            "text/html": [
              "\n",
              "  <div id=\"df-7cacf9b0-95ff-460d-8329-916c8870bbf3\" class=\"colab-df-container\">\n",
              "    <div>\n",
              "<style scoped>\n",
              "    .dataframe tbody tr th:only-of-type {\n",
              "        vertical-align: middle;\n",
              "    }\n",
              "\n",
              "    .dataframe tbody tr th {\n",
              "        vertical-align: top;\n",
              "    }\n",
              "\n",
              "    .dataframe thead th {\n",
              "        text-align: right;\n",
              "    }\n",
              "</style>\n",
              "<table border=\"1\" class=\"dataframe\">\n",
              "  <thead>\n",
              "    <tr style=\"text-align: right;\">\n",
              "      <th></th>\n",
              "      <th>Pearson's r Value</th>\n",
              "      <th>Correlation Between x and y</th>\n",
              "    </tr>\n",
              "  </thead>\n",
              "  <tbody>\n",
              "    <tr>\n",
              "      <th>0</th>\n",
              "      <td>Equal to 1</td>\n",
              "      <td>Perfect positive linear relationship</td>\n",
              "    </tr>\n",
              "    <tr>\n",
              "      <th>1</th>\n",
              "      <td>Greater than 0</td>\n",
              "      <td>Positive Correlation</td>\n",
              "    </tr>\n",
              "    <tr>\n",
              "      <th>2</th>\n",
              "      <td>Equal to 0</td>\n",
              "      <td>Independent</td>\n",
              "    </tr>\n",
              "    <tr>\n",
              "      <th>3</th>\n",
              "      <td>Less than 0</td>\n",
              "      <td>Negative Correlation</td>\n",
              "    </tr>\n",
              "    <tr>\n",
              "      <th>4</th>\n",
              "      <td>Equal to -1</td>\n",
              "      <td>Perfect negative linear relationship</td>\n",
              "    </tr>\n",
              "  </tbody>\n",
              "</table>\n",
              "</div>\n",
              "    <div class=\"colab-df-buttons\">\n",
              "\n",
              "  <div class=\"colab-df-container\">\n",
              "    <button class=\"colab-df-convert\" onclick=\"convertToInteractive('df-7cacf9b0-95ff-460d-8329-916c8870bbf3')\"\n",
              "            title=\"Convert this dataframe to an interactive table.\"\n",
              "            style=\"display:none;\">\n",
              "\n",
              "  <svg xmlns=\"http://www.w3.org/2000/svg\" height=\"24px\" viewBox=\"0 -960 960 960\">\n",
              "    <path d=\"M120-120v-720h720v720H120Zm60-500h600v-160H180v160Zm220 220h160v-160H400v160Zm0 220h160v-160H400v160ZM180-400h160v-160H180v160Zm440 0h160v-160H620v160ZM180-180h160v-160H180v160Zm440 0h160v-160H620v160Z\"/>\n",
              "  </svg>\n",
              "    </button>\n",
              "\n",
              "  <style>\n",
              "    .colab-df-container {\n",
              "      display:flex;\n",
              "      gap: 12px;\n",
              "    }\n",
              "\n",
              "    .colab-df-convert {\n",
              "      background-color: #E8F0FE;\n",
              "      border: none;\n",
              "      border-radius: 50%;\n",
              "      cursor: pointer;\n",
              "      display: none;\n",
              "      fill: #1967D2;\n",
              "      height: 32px;\n",
              "      padding: 0 0 0 0;\n",
              "      width: 32px;\n",
              "    }\n",
              "\n",
              "    .colab-df-convert:hover {\n",
              "      background-color: #E2EBFA;\n",
              "      box-shadow: 0px 1px 2px rgba(60, 64, 67, 0.3), 0px 1px 3px 1px rgba(60, 64, 67, 0.15);\n",
              "      fill: #174EA6;\n",
              "    }\n",
              "\n",
              "    .colab-df-buttons div {\n",
              "      margin-bottom: 4px;\n",
              "    }\n",
              "\n",
              "    [theme=dark] .colab-df-convert {\n",
              "      background-color: #3B4455;\n",
              "      fill: #D2E3FC;\n",
              "    }\n",
              "\n",
              "    [theme=dark] .colab-df-convert:hover {\n",
              "      background-color: #434B5C;\n",
              "      box-shadow: 0px 1px 3px 1px rgba(0, 0, 0, 0.15);\n",
              "      filter: drop-shadow(0px 1px 2px rgba(0, 0, 0, 0.3));\n",
              "      fill: #FFFFFF;\n",
              "    }\n",
              "  </style>\n",
              "\n",
              "    <script>\n",
              "      const buttonEl =\n",
              "        document.querySelector('#df-7cacf9b0-95ff-460d-8329-916c8870bbf3 button.colab-df-convert');\n",
              "      buttonEl.style.display =\n",
              "        google.colab.kernel.accessAllowed ? 'block' : 'none';\n",
              "\n",
              "      async function convertToInteractive(key) {\n",
              "        const element = document.querySelector('#df-7cacf9b0-95ff-460d-8329-916c8870bbf3');\n",
              "        const dataTable =\n",
              "          await google.colab.kernel.invokeFunction('convertToInteractive',\n",
              "                                                    [key], {});\n",
              "        if (!dataTable) return;\n",
              "\n",
              "        const docLinkHtml = 'Like what you see? Visit the ' +\n",
              "          '<a target=\"_blank\" href=https://colab.research.google.com/notebooks/data_table.ipynb>data table notebook</a>'\n",
              "          + ' to learn more about interactive tables.';\n",
              "        element.innerHTML = '';\n",
              "        dataTable['output_type'] = 'display_data';\n",
              "        await google.colab.output.renderOutput(dataTable, element);\n",
              "        const docLink = document.createElement('div');\n",
              "        docLink.innerHTML = docLinkHtml;\n",
              "        element.appendChild(docLink);\n",
              "      }\n",
              "    </script>\n",
              "  </div>\n",
              "\n",
              "\n",
              "<div id=\"df-54b8a796-a54d-4cb6-9c71-0e0eaa9d8243\">\n",
              "  <button class=\"colab-df-quickchart\" onclick=\"quickchart('df-54b8a796-a54d-4cb6-9c71-0e0eaa9d8243')\"\n",
              "            title=\"Suggest charts\"\n",
              "            style=\"display:none;\">\n",
              "\n",
              "<svg xmlns=\"http://www.w3.org/2000/svg\" height=\"24px\"viewBox=\"0 0 24 24\"\n",
              "     width=\"24px\">\n",
              "    <g>\n",
              "        <path d=\"M19 3H5c-1.1 0-2 .9-2 2v14c0 1.1.9 2 2 2h14c1.1 0 2-.9 2-2V5c0-1.1-.9-2-2-2zM9 17H7v-7h2v7zm4 0h-2V7h2v10zm4 0h-2v-4h2v4z\"/>\n",
              "    </g>\n",
              "</svg>\n",
              "  </button>\n",
              "\n",
              "<style>\n",
              "  .colab-df-quickchart {\n",
              "      --bg-color: #E8F0FE;\n",
              "      --fill-color: #1967D2;\n",
              "      --hover-bg-color: #E2EBFA;\n",
              "      --hover-fill-color: #174EA6;\n",
              "      --disabled-fill-color: #AAA;\n",
              "      --disabled-bg-color: #DDD;\n",
              "  }\n",
              "\n",
              "  [theme=dark] .colab-df-quickchart {\n",
              "      --bg-color: #3B4455;\n",
              "      --fill-color: #D2E3FC;\n",
              "      --hover-bg-color: #434B5C;\n",
              "      --hover-fill-color: #FFFFFF;\n",
              "      --disabled-bg-color: #3B4455;\n",
              "      --disabled-fill-color: #666;\n",
              "  }\n",
              "\n",
              "  .colab-df-quickchart {\n",
              "    background-color: var(--bg-color);\n",
              "    border: none;\n",
              "    border-radius: 50%;\n",
              "    cursor: pointer;\n",
              "    display: none;\n",
              "    fill: var(--fill-color);\n",
              "    height: 32px;\n",
              "    padding: 0;\n",
              "    width: 32px;\n",
              "  }\n",
              "\n",
              "  .colab-df-quickchart:hover {\n",
              "    background-color: var(--hover-bg-color);\n",
              "    box-shadow: 0 1px 2px rgba(60, 64, 67, 0.3), 0 1px 3px 1px rgba(60, 64, 67, 0.15);\n",
              "    fill: var(--button-hover-fill-color);\n",
              "  }\n",
              "\n",
              "  .colab-df-quickchart-complete:disabled,\n",
              "  .colab-df-quickchart-complete:disabled:hover {\n",
              "    background-color: var(--disabled-bg-color);\n",
              "    fill: var(--disabled-fill-color);\n",
              "    box-shadow: none;\n",
              "  }\n",
              "\n",
              "  .colab-df-spinner {\n",
              "    border: 2px solid var(--fill-color);\n",
              "    border-color: transparent;\n",
              "    border-bottom-color: var(--fill-color);\n",
              "    animation:\n",
              "      spin 1s steps(1) infinite;\n",
              "  }\n",
              "\n",
              "  @keyframes spin {\n",
              "    0% {\n",
              "      border-color: transparent;\n",
              "      border-bottom-color: var(--fill-color);\n",
              "      border-left-color: var(--fill-color);\n",
              "    }\n",
              "    20% {\n",
              "      border-color: transparent;\n",
              "      border-left-color: var(--fill-color);\n",
              "      border-top-color: var(--fill-color);\n",
              "    }\n",
              "    30% {\n",
              "      border-color: transparent;\n",
              "      border-left-color: var(--fill-color);\n",
              "      border-top-color: var(--fill-color);\n",
              "      border-right-color: var(--fill-color);\n",
              "    }\n",
              "    40% {\n",
              "      border-color: transparent;\n",
              "      border-right-color: var(--fill-color);\n",
              "      border-top-color: var(--fill-color);\n",
              "    }\n",
              "    60% {\n",
              "      border-color: transparent;\n",
              "      border-right-color: var(--fill-color);\n",
              "    }\n",
              "    80% {\n",
              "      border-color: transparent;\n",
              "      border-right-color: var(--fill-color);\n",
              "      border-bottom-color: var(--fill-color);\n",
              "    }\n",
              "    90% {\n",
              "      border-color: transparent;\n",
              "      border-bottom-color: var(--fill-color);\n",
              "    }\n",
              "  }\n",
              "</style>\n",
              "\n",
              "  <script>\n",
              "    async function quickchart(key) {\n",
              "      const quickchartButtonEl =\n",
              "        document.querySelector('#' + key + ' button');\n",
              "      quickchartButtonEl.disabled = true;  // To prevent multiple clicks.\n",
              "      quickchartButtonEl.classList.add('colab-df-spinner');\n",
              "      try {\n",
              "        const charts = await google.colab.kernel.invokeFunction(\n",
              "            'suggestCharts', [key], {});\n",
              "      } catch (error) {\n",
              "        console.error('Error during call to suggestCharts:', error);\n",
              "      }\n",
              "      quickchartButtonEl.classList.remove('colab-df-spinner');\n",
              "      quickchartButtonEl.classList.add('colab-df-quickchart-complete');\n",
              "    }\n",
              "    (() => {\n",
              "      let quickchartButtonEl =\n",
              "        document.querySelector('#df-54b8a796-a54d-4cb6-9c71-0e0eaa9d8243 button');\n",
              "      quickchartButtonEl.style.display =\n",
              "        google.colab.kernel.accessAllowed ? 'block' : 'none';\n",
              "    })();\n",
              "  </script>\n",
              "</div>\n",
              "\n",
              "  <div id=\"id_033f1907-f1ed-4c26-ac52-861847651ebf\">\n",
              "    <style>\n",
              "      .colab-df-generate {\n",
              "        background-color: #E8F0FE;\n",
              "        border: none;\n",
              "        border-radius: 50%;\n",
              "        cursor: pointer;\n",
              "        display: none;\n",
              "        fill: #1967D2;\n",
              "        height: 32px;\n",
              "        padding: 0 0 0 0;\n",
              "        width: 32px;\n",
              "      }\n",
              "\n",
              "      .colab-df-generate:hover {\n",
              "        background-color: #E2EBFA;\n",
              "        box-shadow: 0px 1px 2px rgba(60, 64, 67, 0.3), 0px 1px 3px 1px rgba(60, 64, 67, 0.15);\n",
              "        fill: #174EA6;\n",
              "      }\n",
              "\n",
              "      [theme=dark] .colab-df-generate {\n",
              "        background-color: #3B4455;\n",
              "        fill: #D2E3FC;\n",
              "      }\n",
              "\n",
              "      [theme=dark] .colab-df-generate:hover {\n",
              "        background-color: #434B5C;\n",
              "        box-shadow: 0px 1px 3px 1px rgba(0, 0, 0, 0.15);\n",
              "        filter: drop-shadow(0px 1px 2px rgba(0, 0, 0, 0.3));\n",
              "        fill: #FFFFFF;\n",
              "      }\n",
              "    </style>\n",
              "    <button class=\"colab-df-generate\" onclick=\"generateWithVariable('df')\"\n",
              "            title=\"Generate code using this dataframe.\"\n",
              "            style=\"display:none;\">\n",
              "\n",
              "  <svg xmlns=\"http://www.w3.org/2000/svg\" height=\"24px\"viewBox=\"0 0 24 24\"\n",
              "       width=\"24px\">\n",
              "    <path d=\"M7,19H8.4L18.45,9,17,7.55,7,17.6ZM5,21V16.75L18.45,3.32a2,2,0,0,1,2.83,0l1.4,1.43a1.91,1.91,0,0,1,.58,1.4,1.91,1.91,0,0,1-.58,1.4L9.25,21ZM18.45,9,17,7.55Zm-12,3A5.31,5.31,0,0,0,4.9,8.1,5.31,5.31,0,0,0,1,6.5,5.31,5.31,0,0,0,4.9,4.9,5.31,5.31,0,0,0,6.5,1,5.31,5.31,0,0,0,8.1,4.9,5.31,5.31,0,0,0,12,6.5,5.46,5.46,0,0,0,6.5,12Z\"/>\n",
              "  </svg>\n",
              "    </button>\n",
              "    <script>\n",
              "      (() => {\n",
              "      const buttonEl =\n",
              "        document.querySelector('#id_033f1907-f1ed-4c26-ac52-861847651ebf button.colab-df-generate');\n",
              "      buttonEl.style.display =\n",
              "        google.colab.kernel.accessAllowed ? 'block' : 'none';\n",
              "\n",
              "      buttonEl.onclick = () => {\n",
              "        google.colab.notebook.generateWithVariable('df');\n",
              "      }\n",
              "      })();\n",
              "    </script>\n",
              "  </div>\n",
              "\n",
              "    </div>\n",
              "  </div>\n"
            ],
            "application/vnd.google.colaboratory.intrinsic+json": {
              "type": "dataframe",
              "variable_name": "df",
              "summary": "{\n  \"name\": \"df\",\n  \"rows\": 5,\n  \"fields\": [\n    {\n      \"column\": \"Pearson's r Value\",\n      \"properties\": {\n        \"dtype\": \"string\",\n        \"num_unique_values\": 5,\n        \"samples\": [\n          \"Greater than 0\",\n          \"Equal to -1\",\n          \"Equal to 0\"\n        ],\n        \"semantic_type\": \"\",\n        \"description\": \"\"\n      }\n    },\n    {\n      \"column\": \"Correlation Between x and y\",\n      \"properties\": {\n        \"dtype\": \"string\",\n        \"num_unique_values\": 5,\n        \"samples\": [\n          \"Positive Correlation\",\n          \"Perfect negative linear relationship\",\n          \"Independent\"\n        ],\n        \"semantic_type\": \"\",\n        \"description\": \"\"\n      }\n    }\n  ]\n}"
            }
          },
          "metadata": {},
          "execution_count": 2
        }
      ]
    },
    {
      "cell_type": "markdown",
      "source": [],
      "metadata": {
        "id": "rH8Et5Jsxu1Q"
      }
    }
  ]
}