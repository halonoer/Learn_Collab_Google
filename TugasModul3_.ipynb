{
  "cells": [
    {
      "cell_type": "markdown",
      "metadata": {
        "id": "view-in-github",
        "colab_type": "text"
      },
      "source": [
        "<a href=\"https://colab.research.google.com/github/halonoer/Learn_Collab_Google/blob/main/TugasModul3_.ipynb\" target=\"_parent\"><img src=\"https://colab.research.google.com/assets/colab-badge.svg\" alt=\"Open In Colab\"/></a>"
      ]
    },
    {
      "cell_type": "markdown",
      "metadata": {
        "id": "95KoEvfk1EtX"
      },
      "source": [
        "> ## **Upload Data**"
      ]
    },
    {
      "cell_type": "code",
      "execution_count": null,
      "metadata": {
        "colab": {
          "base_uri": "https://localhost:8080/",
          "height": 73
        },
        "id": "0kP1Pgt50vr3",
        "outputId": "f3989f49-a9ad-424c-950c-d2789d298e52"
      },
      "outputs": [
        {
          "output_type": "display_data",
          "data": {
            "text/plain": [
              "<IPython.core.display.HTML object>"
            ],
            "text/html": [
              "\n",
              "     <input type=\"file\" id=\"files-adba9f99-b8e6-4309-a16a-64f0850b525b\" name=\"files[]\" multiple disabled\n",
              "        style=\"border:none\" />\n",
              "     <output id=\"result-adba9f99-b8e6-4309-a16a-64f0850b525b\">\n",
              "      Upload widget is only available when the cell has been executed in the\n",
              "      current browser session. Please rerun this cell to enable.\n",
              "      </output>\n",
              "      <script>// Copyright 2017 Google LLC\n",
              "//\n",
              "// Licensed under the Apache License, Version 2.0 (the \"License\");\n",
              "// you may not use this file except in compliance with the License.\n",
              "// You may obtain a copy of the License at\n",
              "//\n",
              "//      http://www.apache.org/licenses/LICENSE-2.0\n",
              "//\n",
              "// Unless required by applicable law or agreed to in writing, software\n",
              "// distributed under the License is distributed on an \"AS IS\" BASIS,\n",
              "// WITHOUT WARRANTIES OR CONDITIONS OF ANY KIND, either express or implied.\n",
              "// See the License for the specific language governing permissions and\n",
              "// limitations under the License.\n",
              "\n",
              "/**\n",
              " * @fileoverview Helpers for google.colab Python module.\n",
              " */\n",
              "(function(scope) {\n",
              "function span(text, styleAttributes = {}) {\n",
              "  const element = document.createElement('span');\n",
              "  element.textContent = text;\n",
              "  for (const key of Object.keys(styleAttributes)) {\n",
              "    element.style[key] = styleAttributes[key];\n",
              "  }\n",
              "  return element;\n",
              "}\n",
              "\n",
              "// Max number of bytes which will be uploaded at a time.\n",
              "const MAX_PAYLOAD_SIZE = 100 * 1024;\n",
              "\n",
              "function _uploadFiles(inputId, outputId) {\n",
              "  const steps = uploadFilesStep(inputId, outputId);\n",
              "  const outputElement = document.getElementById(outputId);\n",
              "  // Cache steps on the outputElement to make it available for the next call\n",
              "  // to uploadFilesContinue from Python.\n",
              "  outputElement.steps = steps;\n",
              "\n",
              "  return _uploadFilesContinue(outputId);\n",
              "}\n",
              "\n",
              "// This is roughly an async generator (not supported in the browser yet),\n",
              "// where there are multiple asynchronous steps and the Python side is going\n",
              "// to poll for completion of each step.\n",
              "// This uses a Promise to block the python side on completion of each step,\n",
              "// then passes the result of the previous step as the input to the next step.\n",
              "function _uploadFilesContinue(outputId) {\n",
              "  const outputElement = document.getElementById(outputId);\n",
              "  const steps = outputElement.steps;\n",
              "\n",
              "  const next = steps.next(outputElement.lastPromiseValue);\n",
              "  return Promise.resolve(next.value.promise).then((value) => {\n",
              "    // Cache the last promise value to make it available to the next\n",
              "    // step of the generator.\n",
              "    outputElement.lastPromiseValue = value;\n",
              "    return next.value.response;\n",
              "  });\n",
              "}\n",
              "\n",
              "/**\n",
              " * Generator function which is called between each async step of the upload\n",
              " * process.\n",
              " * @param {string} inputId Element ID of the input file picker element.\n",
              " * @param {string} outputId Element ID of the output display.\n",
              " * @return {!Iterable<!Object>} Iterable of next steps.\n",
              " */\n",
              "function* uploadFilesStep(inputId, outputId) {\n",
              "  const inputElement = document.getElementById(inputId);\n",
              "  inputElement.disabled = false;\n",
              "\n",
              "  const outputElement = document.getElementById(outputId);\n",
              "  outputElement.innerHTML = '';\n",
              "\n",
              "  const pickedPromise = new Promise((resolve) => {\n",
              "    inputElement.addEventListener('change', (e) => {\n",
              "      resolve(e.target.files);\n",
              "    });\n",
              "  });\n",
              "\n",
              "  const cancel = document.createElement('button');\n",
              "  inputElement.parentElement.appendChild(cancel);\n",
              "  cancel.textContent = 'Cancel upload';\n",
              "  const cancelPromise = new Promise((resolve) => {\n",
              "    cancel.onclick = () => {\n",
              "      resolve(null);\n",
              "    };\n",
              "  });\n",
              "\n",
              "  // Wait for the user to pick the files.\n",
              "  const files = yield {\n",
              "    promise: Promise.race([pickedPromise, cancelPromise]),\n",
              "    response: {\n",
              "      action: 'starting',\n",
              "    }\n",
              "  };\n",
              "\n",
              "  cancel.remove();\n",
              "\n",
              "  // Disable the input element since further picks are not allowed.\n",
              "  inputElement.disabled = true;\n",
              "\n",
              "  if (!files) {\n",
              "    return {\n",
              "      response: {\n",
              "        action: 'complete',\n",
              "      }\n",
              "    };\n",
              "  }\n",
              "\n",
              "  for (const file of files) {\n",
              "    const li = document.createElement('li');\n",
              "    li.append(span(file.name, {fontWeight: 'bold'}));\n",
              "    li.append(span(\n",
              "        `(${file.type || 'n/a'}) - ${file.size} bytes, ` +\n",
              "        `last modified: ${\n",
              "            file.lastModifiedDate ? file.lastModifiedDate.toLocaleDateString() :\n",
              "                                    'n/a'} - `));\n",
              "    const percent = span('0% done');\n",
              "    li.appendChild(percent);\n",
              "\n",
              "    outputElement.appendChild(li);\n",
              "\n",
              "    const fileDataPromise = new Promise((resolve) => {\n",
              "      const reader = new FileReader();\n",
              "      reader.onload = (e) => {\n",
              "        resolve(e.target.result);\n",
              "      };\n",
              "      reader.readAsArrayBuffer(file);\n",
              "    });\n",
              "    // Wait for the data to be ready.\n",
              "    let fileData = yield {\n",
              "      promise: fileDataPromise,\n",
              "      response: {\n",
              "        action: 'continue',\n",
              "      }\n",
              "    };\n",
              "\n",
              "    // Use a chunked sending to avoid message size limits. See b/62115660.\n",
              "    let position = 0;\n",
              "    do {\n",
              "      const length = Math.min(fileData.byteLength - position, MAX_PAYLOAD_SIZE);\n",
              "      const chunk = new Uint8Array(fileData, position, length);\n",
              "      position += length;\n",
              "\n",
              "      const base64 = btoa(String.fromCharCode.apply(null, chunk));\n",
              "      yield {\n",
              "        response: {\n",
              "          action: 'append',\n",
              "          file: file.name,\n",
              "          data: base64,\n",
              "        },\n",
              "      };\n",
              "\n",
              "      let percentDone = fileData.byteLength === 0 ?\n",
              "          100 :\n",
              "          Math.round((position / fileData.byteLength) * 100);\n",
              "      percent.textContent = `${percentDone}% done`;\n",
              "\n",
              "    } while (position < fileData.byteLength);\n",
              "  }\n",
              "\n",
              "  // All done.\n",
              "  yield {\n",
              "    response: {\n",
              "      action: 'complete',\n",
              "    }\n",
              "  };\n",
              "}\n",
              "\n",
              "scope.google = scope.google || {};\n",
              "scope.google.colab = scope.google.colab || {};\n",
              "scope.google.colab._files = {\n",
              "  _uploadFiles,\n",
              "  _uploadFilesContinue,\n",
              "};\n",
              "})(self);\n",
              "</script> "
            ]
          },
          "metadata": {}
        },
        {
          "output_type": "stream",
          "name": "stdout",
          "text": [
            "Saving Eps2-Data-train.csv to Eps2-Data-train.csv\n"
          ]
        }
      ],
      "source": [
        "from google.colab import files\n",
        "uploaded = files.upload()"
      ]
    },
    {
      "cell_type": "markdown",
      "metadata": {
        "id": "s9BiNJDf1Xt9"
      },
      "source": [
        "**Ini mengimpor pustaka pandas**"
      ]
    },
    {
      "cell_type": "code",
      "source": [
        "import pandas as pd\n",
        "import io\n",
        "data1 = pd.read_csv(io.BytesIO(uploaded['Eps2-Data-train.csv']))"
      ],
      "metadata": {
        "id": "G05Rz3j3nx1t"
      },
      "execution_count": null,
      "outputs": []
    },
    {
      "cell_type": "markdown",
      "source": [
        "> ## **Remove Data**"
      ],
      "metadata": {
        "id": "kfFxaUycnf9O"
      }
    },
    {
      "cell_type": "code",
      "source": [
        "import os\n",
        "\n",
        "# Menghapus file\n",
        "os.remove('Eps2-Data-train (5).csv')\n",
        "print(\"File telah dihapus\")\n"
      ],
      "metadata": {
        "colab": {
          "base_uri": "https://localhost:8080/"
        },
        "id": "SLyA16ZMnlR_",
        "outputId": "934d8595-c61e-4def-aa0b-01b5e2148172"
      },
      "execution_count": null,
      "outputs": [
        {
          "output_type": "stream",
          "name": "stdout",
          "text": [
            "File telah dihapus\n"
          ]
        }
      ]
    },
    {
      "cell_type": "markdown",
      "metadata": {
        "id": "GyaaAHRyDKki"
      },
      "source": [
        "> ## Penanganan Missing Value"
      ]
    },
    {
      "cell_type": "markdown",
      "metadata": {
        "id": "-aWoyTi22Gqm"
      },
      "source": [
        "Cek atribut yang memiliki missing value dan berapa jumlah missing valuenya."
      ]
    },
    {
      "cell_type": "code",
      "execution_count": null,
      "metadata": {
        "colab": {
          "base_uri": "https://localhost:8080/"
        },
        "id": "gD-xAX3i2KmB",
        "outputId": "ce2fdbe4-21da-496c-d99f-17ee9c4efc2f"
      },
      "outputs": [
        {
          "name": "stdout",
          "output_type": "stream",
          "text": [
            "PassengerId      0\n",
            "Survived         0\n",
            "Pclass           0\n",
            "Name             0\n",
            "Sex              0\n",
            "Age            177\n",
            "SibSp            0\n",
            "Parch            0\n",
            "Ticket           0\n",
            "Fare             0\n",
            "Cabin          687\n",
            "Embarked         2\n",
            "dtype: int64\n",
            "(891, 12)\n"
          ]
        }
      ],
      "source": [
        "print(data1.isnull().sum())\n",
        "print(data1.shape)"
      ]
    },
    {
      "cell_type": "markdown",
      "source": [
        "> ##  Hapus Atribut"
      ],
      "metadata": {
        "id": "Q2YC6XAx4U9M"
      }
    },
    {
      "cell_type": "markdown",
      "metadata": {
        "id": "RxEakDgQ2Zed"
      },
      "source": [
        "cara penghapusan satu atribut.  (Cabin)"
      ]
    },
    {
      "cell_type": "code",
      "execution_count": null,
      "metadata": {
        "id": "hcJpk_Lu2e8G"
      },
      "outputs": [],
      "source": [
        "data1.drop(['Cabin'], axis=1, inplace=True)"
      ]
    },
    {
      "cell_type": "markdown",
      "metadata": {
        "id": "KPdBbYcI2tqk"
      },
      "source": [
        "Tes lagi"
      ]
    },
    {
      "cell_type": "code",
      "execution_count": null,
      "metadata": {
        "colab": {
          "base_uri": "https://localhost:8080/"
        },
        "id": "qR8WGlyf2vxl",
        "outputId": "2370e3c0-cc12-4912-e828-b82163316780"
      },
      "outputs": [
        {
          "name": "stdout",
          "output_type": "stream",
          "text": [
            "PassengerId      0\n",
            "Survived         0\n",
            "Pclass           0\n",
            "Name             0\n",
            "Sex              0\n",
            "Age            177\n",
            "SibSp            0\n",
            "Parch            0\n",
            "Ticket           0\n",
            "Fare             0\n",
            "Embarked         2\n",
            "dtype: int64\n",
            "(891, 11)\n"
          ]
        }
      ],
      "source": [
        "print(data1.isnull().sum())\n",
        "print(data1.shape)"
      ]
    },
    {
      "cell_type": "markdown",
      "metadata": {
        "id": "OM38Krjv22kF"
      },
      "source": [
        "menghapus keseluruhan atribut yang memiliki missing value"
      ]
    },
    {
      "cell_type": "code",
      "execution_count": null,
      "metadata": {
        "id": "NzzE9nwe23im"
      },
      "outputs": [],
      "source": [
        "data1.dropna(axis=1, inplace=True)"
      ]
    },
    {
      "cell_type": "markdown",
      "metadata": {
        "id": "zpmPZO2P29ut"
      },
      "source": [
        "Cek apakah atribut yang mengandung missing value seluruhnya terhapus?"
      ]
    },
    {
      "cell_type": "code",
      "execution_count": null,
      "metadata": {
        "colab": {
          "base_uri": "https://localhost:8080/"
        },
        "id": "Dnr0rF1N2_He",
        "outputId": "fa5c3d38-d123-4ec0-a76c-e2866680eef4"
      },
      "outputs": [
        {
          "name": "stdout",
          "output_type": "stream",
          "text": [
            "PassengerId    0\n",
            "Survived       0\n",
            "Pclass         0\n",
            "Name           0\n",
            "Sex            0\n",
            "SibSp          0\n",
            "Parch          0\n",
            "Ticket         0\n",
            "Fare           0\n",
            "dtype: int64\n",
            "(891, 9)\n"
          ]
        }
      ],
      "source": [
        "print(data1.isnull().sum())\n",
        "print(data1.shape)"
      ]
    },
    {
      "cell_type": "markdown",
      "metadata": {
        "id": "wcmFUFtC3HgE"
      },
      "source": [
        "buat data baru (2)"
      ]
    },
    {
      "cell_type": "code",
      "execution_count": null,
      "metadata": {
        "id": "2-1Z9WBn3Mhd"
      },
      "outputs": [],
      "source": [
        "import pandas as pd\n",
        "import io\n",
        "data2 = pd.read_csv(io.BytesIO(uploaded['Eps2-Data-train.csv']))"
      ]
    },
    {
      "cell_type": "markdown",
      "metadata": {
        "id": "_RQ7RGDq3cMF"
      },
      "source": [
        "cek data baru"
      ]
    },
    {
      "cell_type": "code",
      "execution_count": null,
      "metadata": {
        "colab": {
          "base_uri": "https://localhost:8080/"
        },
        "id": "FX3XgaWM3nD2",
        "outputId": "413187e5-82a0-4066-c55a-11f442a63b20"
      },
      "outputs": [
        {
          "name": "stdout",
          "output_type": "stream",
          "text": [
            "PassengerId      0\n",
            "Survived         0\n",
            "Pclass           0\n",
            "Name             0\n",
            "Sex              0\n",
            "Age            177\n",
            "SibSp            0\n",
            "Parch            0\n",
            "Ticket           0\n",
            "Fare             0\n",
            "Cabin          687\n",
            "Embarked         2\n",
            "dtype: int64\n",
            "(891, 12)\n"
          ]
        }
      ],
      "source": [
        "print(data2.isnull().sum())\n",
        "print(data2.shape)"
      ]
    },
    {
      "cell_type": "markdown",
      "metadata": {
        "id": "v6I3tW0t54iD"
      },
      "source": [
        "Menghapus baris dengan nilai kosong di kolom \"Embarked\""
      ]
    },
    {
      "cell_type": "code",
      "execution_count": null,
      "metadata": {
        "id": "swg3C28_6Bt7"
      },
      "outputs": [],
      "source": [
        "data2.dropna(subset=[\"Embarked\"], inplace=True)"
      ]
    },
    {
      "cell_type": "markdown",
      "metadata": {
        "id": "Rdn3ZJhF6Eh8"
      },
      "source": [
        "Memeriksa kembali jumlah nilai null setelah penghapusan"
      ]
    },
    {
      "cell_type": "code",
      "execution_count": null,
      "metadata": {
        "colab": {
          "base_uri": "https://localhost:8080/"
        },
        "id": "an_vEz1S6GQT",
        "outputId": "38a0b66c-54ca-47f4-f491-dd04b9085254"
      },
      "outputs": [
        {
          "name": "stdout",
          "output_type": "stream",
          "text": [
            "PassengerId      0\n",
            "Survived         0\n",
            "Pclass           0\n",
            "Name             0\n",
            "Sex              0\n",
            "Age            177\n",
            "SibSp            0\n",
            "Parch            0\n",
            "Ticket           0\n",
            "Fare             0\n",
            "Cabin          687\n",
            "Embarked         0\n",
            "dtype: int64\n",
            "(889, 12)\n"
          ]
        }
      ],
      "source": [
        "print(data2.isnull().sum())\n",
        "print(data2.shape)"
      ]
    },
    {
      "cell_type": "markdown",
      "metadata": {
        "id": "hGmIx2SVFrWk"
      },
      "source": [
        "Data Embarked menjadi 0"
      ]
    },
    {
      "cell_type": "markdown",
      "metadata": {
        "id": "lJJBEe7s6ygy"
      },
      "source": [
        "menghapus keseluruhan instance yang memiliki miminal 1 missing value"
      ]
    },
    {
      "cell_type": "code",
      "execution_count": null,
      "metadata": {
        "id": "yasY0fki65nh"
      },
      "outputs": [],
      "source": [
        "data2.dropna(inplace=True)"
      ]
    },
    {
      "cell_type": "markdown",
      "metadata": {
        "id": "B1mQqrOo7IfS"
      },
      "source": [
        "Tugas 2: Cek apakah baris yang mengandung missing value seluruhnya terhapus?"
      ]
    },
    {
      "cell_type": "code",
      "execution_count": null,
      "metadata": {
        "colab": {
          "base_uri": "https://localhost:8080/"
        },
        "id": "g1LwlV_y7JlE",
        "outputId": "0092621f-bd7b-424e-d38d-de1fc4c61fad"
      },
      "outputs": [
        {
          "name": "stdout",
          "output_type": "stream",
          "text": [
            "PassengerId    0\n",
            "Survived       0\n",
            "Pclass         0\n",
            "Name           0\n",
            "Sex            0\n",
            "Age            0\n",
            "SibSp          0\n",
            "Parch          0\n",
            "Ticket         0\n",
            "Fare           0\n",
            "Cabin          0\n",
            "Embarked       0\n",
            "dtype: int64\n",
            "(183, 12)\n"
          ]
        }
      ],
      "source": [
        "print(data2.isnull().sum())\n",
        "print(data2.shape)"
      ]
    },
    {
      "cell_type": "markdown",
      "metadata": {
        "id": "orydV3TaFx5c"
      },
      "source": [
        "Iya, semua data terhapus yang mengandung Missing Value"
      ]
    },
    {
      "cell_type": "markdown",
      "source": [
        "> ## Metode Imputation"
      ],
      "metadata": {
        "id": "RhAVHRVc42z3"
      }
    },
    {
      "cell_type": "markdown",
      "metadata": {
        "id": "TUZy8xz9GQ2N"
      },
      "source": [
        "Buat data baru (3)"
      ]
    },
    {
      "cell_type": "code",
      "execution_count": null,
      "metadata": {
        "id": "sb4W-7GVF-iz"
      },
      "outputs": [],
      "source": [
        "import pandas as pd\n",
        "import io\n",
        "data3 = pd.read_csv(io.BytesIO(uploaded['Eps2-Data-train.csv']))"
      ]
    },
    {
      "cell_type": "markdown",
      "metadata": {
        "id": "9N_HAypfHOME"
      },
      "source": [
        "Cek data"
      ]
    },
    {
      "cell_type": "code",
      "execution_count": null,
      "metadata": {
        "colab": {
          "base_uri": "https://localhost:8080/"
        },
        "id": "wtJmeGhAHSUR",
        "outputId": "5f9cee62-7466-415c-ca22-4f51340c214b"
      },
      "outputs": [
        {
          "output_type": "stream",
          "name": "stdout",
          "text": [
            "PassengerId      0\n",
            "Survived         0\n",
            "Pclass           0\n",
            "Name             0\n",
            "Sex              0\n",
            "Age            177\n",
            "SibSp            0\n",
            "Parch            0\n",
            "Ticket           0\n",
            "Fare             0\n",
            "Cabin          687\n",
            "Embarked         2\n",
            "dtype: int64\n",
            "(891, 12)\n"
          ]
        }
      ],
      "source": [
        "print(data3.isnull().sum())\n",
        "print(data3.shape)"
      ]
    },
    {
      "cell_type": "markdown",
      "metadata": {
        "id": "a9v-fdoFHoHx"
      },
      "source": [
        "Seluruh data yang missing, diisi dengan nilai rata-rata atau mean."
      ]
    },
    {
      "cell_type": "code",
      "execution_count": null,
      "metadata": {
        "id": "Z2tP16ZbrKq8"
      },
      "outputs": [],
      "source": [
        "# Mengisi nilai NaN pada kolom numerik dengan mean\n",
        "numeric_columns = data3.select_dtypes(include=['float64', 'int64']).columns\n",
        "data3[numeric_columns] = data3[numeric_columns].fillna(data3[numeric_columns].mean())\n"
      ]
    },
    {
      "cell_type": "code",
      "source": [
        "print(data3.isnull().sum())\n",
        "print(data3.shape)"
      ],
      "metadata": {
        "colab": {
          "base_uri": "https://localhost:8080/"
        },
        "id": "esMyGv-HLsst",
        "outputId": "b94ab0ba-8c67-46e3-dc83-3d3fe1e73f2e"
      },
      "execution_count": null,
      "outputs": [
        {
          "output_type": "stream",
          "name": "stdout",
          "text": [
            "PassengerId      0\n",
            "Survived         0\n",
            "Pclass           0\n",
            "Name             0\n",
            "Sex              0\n",
            "Age              0\n",
            "SibSp            0\n",
            "Parch            0\n",
            "Ticket           0\n",
            "Fare             0\n",
            "Cabin          687\n",
            "Embarked         2\n",
            "dtype: int64\n",
            "(891, 12)\n"
          ]
        }
      ]
    },
    {
      "cell_type": "markdown",
      "source": [
        "Jika dilihat pada hasil tersebut, atribut yang berhasil terisi (hilang missing valuenya) dengan\n",
        "nilai rata-rata hanyalah atribut ‘Age’.\n",
        "\n",
        "**Tugas 3:**\n",
        "- Jelaskan mengapa atribut ‘Cabin’ dan ‘Embarked’ tidak terisi?\n",
        "- Cari cara untuk mengisi atribut ‘Cabin’ dan ‘Embarked’ dan aplikasikan untuk mengisi\n",
        "missing value pada kedua data tersebut (pilih satu teknik saja)."
      ],
      "metadata": {
        "id": "OJbZKYLUMEs3"
      }
    },
    {
      "cell_type": "markdown",
      "source": [
        "\n",
        "Jelaskan mengapa atribut ‘Cabin’ dan ‘Embarked’ tidak terisi?\n",
        "\n",
        "untuk atribut tersebut yang merupakan data teks atau kategorical, sehingga tidak ada nilai rata-rata yang bisa dihitung"
      ],
      "metadata": {
        "id": "965j89mjWc5C"
      }
    },
    {
      "cell_type": "markdown",
      "source": [
        "Cari cara untuk mengisi atribut ‘Cabin’ dan ‘Embarked’ dan aplikasikan untuk mengisi missing value pada kedua data tersebut (pilih satu teknik saja).\n"
      ],
      "metadata": {
        "id": "Ec_LHXpmW8Mm"
      }
    },
    {
      "cell_type": "markdown",
      "source": [
        "cara mengisi Missing Value\n",
        "- Mengisi dengan modus (most frequent value): Teknik ini mengisi nilai yang hilang dengan nilai yang paling sering muncul dalam kolom tersebut.\n",
        "- Mengisi dengan nilai tertentu (misalnya, string \"Unknown\" untuk Cabin).\n",
        "- Mengisi dengan prediksi menggunakan model machine learning. (Lebih kompleks)"
      ],
      "metadata": {
        "id": "S99MX6tdXdIE"
      }
    },
    {
      "cell_type": "code",
      "source": [
        "# Mengisi missing value pada kolom 'Embarked' dengan modus (nilai yang paling sering muncul)\n",
        "most_frequent_embarked = data3['Embarked'].mode()[0]\n",
        "data3['Embarked'].fillna(most_frequent_embarked, inplace=True)\n",
        "\n",
        "# Mengisi missing value pada kolom 'Cabin' dengan string 'Unknown'\n",
        "data3['Cabin'].fillna('Unknown', inplace=True)\n",
        "\n",
        "# Mengecek kembali apakah masih ada missing value\n",
        "print(data3.isnull().sum())\n"
      ],
      "metadata": {
        "colab": {
          "base_uri": "https://localhost:8080/"
        },
        "id": "lxLkLxvcW_i6",
        "outputId": "7661eac4-ad98-4c01-8e58-de6da801ad11"
      },
      "execution_count": null,
      "outputs": [
        {
          "output_type": "stream",
          "name": "stdout",
          "text": [
            "PassengerId    0\n",
            "Survived       0\n",
            "Pclass         0\n",
            "Name           0\n",
            "Sex            0\n",
            "Age            0\n",
            "SibSp          0\n",
            "Parch          0\n",
            "Ticket         0\n",
            "Fare           0\n",
            "Cabin          0\n",
            "Embarked       0\n",
            "dtype: int64\n"
          ]
        }
      ]
    },
    {
      "cell_type": "markdown",
      "source": [
        "> ## Membuat Atribut Baru"
      ],
      "metadata": {
        "id": "JlreJxws5F-N"
      }
    },
    {
      "cell_type": "markdown",
      "source": [
        "Buat Data(4)"
      ],
      "metadata": {
        "id": "paTL5Zkd6AM9"
      }
    },
    {
      "cell_type": "code",
      "source": [
        "import pandas as pd\n",
        "import io\n",
        "data4 = pd.read_csv(io.BytesIO(uploaded['Eps2-Data-train.csv']))"
      ],
      "metadata": {
        "id": "NWhyegIh6O4l"
      },
      "execution_count": null,
      "outputs": []
    },
    {
      "cell_type": "markdown",
      "source": [
        "tes lagi"
      ],
      "metadata": {
        "id": "DEJmVuxV6dT2"
      }
    },
    {
      "cell_type": "code",
      "source": [
        "print(data4.isnull().sum())\n",
        "print(data4.shape)"
      ],
      "metadata": {
        "colab": {
          "base_uri": "https://localhost:8080/"
        },
        "id": "LgmLWKTT6eiN",
        "outputId": "be64965c-31b9-469f-a0ef-bb085ad4f84c"
      },
      "execution_count": null,
      "outputs": [
        {
          "output_type": "stream",
          "name": "stdout",
          "text": [
            "PassengerId      0\n",
            "Survived         0\n",
            "Pclass           0\n",
            "Name             0\n",
            "Sex              0\n",
            "Age            177\n",
            "SibSp            0\n",
            "Parch            0\n",
            "Ticket           0\n",
            "Fare             0\n",
            "Cabin          687\n",
            "Embarked         2\n",
            "dtype: int64\n",
            "(891, 12)\n"
          ]
        }
      ]
    },
    {
      "cell_type": "code",
      "source": [
        "# Menampilkan data dalam bentuk tabel\n",
        "print(data4)\n",
        "\n",
        "# Atau menampilkan 5 data pertama\n",
        "print(data4.head())"
      ],
      "metadata": {
        "colab": {
          "base_uri": "https://localhost:8080/"
        },
        "id": "7Mgus-yp6952",
        "outputId": "bd5aeb7c-90c7-4acf-e1d6-90834d2a1623"
      },
      "execution_count": null,
      "outputs": [
        {
          "output_type": "stream",
          "name": "stdout",
          "text": [
            "     PassengerId  Survived  Pclass  \\\n",
            "0              1         0       3   \n",
            "1              2         1       1   \n",
            "2              3         1       3   \n",
            "3              4         1       1   \n",
            "4              5         0       3   \n",
            "..           ...       ...     ...   \n",
            "886          887         0       2   \n",
            "887          888         1       1   \n",
            "888          889         0       3   \n",
            "889          890         1       1   \n",
            "890          891         0       3   \n",
            "\n",
            "                                                  Name     Sex   Age  SibSp  \\\n",
            "0                              Braund, Mr. Owen Harris    male  22.0      1   \n",
            "1    Cumings, Mrs. John Bradley (Florence Briggs Th...  female  38.0      1   \n",
            "2                               Heikkinen, Miss. Laina  female  26.0      0   \n",
            "3         Futrelle, Mrs. Jacques Heath (Lily May Peel)  female  35.0      1   \n",
            "4                             Allen, Mr. William Henry    male  35.0      0   \n",
            "..                                                 ...     ...   ...    ...   \n",
            "886                              Montvila, Rev. Juozas    male  27.0      0   \n",
            "887                       Graham, Miss. Margaret Edith  female  19.0      0   \n",
            "888           Johnston, Miss. Catherine Helen \"Carrie\"  female   NaN      1   \n",
            "889                              Behr, Mr. Karl Howell    male  26.0      0   \n",
            "890                                Dooley, Mr. Patrick    male  32.0      0   \n",
            "\n",
            "     Parch            Ticket     Fare Cabin Embarked  \n",
            "0        0         A/5 21171   7.2500   NaN        S  \n",
            "1        0          PC 17599  71.2833   C85        C  \n",
            "2        0  STON/O2. 3101282   7.9250   NaN        S  \n",
            "3        0            113803  53.1000  C123        S  \n",
            "4        0            373450   8.0500   NaN        S  \n",
            "..     ...               ...      ...   ...      ...  \n",
            "886      0            211536  13.0000   NaN        S  \n",
            "887      0            112053  30.0000   B42        S  \n",
            "888      2        W./C. 6607  23.4500   NaN        S  \n",
            "889      0            111369  30.0000  C148        C  \n",
            "890      0            370376   7.7500   NaN        Q  \n",
            "\n",
            "[891 rows x 12 columns]\n",
            "   PassengerId  Survived  Pclass  \\\n",
            "0            1         0       3   \n",
            "1            2         1       1   \n",
            "2            3         1       3   \n",
            "3            4         1       1   \n",
            "4            5         0       3   \n",
            "\n",
            "                                                Name     Sex   Age  SibSp  \\\n",
            "0                            Braund, Mr. Owen Harris    male  22.0      1   \n",
            "1  Cumings, Mrs. John Bradley (Florence Briggs Th...  female  38.0      1   \n",
            "2                             Heikkinen, Miss. Laina  female  26.0      0   \n",
            "3       Futrelle, Mrs. Jacques Heath (Lily May Peel)  female  35.0      1   \n",
            "4                           Allen, Mr. William Henry    male  35.0      0   \n",
            "\n",
            "   Parch            Ticket     Fare Cabin Embarked  \n",
            "0      0         A/5 21171   7.2500   NaN        S  \n",
            "1      0          PC 17599  71.2833   C85        C  \n",
            "2      0  STON/O2. 3101282   7.9250   NaN        S  \n",
            "3      0            113803  53.1000  C123        S  \n",
            "4      0            373450   8.0500   NaN        S  \n"
          ]
        }
      ]
    },
    {
      "cell_type": "markdown",
      "source": [
        "Cek isi data, apakah sesuai dengan yang diharapkan"
      ],
      "metadata": {
        "id": "44bpsV7g9WNG"
      }
    },
    {
      "cell_type": "code",
      "source": [
        "# Menampilkan 5 baris pertama dari tabel\n",
        "data4.head()\n",
        "\n"
      ],
      "metadata": {
        "colab": {
          "base_uri": "https://localhost:8080/",
          "height": 504
        },
        "id": "A033cYjg5JrC",
        "outputId": "64e62166-3a41-4956-86bf-a486656ecc93"
      },
      "execution_count": null,
      "outputs": [
        {
          "output_type": "execute_result",
          "data": {
            "text/plain": [
              "   PassengerId  Survived  Pclass  \\\n",
              "0            1         0       3   \n",
              "1            2         1       1   \n",
              "2            3         1       3   \n",
              "3            4         1       1   \n",
              "4            5         0       3   \n",
              "\n",
              "                                                Name     Sex   Age  SibSp  \\\n",
              "0                            Braund, Mr. Owen Harris    male  22.0      1   \n",
              "1  Cumings, Mrs. John Bradley (Florence Briggs Th...  female  38.0      1   \n",
              "2                             Heikkinen, Miss. Laina  female  26.0      0   \n",
              "3       Futrelle, Mrs. Jacques Heath (Lily May Peel)  female  35.0      1   \n",
              "4                           Allen, Mr. William Henry    male  35.0      0   \n",
              "\n",
              "   Parch            Ticket     Fare Cabin Embarked  \n",
              "0      0         A/5 21171   7.2500   NaN        S  \n",
              "1      0          PC 17599  71.2833   C85        C  \n",
              "2      0  STON/O2. 3101282   7.9250   NaN        S  \n",
              "3      0            113803  53.1000  C123        S  \n",
              "4      0            373450   8.0500   NaN        S  "
            ],
            "text/html": [
              "\n",
              "  <div id=\"df-2b09604e-337c-4340-b409-853b46847a72\" class=\"colab-df-container\">\n",
              "    <div>\n",
              "<style scoped>\n",
              "    .dataframe tbody tr th:only-of-type {\n",
              "        vertical-align: middle;\n",
              "    }\n",
              "\n",
              "    .dataframe tbody tr th {\n",
              "        vertical-align: top;\n",
              "    }\n",
              "\n",
              "    .dataframe thead th {\n",
              "        text-align: right;\n",
              "    }\n",
              "</style>\n",
              "<table border=\"1\" class=\"dataframe\">\n",
              "  <thead>\n",
              "    <tr style=\"text-align: right;\">\n",
              "      <th></th>\n",
              "      <th>PassengerId</th>\n",
              "      <th>Survived</th>\n",
              "      <th>Pclass</th>\n",
              "      <th>Name</th>\n",
              "      <th>Sex</th>\n",
              "      <th>Age</th>\n",
              "      <th>SibSp</th>\n",
              "      <th>Parch</th>\n",
              "      <th>Ticket</th>\n",
              "      <th>Fare</th>\n",
              "      <th>Cabin</th>\n",
              "      <th>Embarked</th>\n",
              "    </tr>\n",
              "  </thead>\n",
              "  <tbody>\n",
              "    <tr>\n",
              "      <th>0</th>\n",
              "      <td>1</td>\n",
              "      <td>0</td>\n",
              "      <td>3</td>\n",
              "      <td>Braund, Mr. Owen Harris</td>\n",
              "      <td>male</td>\n",
              "      <td>22.0</td>\n",
              "      <td>1</td>\n",
              "      <td>0</td>\n",
              "      <td>A/5 21171</td>\n",
              "      <td>7.2500</td>\n",
              "      <td>NaN</td>\n",
              "      <td>S</td>\n",
              "    </tr>\n",
              "    <tr>\n",
              "      <th>1</th>\n",
              "      <td>2</td>\n",
              "      <td>1</td>\n",
              "      <td>1</td>\n",
              "      <td>Cumings, Mrs. John Bradley (Florence Briggs Th...</td>\n",
              "      <td>female</td>\n",
              "      <td>38.0</td>\n",
              "      <td>1</td>\n",
              "      <td>0</td>\n",
              "      <td>PC 17599</td>\n",
              "      <td>71.2833</td>\n",
              "      <td>C85</td>\n",
              "      <td>C</td>\n",
              "    </tr>\n",
              "    <tr>\n",
              "      <th>2</th>\n",
              "      <td>3</td>\n",
              "      <td>1</td>\n",
              "      <td>3</td>\n",
              "      <td>Heikkinen, Miss. Laina</td>\n",
              "      <td>female</td>\n",
              "      <td>26.0</td>\n",
              "      <td>0</td>\n",
              "      <td>0</td>\n",
              "      <td>STON/O2. 3101282</td>\n",
              "      <td>7.9250</td>\n",
              "      <td>NaN</td>\n",
              "      <td>S</td>\n",
              "    </tr>\n",
              "    <tr>\n",
              "      <th>3</th>\n",
              "      <td>4</td>\n",
              "      <td>1</td>\n",
              "      <td>1</td>\n",
              "      <td>Futrelle, Mrs. Jacques Heath (Lily May Peel)</td>\n",
              "      <td>female</td>\n",
              "      <td>35.0</td>\n",
              "      <td>1</td>\n",
              "      <td>0</td>\n",
              "      <td>113803</td>\n",
              "      <td>53.1000</td>\n",
              "      <td>C123</td>\n",
              "      <td>S</td>\n",
              "    </tr>\n",
              "    <tr>\n",
              "      <th>4</th>\n",
              "      <td>5</td>\n",
              "      <td>0</td>\n",
              "      <td>3</td>\n",
              "      <td>Allen, Mr. William Henry</td>\n",
              "      <td>male</td>\n",
              "      <td>35.0</td>\n",
              "      <td>0</td>\n",
              "      <td>0</td>\n",
              "      <td>373450</td>\n",
              "      <td>8.0500</td>\n",
              "      <td>NaN</td>\n",
              "      <td>S</td>\n",
              "    </tr>\n",
              "  </tbody>\n",
              "</table>\n",
              "</div>\n",
              "    <div class=\"colab-df-buttons\">\n",
              "\n",
              "  <div class=\"colab-df-container\">\n",
              "    <button class=\"colab-df-convert\" onclick=\"convertToInteractive('df-2b09604e-337c-4340-b409-853b46847a72')\"\n",
              "            title=\"Convert this dataframe to an interactive table.\"\n",
              "            style=\"display:none;\">\n",
              "\n",
              "  <svg xmlns=\"http://www.w3.org/2000/svg\" height=\"24px\" viewBox=\"0 -960 960 960\">\n",
              "    <path d=\"M120-120v-720h720v720H120Zm60-500h600v-160H180v160Zm220 220h160v-160H400v160Zm0 220h160v-160H400v160ZM180-400h160v-160H180v160Zm440 0h160v-160H620v160ZM180-180h160v-160H180v160Zm440 0h160v-160H620v160Z\"/>\n",
              "  </svg>\n",
              "    </button>\n",
              "\n",
              "  <style>\n",
              "    .colab-df-container {\n",
              "      display:flex;\n",
              "      gap: 12px;\n",
              "    }\n",
              "\n",
              "    .colab-df-convert {\n",
              "      background-color: #E8F0FE;\n",
              "      border: none;\n",
              "      border-radius: 50%;\n",
              "      cursor: pointer;\n",
              "      display: none;\n",
              "      fill: #1967D2;\n",
              "      height: 32px;\n",
              "      padding: 0 0 0 0;\n",
              "      width: 32px;\n",
              "    }\n",
              "\n",
              "    .colab-df-convert:hover {\n",
              "      background-color: #E2EBFA;\n",
              "      box-shadow: 0px 1px 2px rgba(60, 64, 67, 0.3), 0px 1px 3px 1px rgba(60, 64, 67, 0.15);\n",
              "      fill: #174EA6;\n",
              "    }\n",
              "\n",
              "    .colab-df-buttons div {\n",
              "      margin-bottom: 4px;\n",
              "    }\n",
              "\n",
              "    [theme=dark] .colab-df-convert {\n",
              "      background-color: #3B4455;\n",
              "      fill: #D2E3FC;\n",
              "    }\n",
              "\n",
              "    [theme=dark] .colab-df-convert:hover {\n",
              "      background-color: #434B5C;\n",
              "      box-shadow: 0px 1px 3px 1px rgba(0, 0, 0, 0.15);\n",
              "      filter: drop-shadow(0px 1px 2px rgba(0, 0, 0, 0.3));\n",
              "      fill: #FFFFFF;\n",
              "    }\n",
              "  </style>\n",
              "\n",
              "    <script>\n",
              "      const buttonEl =\n",
              "        document.querySelector('#df-2b09604e-337c-4340-b409-853b46847a72 button.colab-df-convert');\n",
              "      buttonEl.style.display =\n",
              "        google.colab.kernel.accessAllowed ? 'block' : 'none';\n",
              "\n",
              "      async function convertToInteractive(key) {\n",
              "        const element = document.querySelector('#df-2b09604e-337c-4340-b409-853b46847a72');\n",
              "        const dataTable =\n",
              "          await google.colab.kernel.invokeFunction('convertToInteractive',\n",
              "                                                    [key], {});\n",
              "        if (!dataTable) return;\n",
              "\n",
              "        const docLinkHtml = 'Like what you see? Visit the ' +\n",
              "          '<a target=\"_blank\" href=https://colab.research.google.com/notebooks/data_table.ipynb>data table notebook</a>'\n",
              "          + ' to learn more about interactive tables.';\n",
              "        element.innerHTML = '';\n",
              "        dataTable['output_type'] = 'display_data';\n",
              "        await google.colab.output.renderOutput(dataTable, element);\n",
              "        const docLink = document.createElement('div');\n",
              "        docLink.innerHTML = docLinkHtml;\n",
              "        element.appendChild(docLink);\n",
              "      }\n",
              "    </script>\n",
              "  </div>\n",
              "\n",
              "\n",
              "<div id=\"df-961de614-e543-4a04-864d-9fddf834b769\">\n",
              "  <button class=\"colab-df-quickchart\" onclick=\"quickchart('df-961de614-e543-4a04-864d-9fddf834b769')\"\n",
              "            title=\"Suggest charts\"\n",
              "            style=\"display:none;\">\n",
              "\n",
              "<svg xmlns=\"http://www.w3.org/2000/svg\" height=\"24px\"viewBox=\"0 0 24 24\"\n",
              "     width=\"24px\">\n",
              "    <g>\n",
              "        <path d=\"M19 3H5c-1.1 0-2 .9-2 2v14c0 1.1.9 2 2 2h14c1.1 0 2-.9 2-2V5c0-1.1-.9-2-2-2zM9 17H7v-7h2v7zm4 0h-2V7h2v10zm4 0h-2v-4h2v4z\"/>\n",
              "    </g>\n",
              "</svg>\n",
              "  </button>\n",
              "\n",
              "<style>\n",
              "  .colab-df-quickchart {\n",
              "      --bg-color: #E8F0FE;\n",
              "      --fill-color: #1967D2;\n",
              "      --hover-bg-color: #E2EBFA;\n",
              "      --hover-fill-color: #174EA6;\n",
              "      --disabled-fill-color: #AAA;\n",
              "      --disabled-bg-color: #DDD;\n",
              "  }\n",
              "\n",
              "  [theme=dark] .colab-df-quickchart {\n",
              "      --bg-color: #3B4455;\n",
              "      --fill-color: #D2E3FC;\n",
              "      --hover-bg-color: #434B5C;\n",
              "      --hover-fill-color: #FFFFFF;\n",
              "      --disabled-bg-color: #3B4455;\n",
              "      --disabled-fill-color: #666;\n",
              "  }\n",
              "\n",
              "  .colab-df-quickchart {\n",
              "    background-color: var(--bg-color);\n",
              "    border: none;\n",
              "    border-radius: 50%;\n",
              "    cursor: pointer;\n",
              "    display: none;\n",
              "    fill: var(--fill-color);\n",
              "    height: 32px;\n",
              "    padding: 0;\n",
              "    width: 32px;\n",
              "  }\n",
              "\n",
              "  .colab-df-quickchart:hover {\n",
              "    background-color: var(--hover-bg-color);\n",
              "    box-shadow: 0 1px 2px rgba(60, 64, 67, 0.3), 0 1px 3px 1px rgba(60, 64, 67, 0.15);\n",
              "    fill: var(--button-hover-fill-color);\n",
              "  }\n",
              "\n",
              "  .colab-df-quickchart-complete:disabled,\n",
              "  .colab-df-quickchart-complete:disabled:hover {\n",
              "    background-color: var(--disabled-bg-color);\n",
              "    fill: var(--disabled-fill-color);\n",
              "    box-shadow: none;\n",
              "  }\n",
              "\n",
              "  .colab-df-spinner {\n",
              "    border: 2px solid var(--fill-color);\n",
              "    border-color: transparent;\n",
              "    border-bottom-color: var(--fill-color);\n",
              "    animation:\n",
              "      spin 1s steps(1) infinite;\n",
              "  }\n",
              "\n",
              "  @keyframes spin {\n",
              "    0% {\n",
              "      border-color: transparent;\n",
              "      border-bottom-color: var(--fill-color);\n",
              "      border-left-color: var(--fill-color);\n",
              "    }\n",
              "    20% {\n",
              "      border-color: transparent;\n",
              "      border-left-color: var(--fill-color);\n",
              "      border-top-color: var(--fill-color);\n",
              "    }\n",
              "    30% {\n",
              "      border-color: transparent;\n",
              "      border-left-color: var(--fill-color);\n",
              "      border-top-color: var(--fill-color);\n",
              "      border-right-color: var(--fill-color);\n",
              "    }\n",
              "    40% {\n",
              "      border-color: transparent;\n",
              "      border-right-color: var(--fill-color);\n",
              "      border-top-color: var(--fill-color);\n",
              "    }\n",
              "    60% {\n",
              "      border-color: transparent;\n",
              "      border-right-color: var(--fill-color);\n",
              "    }\n",
              "    80% {\n",
              "      border-color: transparent;\n",
              "      border-right-color: var(--fill-color);\n",
              "      border-bottom-color: var(--fill-color);\n",
              "    }\n",
              "    90% {\n",
              "      border-color: transparent;\n",
              "      border-bottom-color: var(--fill-color);\n",
              "    }\n",
              "  }\n",
              "</style>\n",
              "\n",
              "  <script>\n",
              "    async function quickchart(key) {\n",
              "      const quickchartButtonEl =\n",
              "        document.querySelector('#' + key + ' button');\n",
              "      quickchartButtonEl.disabled = true;  // To prevent multiple clicks.\n",
              "      quickchartButtonEl.classList.add('colab-df-spinner');\n",
              "      try {\n",
              "        const charts = await google.colab.kernel.invokeFunction(\n",
              "            'suggestCharts', [key], {});\n",
              "      } catch (error) {\n",
              "        console.error('Error during call to suggestCharts:', error);\n",
              "      }\n",
              "      quickchartButtonEl.classList.remove('colab-df-spinner');\n",
              "      quickchartButtonEl.classList.add('colab-df-quickchart-complete');\n",
              "    }\n",
              "    (() => {\n",
              "      let quickchartButtonEl =\n",
              "        document.querySelector('#df-961de614-e543-4a04-864d-9fddf834b769 button');\n",
              "      quickchartButtonEl.style.display =\n",
              "        google.colab.kernel.accessAllowed ? 'block' : 'none';\n",
              "    })();\n",
              "  </script>\n",
              "</div>\n",
              "\n",
              "    </div>\n",
              "  </div>\n"
            ],
            "application/vnd.google.colaboratory.intrinsic+json": {
              "type": "dataframe",
              "variable_name": "data4",
              "summary": "{\n  \"name\": \"data4\",\n  \"rows\": 891,\n  \"fields\": [\n    {\n      \"column\": \"PassengerId\",\n      \"properties\": {\n        \"dtype\": \"number\",\n        \"std\": 257,\n        \"min\": 1,\n        \"max\": 891,\n        \"num_unique_values\": 891,\n        \"samples\": [\n          710,\n          440,\n          841\n        ],\n        \"semantic_type\": \"\",\n        \"description\": \"\"\n      }\n    },\n    {\n      \"column\": \"Survived\",\n      \"properties\": {\n        \"dtype\": \"number\",\n        \"std\": 0,\n        \"min\": 0,\n        \"max\": 1,\n        \"num_unique_values\": 2,\n        \"samples\": [\n          1,\n          0\n        ],\n        \"semantic_type\": \"\",\n        \"description\": \"\"\n      }\n    },\n    {\n      \"column\": \"Pclass\",\n      \"properties\": {\n        \"dtype\": \"number\",\n        \"std\": 0,\n        \"min\": 1,\n        \"max\": 3,\n        \"num_unique_values\": 3,\n        \"samples\": [\n          3,\n          1\n        ],\n        \"semantic_type\": \"\",\n        \"description\": \"\"\n      }\n    },\n    {\n      \"column\": \"Name\",\n      \"properties\": {\n        \"dtype\": \"string\",\n        \"num_unique_values\": 891,\n        \"samples\": [\n          \"Moubarek, Master. Halim Gonios (\\\"William George\\\")\",\n          \"Kvillner, Mr. Johan Henrik Johannesson\"\n        ],\n        \"semantic_type\": \"\",\n        \"description\": \"\"\n      }\n    },\n    {\n      \"column\": \"Sex\",\n      \"properties\": {\n        \"dtype\": \"category\",\n        \"num_unique_values\": 2,\n        \"samples\": [\n          \"female\",\n          \"male\"\n        ],\n        \"semantic_type\": \"\",\n        \"description\": \"\"\n      }\n    },\n    {\n      \"column\": \"Age\",\n      \"properties\": {\n        \"dtype\": \"number\",\n        \"std\": 14.526497332334042,\n        \"min\": 0.42,\n        \"max\": 80.0,\n        \"num_unique_values\": 88,\n        \"samples\": [\n          0.75,\n          22.0\n        ],\n        \"semantic_type\": \"\",\n        \"description\": \"\"\n      }\n    },\n    {\n      \"column\": \"SibSp\",\n      \"properties\": {\n        \"dtype\": \"number\",\n        \"std\": 1,\n        \"min\": 0,\n        \"max\": 8,\n        \"num_unique_values\": 7,\n        \"samples\": [\n          1,\n          0\n        ],\n        \"semantic_type\": \"\",\n        \"description\": \"\"\n      }\n    },\n    {\n      \"column\": \"Parch\",\n      \"properties\": {\n        \"dtype\": \"number\",\n        \"std\": 0,\n        \"min\": 0,\n        \"max\": 6,\n        \"num_unique_values\": 7,\n        \"samples\": [\n          0,\n          1\n        ],\n        \"semantic_type\": \"\",\n        \"description\": \"\"\n      }\n    },\n    {\n      \"column\": \"Ticket\",\n      \"properties\": {\n        \"dtype\": \"string\",\n        \"num_unique_values\": 681,\n        \"samples\": [\n          \"11774\",\n          \"248740\"\n        ],\n        \"semantic_type\": \"\",\n        \"description\": \"\"\n      }\n    },\n    {\n      \"column\": \"Fare\",\n      \"properties\": {\n        \"dtype\": \"number\",\n        \"std\": 49.6934285971809,\n        \"min\": 0.0,\n        \"max\": 512.3292,\n        \"num_unique_values\": 248,\n        \"samples\": [\n          11.2417,\n          51.8625\n        ],\n        \"semantic_type\": \"\",\n        \"description\": \"\"\n      }\n    },\n    {\n      \"column\": \"Cabin\",\n      \"properties\": {\n        \"dtype\": \"category\",\n        \"num_unique_values\": 147,\n        \"samples\": [\n          \"D45\",\n          \"B49\"\n        ],\n        \"semantic_type\": \"\",\n        \"description\": \"\"\n      }\n    },\n    {\n      \"column\": \"Embarked\",\n      \"properties\": {\n        \"dtype\": \"category\",\n        \"num_unique_values\": 3,\n        \"samples\": [\n          \"S\",\n          \"C\"\n        ],\n        \"semantic_type\": \"\",\n        \"description\": \"\"\n      }\n    }\n  ]\n}"
            }
          },
          "metadata": {},
          "execution_count": 115
        }
      ]
    },
    {
      "cell_type": "markdown",
      "source": [
        "tidak ada atribut yang menjelaskan apakh penumpang staf/officer"
      ],
      "metadata": {
        "id": "fWF20w4r9cZN"
      }
    },
    {
      "cell_type": "markdown",
      "source": [
        "**Tugas 4**:\n",
        "- Cek pada atribut nama penumpang terdapat title apa saja?\n",
        "- Cek apakah pada atribut nama penumpang terdapat data yang kosong/null?"
      ],
      "metadata": {
        "id": "A2yU8CUp933e"
      }
    },
    {
      "cell_type": "markdown",
      "source": [
        "### - Cek pada atribut nama penumpang terdapat title apa saja?"
      ],
      "metadata": {
        "id": "WvpOFOLN-iK1"
      }
    },
    {
      "cell_type": "markdown",
      "source": [
        "cek data penumpang"
      ],
      "metadata": {
        "id": "TZlAv8k3--mm"
      }
    },
    {
      "cell_type": "code",
      "source": [
        "# Ekstraksi title dari kolom 'Name'\n",
        "data4['Title'] = data4['Name'].map(lambda name: name.split(\",\")[1].split(\".\")[0].strip())\n",
        "\n",
        "# Menampilkan title unik yang ada di kolom 'Title'\n",
        "unique_titles = data4['Title'].unique()\n",
        "\n",
        "# Menampilkan daftar title unik\n",
        "print(f\"Title yang terdapat pada penumpang: {unique_titles}\")\n"
      ],
      "metadata": {
        "colab": {
          "base_uri": "https://localhost:8080/"
        },
        "id": "zfXN27M6_Ucg",
        "outputId": "27532319-6179-4aa1-b1d5-913f6c3eb525"
      },
      "execution_count": null,
      "outputs": [
        {
          "output_type": "stream",
          "name": "stdout",
          "text": [
            "Title yang terdapat pada penumpang: ['Mr' 'Mrs' 'Miss' 'Master' 'Don' 'Rev' 'Dr' 'Mme' 'Ms' 'Major' 'Lady'\n",
            " 'Sir' 'Mlle' 'Col' 'Capt' 'the Countess' 'Jonkheer']\n"
          ]
        }
      ]
    },
    {
      "cell_type": "markdown",
      "source": [
        "### - Cek apakah pada atribut nama penumpang terdapat data yang kosong/null?"
      ],
      "metadata": {
        "id": "4EYOlj1i-W2O"
      }
    },
    {
      "cell_type": "markdown",
      "source": [
        "\n",
        "Age, Cabin, Embarked"
      ],
      "metadata": {
        "id": "oiuQbAxn5UOa"
      }
    },
    {
      "cell_type": "markdown",
      "source": [
        "PassengerId"
      ],
      "metadata": {
        "id": "mFdUX6oP5wq-"
      }
    },
    {
      "cell_type": "code",
      "source": [
        "# Cek apakah ada data kosong/null pada kolom 'Name'\n",
        "missing_name_data = data4['PassengerId'].isnull().sum()\n",
        "\n",
        "# Tampilkan jumlah data kosong pada kolom 'Name'\n",
        "print(f'Jumlah data kosong pada kolom PassengerId: {missing_name_data}')"
      ],
      "metadata": {
        "colab": {
          "base_uri": "https://localhost:8080/"
        },
        "id": "wQ4hnTSw5Fv3",
        "outputId": "ea8ba556-9d30-4d5f-c604-85c173054ae3"
      },
      "execution_count": null,
      "outputs": [
        {
          "output_type": "stream",
          "name": "stdout",
          "text": [
            "Jumlah data kosong pada kolom PassengerId: 0\n"
          ]
        }
      ]
    },
    {
      "cell_type": "markdown",
      "source": [
        "Name"
      ],
      "metadata": {
        "id": "bjYsO7ZZ6jy3"
      }
    },
    {
      "cell_type": "code",
      "source": [
        "# Cek apakah ada data kosong/null pada kolom 'Name'\n",
        "missing_name_data = data4['Name'].isnull().sum()\n",
        "\n",
        "# Tampilkan jumlah data kosong pada kolom 'Name'\n",
        "print(f'Jumlah data kosong pada kolom Name: {missing_name_data}')\n"
      ],
      "metadata": {
        "colab": {
          "base_uri": "https://localhost:8080/"
        },
        "id": "LHWIjfsJ92KK",
        "outputId": "ba6e43b1-3be1-4de7-da61-0b5f3c70f2e3"
      },
      "execution_count": null,
      "outputs": [
        {
          "output_type": "stream",
          "name": "stdout",
          "text": [
            "Jumlah data kosong pada kolom Name: 0\n"
          ]
        }
      ]
    },
    {
      "cell_type": "markdown",
      "source": [
        "Survived"
      ],
      "metadata": {
        "id": "tPfEDk2e5vZ3"
      }
    },
    {
      "cell_type": "code",
      "source": [
        "# Cek apakah ada data kosong/null pada kolom 'Name'\n",
        "missing_name_data = data4['Survived'].isnull().sum()\n",
        "\n",
        "# Tampilkan jumlah data kosong pada kolom 'Name'\n",
        "print(f'Jumlah data kosong pada kolom Survived: {missing_name_data}')"
      ],
      "metadata": {
        "colab": {
          "base_uri": "https://localhost:8080/"
        },
        "id": "CRfSuQyn5zvg",
        "outputId": "2f2479ad-5bee-47f1-be40-9b4ef116672c"
      },
      "execution_count": null,
      "outputs": [
        {
          "output_type": "stream",
          "name": "stdout",
          "text": [
            "Jumlah data kosong pada kolom Survived: 0\n"
          ]
        }
      ]
    },
    {
      "cell_type": "markdown",
      "source": [
        "Pclass"
      ],
      "metadata": {
        "id": "wJDl3n0b6s1o"
      }
    },
    {
      "cell_type": "code",
      "source": [
        "# Cek apakah ada data kosong/null pada kolom 'Name'\n",
        "missing_name_data = data4['Pclass'].isnull().sum()\n",
        "\n",
        "# Tampilkan jumlah data kosong pada kolom 'Name'\n",
        "print(f'Jumlah data kosong pada kolom Pclass: {missing_name_data}')"
      ],
      "metadata": {
        "colab": {
          "base_uri": "https://localhost:8080/"
        },
        "id": "ZSzbC5oV6xnf",
        "outputId": "2fb0b18d-81a3-49d4-8ab6-e5fe507a4ac9"
      },
      "execution_count": null,
      "outputs": [
        {
          "output_type": "stream",
          "name": "stdout",
          "text": [
            "Jumlah data kosong pada kolom Pclass: 0\n"
          ]
        }
      ]
    },
    {
      "cell_type": "markdown",
      "source": [
        "Sex"
      ],
      "metadata": {
        "id": "VjS2RU016x4J"
      }
    },
    {
      "cell_type": "code",
      "source": [
        "# Cek apakah ada data kosong/null pada kolom 'Name'\n",
        "missing_name_data = data4['Sex'].isnull().sum()\n",
        "\n",
        "# Tampilkan jumlah data kosong pada kolom 'Name'\n",
        "print(f'Jumlah data kosong pada kolom Sex: {missing_name_data}')"
      ],
      "metadata": {
        "colab": {
          "base_uri": "https://localhost:8080/"
        },
        "id": "KLl5eZFV6y05",
        "outputId": "d916ce9e-ee7c-4662-b81f-f0cf595a3df7"
      },
      "execution_count": null,
      "outputs": [
        {
          "output_type": "stream",
          "name": "stdout",
          "text": [
            "Jumlah data kosong pada kolom Sex: 0\n"
          ]
        }
      ]
    },
    {
      "cell_type": "markdown",
      "source": [
        "Age"
      ],
      "metadata": {
        "id": "pQGCbmfE6zC0"
      }
    },
    {
      "cell_type": "code",
      "source": [
        "# Cek apakah ada data kosong/null pada kolom 'Name'\n",
        "missing_name_data = data4['Age'].isnull().sum()\n",
        "\n",
        "# Tampilkan jumlah data kosong pada kolom 'Name'\n",
        "print(f'Jumlah data kosong pada kolom Age: {missing_name_data}')"
      ],
      "metadata": {
        "colab": {
          "base_uri": "https://localhost:8080/"
        },
        "id": "zby1_sk-61SP",
        "outputId": "b79e5e40-0a11-4258-bbca-1b9affc4b8d6"
      },
      "execution_count": null,
      "outputs": [
        {
          "output_type": "stream",
          "name": "stdout",
          "text": [
            "Jumlah data kosong pada kolom Age: 177\n"
          ]
        }
      ]
    },
    {
      "cell_type": "markdown",
      "source": [
        "SibSp"
      ],
      "metadata": {
        "id": "C3kQTaYW61nK"
      }
    },
    {
      "cell_type": "code",
      "source": [
        "# Cek apakah ada data kosong/null pada kolom 'Name'\n",
        "missing_name_data = data4['SibSp'].isnull().sum()\n",
        "\n",
        "# Tampilkan jumlah data kosong pada kolom 'Name'\n",
        "print(f'Jumlah data kosong pada kolom SibSp: {missing_name_data}')"
      ],
      "metadata": {
        "colab": {
          "base_uri": "https://localhost:8080/"
        },
        "id": "4F3hyWD266MS",
        "outputId": "0064a84d-6a09-4384-982c-235bcb6da9bf"
      },
      "execution_count": null,
      "outputs": [
        {
          "output_type": "stream",
          "name": "stdout",
          "text": [
            "Jumlah data kosong pada kolom SibSp: 0\n"
          ]
        }
      ]
    },
    {
      "cell_type": "markdown",
      "source": [
        "Parch"
      ],
      "metadata": {
        "id": "hdgXduoB66dC"
      }
    },
    {
      "cell_type": "code",
      "source": [
        "# Cek apakah ada data kosong/null pada kolom 'Name'\n",
        "missing_name_data = data4['Parch'].isnull().sum()\n",
        "\n",
        "# Tampilkan jumlah data kosong pada kolom 'Name'\n",
        "print(f'Jumlah data kosong pada kolom Parch: {missing_name_data}')"
      ],
      "metadata": {
        "colab": {
          "base_uri": "https://localhost:8080/"
        },
        "id": "GZIxjGUF6-aP",
        "outputId": "edb5044a-c15b-4332-98f7-38cc1cfeca3c"
      },
      "execution_count": null,
      "outputs": [
        {
          "output_type": "stream",
          "name": "stdout",
          "text": [
            "Jumlah data kosong pada kolom Parch: 0\n"
          ]
        }
      ]
    },
    {
      "cell_type": "markdown",
      "source": [
        "Ticket"
      ],
      "metadata": {
        "id": "5MN9h3237BWn"
      }
    },
    {
      "cell_type": "code",
      "source": [
        "# Cek apakah ada data kosong/null pada kolom 'Name'\n",
        "missing_name_data = data4['Ticket'].isnull().sum()\n",
        "\n",
        "# Tampilkan jumlah data kosong pada kolom 'Name'\n",
        "print(f'Jumlah data kosong pada kolom Ticket: {missing_name_data}')"
      ],
      "metadata": {
        "colab": {
          "base_uri": "https://localhost:8080/"
        },
        "id": "Dq5k8HLL7B5Q",
        "outputId": "798681bf-4a76-4aaa-e65a-a352b255a90f"
      },
      "execution_count": null,
      "outputs": [
        {
          "output_type": "stream",
          "name": "stdout",
          "text": [
            "Jumlah data kosong pada kolom Ticket: 0\n"
          ]
        }
      ]
    },
    {
      "cell_type": "markdown",
      "source": [
        "Fare"
      ],
      "metadata": {
        "id": "yO7EEzx47FRo"
      }
    },
    {
      "cell_type": "code",
      "source": [
        "# Cek apakah ada data kosong/null pada kolom 'Name'\n",
        "missing_name_data = data4['Fare'].isnull().sum()\n",
        "\n",
        "# Tampilkan jumlah data kosong pada kolom 'Name'\n",
        "print(f'Jumlah data kosong pada kolom Fare: {missing_name_data}')"
      ],
      "metadata": {
        "colab": {
          "base_uri": "https://localhost:8080/"
        },
        "id": "2TBb0PbM7Fw_",
        "outputId": "c42ce59e-b9f0-4b19-d026-d32f248fcb8c"
      },
      "execution_count": null,
      "outputs": [
        {
          "output_type": "stream",
          "name": "stdout",
          "text": [
            "Jumlah data kosong pada kolom Fare: 0\n"
          ]
        }
      ]
    },
    {
      "cell_type": "markdown",
      "source": [
        "Cabin"
      ],
      "metadata": {
        "id": "JfksDNtq7I8I"
      }
    },
    {
      "cell_type": "code",
      "source": [
        "# Cek apakah ada data kosong/null pada kolom 'Name'\n",
        "missing_name_data = data4['Cabin'].isnull().sum()\n",
        "\n",
        "# Tampilkan jumlah data kosong pada kolom 'Name'\n",
        "print(f'Jumlah data kosong pada kolom Cabin: {missing_name_data}')"
      ],
      "metadata": {
        "colab": {
          "base_uri": "https://localhost:8080/"
        },
        "id": "XST-Wkvf7JX4",
        "outputId": "2dfcca27-1658-48a0-dc78-9970fe9d5aed"
      },
      "execution_count": null,
      "outputs": [
        {
          "output_type": "stream",
          "name": "stdout",
          "text": [
            "Jumlah data kosong pada kolom Cabin: 687\n"
          ]
        }
      ]
    },
    {
      "cell_type": "markdown",
      "source": [
        "Embarked"
      ],
      "metadata": {
        "id": "LjBpwv4F7L2B"
      }
    },
    {
      "cell_type": "markdown",
      "source": [
        "Setelah diketahui daftar titlenya apa saja, maka kita dapat mengekstrak data title penumpang\n",
        "ini dan menyimpannya dalam atribut yang berbeda.\n",
        "Pecah atribut nama sesuai dengan kondisi isi dari atribut tersebut dan masukkan data hasil\n",
        "pecahan tersebut ke dalam kolom baru ‘Title’ yang terletak di posisi ke 12 alias setelah kolom\n",
        "terakhir."
      ],
      "metadata": {
        "id": "QbYAjfy217YB"
      }
    },
    {
      "cell_type": "code",
      "source": [
        "# Cek apakah ada data kosong/null pada kolom 'Name'\n",
        "missing_name_data = data4['Embarked'].isnull().sum()\n",
        "\n",
        "# Tampilkan jumlah data kosong pada kolom 'Name'\n",
        "print(f'Jumlah data kosong pada kolom Embarked: {missing_name_data}')"
      ],
      "metadata": {
        "colab": {
          "base_uri": "https://localhost:8080/"
        },
        "id": "Vq_PN6U87MQw",
        "outputId": "1c1b9742-dabe-432d-81be-46bddd099627"
      },
      "execution_count": null,
      "outputs": [
        {
          "output_type": "stream",
          "name": "stdout",
          "text": [
            "Jumlah data kosong pada kolom Embarked: 2\n"
          ]
        }
      ]
    },
    {
      "cell_type": "markdown",
      "source": [
        "### Kemudian lakukan transformasi title penumpang ke dalam kelompok title yang sudah ditentukan."
      ],
      "metadata": {
        "id": "vJxuBDV8ABb4"
      }
    },
    {
      "cell_type": "markdown",
      "source": [
        "Buat Title_Map"
      ],
      "metadata": {
        "id": "bBrhrSMvL5XY"
      }
    },
    {
      "cell_type": "code",
      "source": [
        "title_map={\"Capt\": \"Officer\",\n",
        "           \"Col\": \"Officer\",\n",
        "           \"Major\" : \"Officer\",\n",
        "           \"Johnkheer\": \"Royalty\",\n",
        "           \"Don\": \"Royalty\",\n",
        "           \"Sir\":\"Royalty\",\n",
        "           \"Dr\":\"Royalty\",\n",
        "           \"Rev\": \"Officer\",\n",
        "           \"The Countess\":\"Royalty\",\n",
        "           \"Dona\": \"Royalty\",\n",
        "           \"Mme\": \"Mrs\",\n",
        "           \"Mile\": \"Miss\",\n",
        "           \"Ms\": \"Mrs\",\n",
        "           \"Mr\": \"Mr\",\n",
        "           \"Mrs\": \"Mrs\",\n",
        "           \"Miss\": \"Miss\",\n",
        "           \"Master\": \"Master\",\n",
        "           \"Lady\": \"Royalty\"}\n",
        "\n",
        "data4['Title'] = data4['Title'].map(title_map)"
      ],
      "metadata": {
        "id": "PjFu5zYSAOeU"
      },
      "execution_count": null,
      "outputs": []
    },
    {
      "cell_type": "markdown",
      "source": [
        "Cek data apakah berubah?"
      ],
      "metadata": {
        "id": "Ni9NbWumDWxa"
      }
    },
    {
      "cell_type": "code",
      "source": [
        "data4.head(11)"
      ],
      "metadata": {
        "colab": {
          "base_uri": "https://localhost:8080/",
          "height": 952
        },
        "id": "eQPiW5o7BgdW",
        "outputId": "61b378e0-1fa3-4900-b966-e158da36e5b6"
      },
      "execution_count": null,
      "outputs": [
        {
          "output_type": "execute_result",
          "data": {
            "text/plain": [
              "    PassengerId  Survived  Pclass  \\\n",
              "0             1         0       3   \n",
              "1             2         1       1   \n",
              "2             3         1       3   \n",
              "3             4         1       1   \n",
              "4             5         0       3   \n",
              "5             6         0       3   \n",
              "6             7         0       1   \n",
              "7             8         0       3   \n",
              "8             9         1       3   \n",
              "9            10         1       2   \n",
              "10           11         1       3   \n",
              "\n",
              "                                                 Name     Sex   Age  SibSp  \\\n",
              "0                             Braund, Mr. Owen Harris    male  22.0      1   \n",
              "1   Cumings, Mrs. John Bradley (Florence Briggs Th...  female  38.0      1   \n",
              "2                              Heikkinen, Miss. Laina  female  26.0      0   \n",
              "3        Futrelle, Mrs. Jacques Heath (Lily May Peel)  female  35.0      1   \n",
              "4                            Allen, Mr. William Henry    male  35.0      0   \n",
              "5                                    Moran, Mr. James    male   NaN      0   \n",
              "6                             McCarthy, Mr. Timothy J    male  54.0      0   \n",
              "7                      Palsson, Master. Gosta Leonard    male   2.0      3   \n",
              "8   Johnson, Mrs. Oscar W (Elisabeth Vilhelmina Berg)  female  27.0      0   \n",
              "9                 Nasser, Mrs. Nicholas (Adele Achem)  female  14.0      1   \n",
              "10                    Sandstrom, Miss. Marguerite Rut  female   4.0      1   \n",
              "\n",
              "    Parch            Ticket     Fare Cabin Embarked   Title  \n",
              "0       0         A/5 21171   7.2500   NaN        S      Mr  \n",
              "1       0          PC 17599  71.2833   C85        C     Mrs  \n",
              "2       0  STON/O2. 3101282   7.9250   NaN        S    Miss  \n",
              "3       0            113803  53.1000  C123        S     Mrs  \n",
              "4       0            373450   8.0500   NaN        S      Mr  \n",
              "5       0            330877   8.4583   NaN        Q      Mr  \n",
              "6       0             17463  51.8625   E46        S      Mr  \n",
              "7       1            349909  21.0750   NaN        S  Master  \n",
              "8       2            347742  11.1333   NaN        S     Mrs  \n",
              "9       0            237736  30.0708   NaN        C     Mrs  \n",
              "10      1           PP 9549  16.7000    G6        S    Miss  "
            ],
            "text/html": [
              "\n",
              "  <div id=\"df-8f4773c3-a387-42af-a974-a24db8b0f0d4\" class=\"colab-df-container\">\n",
              "    <div>\n",
              "<style scoped>\n",
              "    .dataframe tbody tr th:only-of-type {\n",
              "        vertical-align: middle;\n",
              "    }\n",
              "\n",
              "    .dataframe tbody tr th {\n",
              "        vertical-align: top;\n",
              "    }\n",
              "\n",
              "    .dataframe thead th {\n",
              "        text-align: right;\n",
              "    }\n",
              "</style>\n",
              "<table border=\"1\" class=\"dataframe\">\n",
              "  <thead>\n",
              "    <tr style=\"text-align: right;\">\n",
              "      <th></th>\n",
              "      <th>PassengerId</th>\n",
              "      <th>Survived</th>\n",
              "      <th>Pclass</th>\n",
              "      <th>Name</th>\n",
              "      <th>Sex</th>\n",
              "      <th>Age</th>\n",
              "      <th>SibSp</th>\n",
              "      <th>Parch</th>\n",
              "      <th>Ticket</th>\n",
              "      <th>Fare</th>\n",
              "      <th>Cabin</th>\n",
              "      <th>Embarked</th>\n",
              "      <th>Title</th>\n",
              "    </tr>\n",
              "  </thead>\n",
              "  <tbody>\n",
              "    <tr>\n",
              "      <th>0</th>\n",
              "      <td>1</td>\n",
              "      <td>0</td>\n",
              "      <td>3</td>\n",
              "      <td>Braund, Mr. Owen Harris</td>\n",
              "      <td>male</td>\n",
              "      <td>22.0</td>\n",
              "      <td>1</td>\n",
              "      <td>0</td>\n",
              "      <td>A/5 21171</td>\n",
              "      <td>7.2500</td>\n",
              "      <td>NaN</td>\n",
              "      <td>S</td>\n",
              "      <td>Mr</td>\n",
              "    </tr>\n",
              "    <tr>\n",
              "      <th>1</th>\n",
              "      <td>2</td>\n",
              "      <td>1</td>\n",
              "      <td>1</td>\n",
              "      <td>Cumings, Mrs. John Bradley (Florence Briggs Th...</td>\n",
              "      <td>female</td>\n",
              "      <td>38.0</td>\n",
              "      <td>1</td>\n",
              "      <td>0</td>\n",
              "      <td>PC 17599</td>\n",
              "      <td>71.2833</td>\n",
              "      <td>C85</td>\n",
              "      <td>C</td>\n",
              "      <td>Mrs</td>\n",
              "    </tr>\n",
              "    <tr>\n",
              "      <th>2</th>\n",
              "      <td>3</td>\n",
              "      <td>1</td>\n",
              "      <td>3</td>\n",
              "      <td>Heikkinen, Miss. Laina</td>\n",
              "      <td>female</td>\n",
              "      <td>26.0</td>\n",
              "      <td>0</td>\n",
              "      <td>0</td>\n",
              "      <td>STON/O2. 3101282</td>\n",
              "      <td>7.9250</td>\n",
              "      <td>NaN</td>\n",
              "      <td>S</td>\n",
              "      <td>Miss</td>\n",
              "    </tr>\n",
              "    <tr>\n",
              "      <th>3</th>\n",
              "      <td>4</td>\n",
              "      <td>1</td>\n",
              "      <td>1</td>\n",
              "      <td>Futrelle, Mrs. Jacques Heath (Lily May Peel)</td>\n",
              "      <td>female</td>\n",
              "      <td>35.0</td>\n",
              "      <td>1</td>\n",
              "      <td>0</td>\n",
              "      <td>113803</td>\n",
              "      <td>53.1000</td>\n",
              "      <td>C123</td>\n",
              "      <td>S</td>\n",
              "      <td>Mrs</td>\n",
              "    </tr>\n",
              "    <tr>\n",
              "      <th>4</th>\n",
              "      <td>5</td>\n",
              "      <td>0</td>\n",
              "      <td>3</td>\n",
              "      <td>Allen, Mr. William Henry</td>\n",
              "      <td>male</td>\n",
              "      <td>35.0</td>\n",
              "      <td>0</td>\n",
              "      <td>0</td>\n",
              "      <td>373450</td>\n",
              "      <td>8.0500</td>\n",
              "      <td>NaN</td>\n",
              "      <td>S</td>\n",
              "      <td>Mr</td>\n",
              "    </tr>\n",
              "    <tr>\n",
              "      <th>5</th>\n",
              "      <td>6</td>\n",
              "      <td>0</td>\n",
              "      <td>3</td>\n",
              "      <td>Moran, Mr. James</td>\n",
              "      <td>male</td>\n",
              "      <td>NaN</td>\n",
              "      <td>0</td>\n",
              "      <td>0</td>\n",
              "      <td>330877</td>\n",
              "      <td>8.4583</td>\n",
              "      <td>NaN</td>\n",
              "      <td>Q</td>\n",
              "      <td>Mr</td>\n",
              "    </tr>\n",
              "    <tr>\n",
              "      <th>6</th>\n",
              "      <td>7</td>\n",
              "      <td>0</td>\n",
              "      <td>1</td>\n",
              "      <td>McCarthy, Mr. Timothy J</td>\n",
              "      <td>male</td>\n",
              "      <td>54.0</td>\n",
              "      <td>0</td>\n",
              "      <td>0</td>\n",
              "      <td>17463</td>\n",
              "      <td>51.8625</td>\n",
              "      <td>E46</td>\n",
              "      <td>S</td>\n",
              "      <td>Mr</td>\n",
              "    </tr>\n",
              "    <tr>\n",
              "      <th>7</th>\n",
              "      <td>8</td>\n",
              "      <td>0</td>\n",
              "      <td>3</td>\n",
              "      <td>Palsson, Master. Gosta Leonard</td>\n",
              "      <td>male</td>\n",
              "      <td>2.0</td>\n",
              "      <td>3</td>\n",
              "      <td>1</td>\n",
              "      <td>349909</td>\n",
              "      <td>21.0750</td>\n",
              "      <td>NaN</td>\n",
              "      <td>S</td>\n",
              "      <td>Master</td>\n",
              "    </tr>\n",
              "    <tr>\n",
              "      <th>8</th>\n",
              "      <td>9</td>\n",
              "      <td>1</td>\n",
              "      <td>3</td>\n",
              "      <td>Johnson, Mrs. Oscar W (Elisabeth Vilhelmina Berg)</td>\n",
              "      <td>female</td>\n",
              "      <td>27.0</td>\n",
              "      <td>0</td>\n",
              "      <td>2</td>\n",
              "      <td>347742</td>\n",
              "      <td>11.1333</td>\n",
              "      <td>NaN</td>\n",
              "      <td>S</td>\n",
              "      <td>Mrs</td>\n",
              "    </tr>\n",
              "    <tr>\n",
              "      <th>9</th>\n",
              "      <td>10</td>\n",
              "      <td>1</td>\n",
              "      <td>2</td>\n",
              "      <td>Nasser, Mrs. Nicholas (Adele Achem)</td>\n",
              "      <td>female</td>\n",
              "      <td>14.0</td>\n",
              "      <td>1</td>\n",
              "      <td>0</td>\n",
              "      <td>237736</td>\n",
              "      <td>30.0708</td>\n",
              "      <td>NaN</td>\n",
              "      <td>C</td>\n",
              "      <td>Mrs</td>\n",
              "    </tr>\n",
              "    <tr>\n",
              "      <th>10</th>\n",
              "      <td>11</td>\n",
              "      <td>1</td>\n",
              "      <td>3</td>\n",
              "      <td>Sandstrom, Miss. Marguerite Rut</td>\n",
              "      <td>female</td>\n",
              "      <td>4.0</td>\n",
              "      <td>1</td>\n",
              "      <td>1</td>\n",
              "      <td>PP 9549</td>\n",
              "      <td>16.7000</td>\n",
              "      <td>G6</td>\n",
              "      <td>S</td>\n",
              "      <td>Miss</td>\n",
              "    </tr>\n",
              "  </tbody>\n",
              "</table>\n",
              "</div>\n",
              "    <div class=\"colab-df-buttons\">\n",
              "\n",
              "  <div class=\"colab-df-container\">\n",
              "    <button class=\"colab-df-convert\" onclick=\"convertToInteractive('df-8f4773c3-a387-42af-a974-a24db8b0f0d4')\"\n",
              "            title=\"Convert this dataframe to an interactive table.\"\n",
              "            style=\"display:none;\">\n",
              "\n",
              "  <svg xmlns=\"http://www.w3.org/2000/svg\" height=\"24px\" viewBox=\"0 -960 960 960\">\n",
              "    <path d=\"M120-120v-720h720v720H120Zm60-500h600v-160H180v160Zm220 220h160v-160H400v160Zm0 220h160v-160H400v160ZM180-400h160v-160H180v160Zm440 0h160v-160H620v160ZM180-180h160v-160H180v160Zm440 0h160v-160H620v160Z\"/>\n",
              "  </svg>\n",
              "    </button>\n",
              "\n",
              "  <style>\n",
              "    .colab-df-container {\n",
              "      display:flex;\n",
              "      gap: 12px;\n",
              "    }\n",
              "\n",
              "    .colab-df-convert {\n",
              "      background-color: #E8F0FE;\n",
              "      border: none;\n",
              "      border-radius: 50%;\n",
              "      cursor: pointer;\n",
              "      display: none;\n",
              "      fill: #1967D2;\n",
              "      height: 32px;\n",
              "      padding: 0 0 0 0;\n",
              "      width: 32px;\n",
              "    }\n",
              "\n",
              "    .colab-df-convert:hover {\n",
              "      background-color: #E2EBFA;\n",
              "      box-shadow: 0px 1px 2px rgba(60, 64, 67, 0.3), 0px 1px 3px 1px rgba(60, 64, 67, 0.15);\n",
              "      fill: #174EA6;\n",
              "    }\n",
              "\n",
              "    .colab-df-buttons div {\n",
              "      margin-bottom: 4px;\n",
              "    }\n",
              "\n",
              "    [theme=dark] .colab-df-convert {\n",
              "      background-color: #3B4455;\n",
              "      fill: #D2E3FC;\n",
              "    }\n",
              "\n",
              "    [theme=dark] .colab-df-convert:hover {\n",
              "      background-color: #434B5C;\n",
              "      box-shadow: 0px 1px 3px 1px rgba(0, 0, 0, 0.15);\n",
              "      filter: drop-shadow(0px 1px 2px rgba(0, 0, 0, 0.3));\n",
              "      fill: #FFFFFF;\n",
              "    }\n",
              "  </style>\n",
              "\n",
              "    <script>\n",
              "      const buttonEl =\n",
              "        document.querySelector('#df-8f4773c3-a387-42af-a974-a24db8b0f0d4 button.colab-df-convert');\n",
              "      buttonEl.style.display =\n",
              "        google.colab.kernel.accessAllowed ? 'block' : 'none';\n",
              "\n",
              "      async function convertToInteractive(key) {\n",
              "        const element = document.querySelector('#df-8f4773c3-a387-42af-a974-a24db8b0f0d4');\n",
              "        const dataTable =\n",
              "          await google.colab.kernel.invokeFunction('convertToInteractive',\n",
              "                                                    [key], {});\n",
              "        if (!dataTable) return;\n",
              "\n",
              "        const docLinkHtml = 'Like what you see? Visit the ' +\n",
              "          '<a target=\"_blank\" href=https://colab.research.google.com/notebooks/data_table.ipynb>data table notebook</a>'\n",
              "          + ' to learn more about interactive tables.';\n",
              "        element.innerHTML = '';\n",
              "        dataTable['output_type'] = 'display_data';\n",
              "        await google.colab.output.renderOutput(dataTable, element);\n",
              "        const docLink = document.createElement('div');\n",
              "        docLink.innerHTML = docLinkHtml;\n",
              "        element.appendChild(docLink);\n",
              "      }\n",
              "    </script>\n",
              "  </div>\n",
              "\n",
              "\n",
              "<div id=\"df-3f35a447-55af-4ccc-974e-44f429d6b7a1\">\n",
              "  <button class=\"colab-df-quickchart\" onclick=\"quickchart('df-3f35a447-55af-4ccc-974e-44f429d6b7a1')\"\n",
              "            title=\"Suggest charts\"\n",
              "            style=\"display:none;\">\n",
              "\n",
              "<svg xmlns=\"http://www.w3.org/2000/svg\" height=\"24px\"viewBox=\"0 0 24 24\"\n",
              "     width=\"24px\">\n",
              "    <g>\n",
              "        <path d=\"M19 3H5c-1.1 0-2 .9-2 2v14c0 1.1.9 2 2 2h14c1.1 0 2-.9 2-2V5c0-1.1-.9-2-2-2zM9 17H7v-7h2v7zm4 0h-2V7h2v10zm4 0h-2v-4h2v4z\"/>\n",
              "    </g>\n",
              "</svg>\n",
              "  </button>\n",
              "\n",
              "<style>\n",
              "  .colab-df-quickchart {\n",
              "      --bg-color: #E8F0FE;\n",
              "      --fill-color: #1967D2;\n",
              "      --hover-bg-color: #E2EBFA;\n",
              "      --hover-fill-color: #174EA6;\n",
              "      --disabled-fill-color: #AAA;\n",
              "      --disabled-bg-color: #DDD;\n",
              "  }\n",
              "\n",
              "  [theme=dark] .colab-df-quickchart {\n",
              "      --bg-color: #3B4455;\n",
              "      --fill-color: #D2E3FC;\n",
              "      --hover-bg-color: #434B5C;\n",
              "      --hover-fill-color: #FFFFFF;\n",
              "      --disabled-bg-color: #3B4455;\n",
              "      --disabled-fill-color: #666;\n",
              "  }\n",
              "\n",
              "  .colab-df-quickchart {\n",
              "    background-color: var(--bg-color);\n",
              "    border: none;\n",
              "    border-radius: 50%;\n",
              "    cursor: pointer;\n",
              "    display: none;\n",
              "    fill: var(--fill-color);\n",
              "    height: 32px;\n",
              "    padding: 0;\n",
              "    width: 32px;\n",
              "  }\n",
              "\n",
              "  .colab-df-quickchart:hover {\n",
              "    background-color: var(--hover-bg-color);\n",
              "    box-shadow: 0 1px 2px rgba(60, 64, 67, 0.3), 0 1px 3px 1px rgba(60, 64, 67, 0.15);\n",
              "    fill: var(--button-hover-fill-color);\n",
              "  }\n",
              "\n",
              "  .colab-df-quickchart-complete:disabled,\n",
              "  .colab-df-quickchart-complete:disabled:hover {\n",
              "    background-color: var(--disabled-bg-color);\n",
              "    fill: var(--disabled-fill-color);\n",
              "    box-shadow: none;\n",
              "  }\n",
              "\n",
              "  .colab-df-spinner {\n",
              "    border: 2px solid var(--fill-color);\n",
              "    border-color: transparent;\n",
              "    border-bottom-color: var(--fill-color);\n",
              "    animation:\n",
              "      spin 1s steps(1) infinite;\n",
              "  }\n",
              "\n",
              "  @keyframes spin {\n",
              "    0% {\n",
              "      border-color: transparent;\n",
              "      border-bottom-color: var(--fill-color);\n",
              "      border-left-color: var(--fill-color);\n",
              "    }\n",
              "    20% {\n",
              "      border-color: transparent;\n",
              "      border-left-color: var(--fill-color);\n",
              "      border-top-color: var(--fill-color);\n",
              "    }\n",
              "    30% {\n",
              "      border-color: transparent;\n",
              "      border-left-color: var(--fill-color);\n",
              "      border-top-color: var(--fill-color);\n",
              "      border-right-color: var(--fill-color);\n",
              "    }\n",
              "    40% {\n",
              "      border-color: transparent;\n",
              "      border-right-color: var(--fill-color);\n",
              "      border-top-color: var(--fill-color);\n",
              "    }\n",
              "    60% {\n",
              "      border-color: transparent;\n",
              "      border-right-color: var(--fill-color);\n",
              "    }\n",
              "    80% {\n",
              "      border-color: transparent;\n",
              "      border-right-color: var(--fill-color);\n",
              "      border-bottom-color: var(--fill-color);\n",
              "    }\n",
              "    90% {\n",
              "      border-color: transparent;\n",
              "      border-bottom-color: var(--fill-color);\n",
              "    }\n",
              "  }\n",
              "</style>\n",
              "\n",
              "  <script>\n",
              "    async function quickchart(key) {\n",
              "      const quickchartButtonEl =\n",
              "        document.querySelector('#' + key + ' button');\n",
              "      quickchartButtonEl.disabled = true;  // To prevent multiple clicks.\n",
              "      quickchartButtonEl.classList.add('colab-df-spinner');\n",
              "      try {\n",
              "        const charts = await google.colab.kernel.invokeFunction(\n",
              "            'suggestCharts', [key], {});\n",
              "      } catch (error) {\n",
              "        console.error('Error during call to suggestCharts:', error);\n",
              "      }\n",
              "      quickchartButtonEl.classList.remove('colab-df-spinner');\n",
              "      quickchartButtonEl.classList.add('colab-df-quickchart-complete');\n",
              "    }\n",
              "    (() => {\n",
              "      let quickchartButtonEl =\n",
              "        document.querySelector('#df-3f35a447-55af-4ccc-974e-44f429d6b7a1 button');\n",
              "      quickchartButtonEl.style.display =\n",
              "        google.colab.kernel.accessAllowed ? 'block' : 'none';\n",
              "    })();\n",
              "  </script>\n",
              "</div>\n",
              "\n",
              "    </div>\n",
              "  </div>\n"
            ],
            "application/vnd.google.colaboratory.intrinsic+json": {
              "type": "dataframe",
              "variable_name": "data4",
              "summary": "{\n  \"name\": \"data4\",\n  \"rows\": 891,\n  \"fields\": [\n    {\n      \"column\": \"PassengerId\",\n      \"properties\": {\n        \"dtype\": \"number\",\n        \"std\": 257,\n        \"min\": 1,\n        \"max\": 891,\n        \"num_unique_values\": 891,\n        \"samples\": [\n          710,\n          440,\n          841\n        ],\n        \"semantic_type\": \"\",\n        \"description\": \"\"\n      }\n    },\n    {\n      \"column\": \"Survived\",\n      \"properties\": {\n        \"dtype\": \"number\",\n        \"std\": 0,\n        \"min\": 0,\n        \"max\": 1,\n        \"num_unique_values\": 2,\n        \"samples\": [\n          1,\n          0\n        ],\n        \"semantic_type\": \"\",\n        \"description\": \"\"\n      }\n    },\n    {\n      \"column\": \"Pclass\",\n      \"properties\": {\n        \"dtype\": \"number\",\n        \"std\": 0,\n        \"min\": 1,\n        \"max\": 3,\n        \"num_unique_values\": 3,\n        \"samples\": [\n          3,\n          1\n        ],\n        \"semantic_type\": \"\",\n        \"description\": \"\"\n      }\n    },\n    {\n      \"column\": \"Name\",\n      \"properties\": {\n        \"dtype\": \"string\",\n        \"num_unique_values\": 891,\n        \"samples\": [\n          \"Moubarek, Master. Halim Gonios (\\\"William George\\\")\",\n          \"Kvillner, Mr. Johan Henrik Johannesson\"\n        ],\n        \"semantic_type\": \"\",\n        \"description\": \"\"\n      }\n    },\n    {\n      \"column\": \"Sex\",\n      \"properties\": {\n        \"dtype\": \"category\",\n        \"num_unique_values\": 2,\n        \"samples\": [\n          \"female\",\n          \"male\"\n        ],\n        \"semantic_type\": \"\",\n        \"description\": \"\"\n      }\n    },\n    {\n      \"column\": \"Age\",\n      \"properties\": {\n        \"dtype\": \"number\",\n        \"std\": 14.526497332334042,\n        \"min\": 0.42,\n        \"max\": 80.0,\n        \"num_unique_values\": 88,\n        \"samples\": [\n          0.75,\n          22.0\n        ],\n        \"semantic_type\": \"\",\n        \"description\": \"\"\n      }\n    },\n    {\n      \"column\": \"SibSp\",\n      \"properties\": {\n        \"dtype\": \"number\",\n        \"std\": 1,\n        \"min\": 0,\n        \"max\": 8,\n        \"num_unique_values\": 7,\n        \"samples\": [\n          1,\n          0\n        ],\n        \"semantic_type\": \"\",\n        \"description\": \"\"\n      }\n    },\n    {\n      \"column\": \"Parch\",\n      \"properties\": {\n        \"dtype\": \"number\",\n        \"std\": 0,\n        \"min\": 0,\n        \"max\": 6,\n        \"num_unique_values\": 7,\n        \"samples\": [\n          0,\n          1\n        ],\n        \"semantic_type\": \"\",\n        \"description\": \"\"\n      }\n    },\n    {\n      \"column\": \"Ticket\",\n      \"properties\": {\n        \"dtype\": \"string\",\n        \"num_unique_values\": 681,\n        \"samples\": [\n          \"11774\",\n          \"248740\"\n        ],\n        \"semantic_type\": \"\",\n        \"description\": \"\"\n      }\n    },\n    {\n      \"column\": \"Fare\",\n      \"properties\": {\n        \"dtype\": \"number\",\n        \"std\": 49.6934285971809,\n        \"min\": 0.0,\n        \"max\": 512.3292,\n        \"num_unique_values\": 248,\n        \"samples\": [\n          11.2417,\n          51.8625\n        ],\n        \"semantic_type\": \"\",\n        \"description\": \"\"\n      }\n    },\n    {\n      \"column\": \"Cabin\",\n      \"properties\": {\n        \"dtype\": \"category\",\n        \"num_unique_values\": 147,\n        \"samples\": [\n          \"D45\",\n          \"B49\"\n        ],\n        \"semantic_type\": \"\",\n        \"description\": \"\"\n      }\n    },\n    {\n      \"column\": \"Embarked\",\n      \"properties\": {\n        \"dtype\": \"category\",\n        \"num_unique_values\": 3,\n        \"samples\": [\n          \"S\",\n          \"C\"\n        ],\n        \"semantic_type\": \"\",\n        \"description\": \"\"\n      }\n    },\n    {\n      \"column\": \"Title\",\n      \"properties\": {\n        \"dtype\": \"category\",\n        \"num_unique_values\": 6,\n        \"samples\": [\n          \"Mr\",\n          \"Mrs\"\n        ],\n        \"semantic_type\": \"\",\n        \"description\": \"\"\n      }\n    }\n  ]\n}"
            }
          },
          "metadata": {},
          "execution_count": 118
        }
      ]
    },
    {
      "cell_type": "markdown",
      "source": [
        "Cek jumlah dari masing-masing kelompok title.\n",
        "\n",
        "**Tugas 5**: Berapa orang yang termasuk officer, royal, dan lainnya?"
      ],
      "metadata": {
        "id": "dRhTrolgEAhr"
      }
    },
    {
      "cell_type": "code",
      "source": [
        "# Memetakan title ke dalam kelompok yang telah ditentukan (Officer, Royalty, dll.)\n",
        "data4['Title'] = data4['Title'].map(title_map)\n",
        "\n",
        "# Menghitung jumlah orang dari masing-masing kelompok title\n",
        "title_counts = data4['Title'].value_counts()\n",
        "\n",
        "# Menampilkan jumlah orang dari masing-masing kelompok title\n",
        "print(title_counts)\n",
        "\n",
        "# Menampilkan jumlah orang berdasarkan kategori Officer, Royalty, dan lainnya\n",
        "officers = title_counts.get(\"Officer\", 0)\n",
        "royalty = title_counts.get(\"Royalty\", 0)\n",
        "other = title_counts.sum() - officers - royalty\n",
        "\n",
        "print(f\"Jumlah Officer: {officers}\")\n",
        "print(f\"Jumlah Royalty: {royalty}\")\n",
        "print(f\"Jumlah Lainnya: {other}\")\n"
      ],
      "metadata": {
        "colab": {
          "base_uri": "https://localhost:8080/"
        },
        "id": "dL8u2sUgECmZ",
        "outputId": "ed782b0e-400c-40de-b9ca-7e722df6719f"
      },
      "execution_count": null,
      "outputs": [
        {
          "output_type": "stream",
          "name": "stdout",
          "text": [
            "Title\n",
            "Mr        517\n",
            "Miss      182\n",
            "Mrs       127\n",
            "Master     40\n",
            "Name: count, dtype: int64\n",
            "Jumlah Officer: 0\n",
            "Jumlah Royalty: 0\n",
            "Jumlah Lainnya: 866\n"
          ]
        }
      ]
    },
    {
      "cell_type": "markdown",
      "source": [
        "tidak ada atribut penumpang merupaka dewasa atau anak-anak\n",
        "cek apakah pada atribut umur ada yang kosong/null?"
      ],
      "metadata": {
        "id": "NrgkOWL-ETrE"
      }
    },
    {
      "cell_type": "code",
      "source": [
        "data4[\"Age\"].isnull().sum()"
      ],
      "metadata": {
        "colab": {
          "base_uri": "https://localhost:8080/"
        },
        "id": "0-hO-dBlE-sJ",
        "outputId": "0756a24f-5535-4934-c177-68a3e8d7e3f4"
      },
      "execution_count": null,
      "outputs": [
        {
          "output_type": "execute_result",
          "data": {
            "text/plain": [
              "177"
            ]
          },
          "metadata": {},
          "execution_count": 120
        }
      ]
    },
    {
      "cell_type": "markdown",
      "source": [
        "Karena pada atribut umur banyak yang kosong, maka untuk kelompok umur ini sebaiknya kita\n",
        "ambil dari title. Karena kita dapat menentukan secara umum kelompok umur seseorang\n",
        "dilihat titlenya.\n",
        "Buat fungsi untuk mengelompokkan kelompok umur dengan menggunakan aturan kondisi."
      ],
      "metadata": {
        "id": "9DSFUZ5_FLV_"
      }
    },
    {
      "cell_type": "code",
      "source": [
        "def passenger_type(row):\n",
        "  if row['Age'] < 2 :\n",
        "    return 'Infant'\n",
        "  elif row['Age'] >= 2 and row['Age'] < 12 :\n",
        "    return 'Child'\n",
        "  elif row['Age'] >= 12 and row['Age'] < 18 :\n",
        "    return 'Youth'\n",
        "  elif row['Age'] >= 18 and row['Age'] < 60 :\n",
        "    return 'Adult'\n",
        "  elif row['Age'] >= 60 :\n",
        "    return 'Senior'\n",
        "  elif row['Title'] == 'Master':\n",
        "    return 'Child'\n",
        "  elif row['Title'] == 'Miss':\n",
        "    return 'Child'\n",
        "  elif row['Title'] == 'Mr'or row['Title'] == 'Mrs':\n",
        "    return 'Adult'\n",
        "  else:\n",
        "    return 'Unknown'\n",
        "\n",
        "data4['Passenger_type'] = data4.apply(lambda row: passenger_type(row), axis=1)\n",
        "\n",
        "data4.head(6)"
      ],
      "metadata": {
        "colab": {
          "base_uri": "https://localhost:8080/",
          "height": 553
        },
        "id": "Jl1rqfAqFSVq",
        "outputId": "8e541bf5-d749-4ce4-868a-56c7fd4d10ac"
      },
      "execution_count": null,
      "outputs": [
        {
          "output_type": "execute_result",
          "data": {
            "text/plain": [
              "   PassengerId  Survived  Pclass  \\\n",
              "0            1         0       3   \n",
              "1            2         1       1   \n",
              "2            3         1       3   \n",
              "3            4         1       1   \n",
              "4            5         0       3   \n",
              "5            6         0       3   \n",
              "\n",
              "                                                Name     Sex   Age  SibSp  \\\n",
              "0                            Braund, Mr. Owen Harris    male  22.0      1   \n",
              "1  Cumings, Mrs. John Bradley (Florence Briggs Th...  female  38.0      1   \n",
              "2                             Heikkinen, Miss. Laina  female  26.0      0   \n",
              "3       Futrelle, Mrs. Jacques Heath (Lily May Peel)  female  35.0      1   \n",
              "4                           Allen, Mr. William Henry    male  35.0      0   \n",
              "5                                   Moran, Mr. James    male   NaN      0   \n",
              "\n",
              "   Parch            Ticket     Fare Cabin Embarked Title Passenger_type  \n",
              "0      0         A/5 21171   7.2500   NaN        S    Mr          Adult  \n",
              "1      0          PC 17599  71.2833   C85        C   Mrs          Adult  \n",
              "2      0  STON/O2. 3101282   7.9250   NaN        S  Miss          Adult  \n",
              "3      0            113803  53.1000  C123        S   Mrs          Adult  \n",
              "4      0            373450   8.0500   NaN        S    Mr          Adult  \n",
              "5      0            330877   8.4583   NaN        Q    Mr          Adult  "
            ],
            "text/html": [
              "\n",
              "  <div id=\"df-72876c4d-e8b5-4334-b4fc-784c4d11de55\" class=\"colab-df-container\">\n",
              "    <div>\n",
              "<style scoped>\n",
              "    .dataframe tbody tr th:only-of-type {\n",
              "        vertical-align: middle;\n",
              "    }\n",
              "\n",
              "    .dataframe tbody tr th {\n",
              "        vertical-align: top;\n",
              "    }\n",
              "\n",
              "    .dataframe thead th {\n",
              "        text-align: right;\n",
              "    }\n",
              "</style>\n",
              "<table border=\"1\" class=\"dataframe\">\n",
              "  <thead>\n",
              "    <tr style=\"text-align: right;\">\n",
              "      <th></th>\n",
              "      <th>PassengerId</th>\n",
              "      <th>Survived</th>\n",
              "      <th>Pclass</th>\n",
              "      <th>Name</th>\n",
              "      <th>Sex</th>\n",
              "      <th>Age</th>\n",
              "      <th>SibSp</th>\n",
              "      <th>Parch</th>\n",
              "      <th>Ticket</th>\n",
              "      <th>Fare</th>\n",
              "      <th>Cabin</th>\n",
              "      <th>Embarked</th>\n",
              "      <th>Title</th>\n",
              "      <th>Passenger_type</th>\n",
              "    </tr>\n",
              "  </thead>\n",
              "  <tbody>\n",
              "    <tr>\n",
              "      <th>0</th>\n",
              "      <td>1</td>\n",
              "      <td>0</td>\n",
              "      <td>3</td>\n",
              "      <td>Braund, Mr. Owen Harris</td>\n",
              "      <td>male</td>\n",
              "      <td>22.0</td>\n",
              "      <td>1</td>\n",
              "      <td>0</td>\n",
              "      <td>A/5 21171</td>\n",
              "      <td>7.2500</td>\n",
              "      <td>NaN</td>\n",
              "      <td>S</td>\n",
              "      <td>Mr</td>\n",
              "      <td>Adult</td>\n",
              "    </tr>\n",
              "    <tr>\n",
              "      <th>1</th>\n",
              "      <td>2</td>\n",
              "      <td>1</td>\n",
              "      <td>1</td>\n",
              "      <td>Cumings, Mrs. John Bradley (Florence Briggs Th...</td>\n",
              "      <td>female</td>\n",
              "      <td>38.0</td>\n",
              "      <td>1</td>\n",
              "      <td>0</td>\n",
              "      <td>PC 17599</td>\n",
              "      <td>71.2833</td>\n",
              "      <td>C85</td>\n",
              "      <td>C</td>\n",
              "      <td>Mrs</td>\n",
              "      <td>Adult</td>\n",
              "    </tr>\n",
              "    <tr>\n",
              "      <th>2</th>\n",
              "      <td>3</td>\n",
              "      <td>1</td>\n",
              "      <td>3</td>\n",
              "      <td>Heikkinen, Miss. Laina</td>\n",
              "      <td>female</td>\n",
              "      <td>26.0</td>\n",
              "      <td>0</td>\n",
              "      <td>0</td>\n",
              "      <td>STON/O2. 3101282</td>\n",
              "      <td>7.9250</td>\n",
              "      <td>NaN</td>\n",
              "      <td>S</td>\n",
              "      <td>Miss</td>\n",
              "      <td>Adult</td>\n",
              "    </tr>\n",
              "    <tr>\n",
              "      <th>3</th>\n",
              "      <td>4</td>\n",
              "      <td>1</td>\n",
              "      <td>1</td>\n",
              "      <td>Futrelle, Mrs. Jacques Heath (Lily May Peel)</td>\n",
              "      <td>female</td>\n",
              "      <td>35.0</td>\n",
              "      <td>1</td>\n",
              "      <td>0</td>\n",
              "      <td>113803</td>\n",
              "      <td>53.1000</td>\n",
              "      <td>C123</td>\n",
              "      <td>S</td>\n",
              "      <td>Mrs</td>\n",
              "      <td>Adult</td>\n",
              "    </tr>\n",
              "    <tr>\n",
              "      <th>4</th>\n",
              "      <td>5</td>\n",
              "      <td>0</td>\n",
              "      <td>3</td>\n",
              "      <td>Allen, Mr. William Henry</td>\n",
              "      <td>male</td>\n",
              "      <td>35.0</td>\n",
              "      <td>0</td>\n",
              "      <td>0</td>\n",
              "      <td>373450</td>\n",
              "      <td>8.0500</td>\n",
              "      <td>NaN</td>\n",
              "      <td>S</td>\n",
              "      <td>Mr</td>\n",
              "      <td>Adult</td>\n",
              "    </tr>\n",
              "    <tr>\n",
              "      <th>5</th>\n",
              "      <td>6</td>\n",
              "      <td>0</td>\n",
              "      <td>3</td>\n",
              "      <td>Moran, Mr. James</td>\n",
              "      <td>male</td>\n",
              "      <td>NaN</td>\n",
              "      <td>0</td>\n",
              "      <td>0</td>\n",
              "      <td>330877</td>\n",
              "      <td>8.4583</td>\n",
              "      <td>NaN</td>\n",
              "      <td>Q</td>\n",
              "      <td>Mr</td>\n",
              "      <td>Adult</td>\n",
              "    </tr>\n",
              "  </tbody>\n",
              "</table>\n",
              "</div>\n",
              "    <div class=\"colab-df-buttons\">\n",
              "\n",
              "  <div class=\"colab-df-container\">\n",
              "    <button class=\"colab-df-convert\" onclick=\"convertToInteractive('df-72876c4d-e8b5-4334-b4fc-784c4d11de55')\"\n",
              "            title=\"Convert this dataframe to an interactive table.\"\n",
              "            style=\"display:none;\">\n",
              "\n",
              "  <svg xmlns=\"http://www.w3.org/2000/svg\" height=\"24px\" viewBox=\"0 -960 960 960\">\n",
              "    <path d=\"M120-120v-720h720v720H120Zm60-500h600v-160H180v160Zm220 220h160v-160H400v160Zm0 220h160v-160H400v160ZM180-400h160v-160H180v160Zm440 0h160v-160H620v160ZM180-180h160v-160H180v160Zm440 0h160v-160H620v160Z\"/>\n",
              "  </svg>\n",
              "    </button>\n",
              "\n",
              "  <style>\n",
              "    .colab-df-container {\n",
              "      display:flex;\n",
              "      gap: 12px;\n",
              "    }\n",
              "\n",
              "    .colab-df-convert {\n",
              "      background-color: #E8F0FE;\n",
              "      border: none;\n",
              "      border-radius: 50%;\n",
              "      cursor: pointer;\n",
              "      display: none;\n",
              "      fill: #1967D2;\n",
              "      height: 32px;\n",
              "      padding: 0 0 0 0;\n",
              "      width: 32px;\n",
              "    }\n",
              "\n",
              "    .colab-df-convert:hover {\n",
              "      background-color: #E2EBFA;\n",
              "      box-shadow: 0px 1px 2px rgba(60, 64, 67, 0.3), 0px 1px 3px 1px rgba(60, 64, 67, 0.15);\n",
              "      fill: #174EA6;\n",
              "    }\n",
              "\n",
              "    .colab-df-buttons div {\n",
              "      margin-bottom: 4px;\n",
              "    }\n",
              "\n",
              "    [theme=dark] .colab-df-convert {\n",
              "      background-color: #3B4455;\n",
              "      fill: #D2E3FC;\n",
              "    }\n",
              "\n",
              "    [theme=dark] .colab-df-convert:hover {\n",
              "      background-color: #434B5C;\n",
              "      box-shadow: 0px 1px 3px 1px rgba(0, 0, 0, 0.15);\n",
              "      filter: drop-shadow(0px 1px 2px rgba(0, 0, 0, 0.3));\n",
              "      fill: #FFFFFF;\n",
              "    }\n",
              "  </style>\n",
              "\n",
              "    <script>\n",
              "      const buttonEl =\n",
              "        document.querySelector('#df-72876c4d-e8b5-4334-b4fc-784c4d11de55 button.colab-df-convert');\n",
              "      buttonEl.style.display =\n",
              "        google.colab.kernel.accessAllowed ? 'block' : 'none';\n",
              "\n",
              "      async function convertToInteractive(key) {\n",
              "        const element = document.querySelector('#df-72876c4d-e8b5-4334-b4fc-784c4d11de55');\n",
              "        const dataTable =\n",
              "          await google.colab.kernel.invokeFunction('convertToInteractive',\n",
              "                                                    [key], {});\n",
              "        if (!dataTable) return;\n",
              "\n",
              "        const docLinkHtml = 'Like what you see? Visit the ' +\n",
              "          '<a target=\"_blank\" href=https://colab.research.google.com/notebooks/data_table.ipynb>data table notebook</a>'\n",
              "          + ' to learn more about interactive tables.';\n",
              "        element.innerHTML = '';\n",
              "        dataTable['output_type'] = 'display_data';\n",
              "        await google.colab.output.renderOutput(dataTable, element);\n",
              "        const docLink = document.createElement('div');\n",
              "        docLink.innerHTML = docLinkHtml;\n",
              "        element.appendChild(docLink);\n",
              "      }\n",
              "    </script>\n",
              "  </div>\n",
              "\n",
              "\n",
              "<div id=\"df-4059f6c4-cb34-4d15-a383-20c29b24666e\">\n",
              "  <button class=\"colab-df-quickchart\" onclick=\"quickchart('df-4059f6c4-cb34-4d15-a383-20c29b24666e')\"\n",
              "            title=\"Suggest charts\"\n",
              "            style=\"display:none;\">\n",
              "\n",
              "<svg xmlns=\"http://www.w3.org/2000/svg\" height=\"24px\"viewBox=\"0 0 24 24\"\n",
              "     width=\"24px\">\n",
              "    <g>\n",
              "        <path d=\"M19 3H5c-1.1 0-2 .9-2 2v14c0 1.1.9 2 2 2h14c1.1 0 2-.9 2-2V5c0-1.1-.9-2-2-2zM9 17H7v-7h2v7zm4 0h-2V7h2v10zm4 0h-2v-4h2v4z\"/>\n",
              "    </g>\n",
              "</svg>\n",
              "  </button>\n",
              "\n",
              "<style>\n",
              "  .colab-df-quickchart {\n",
              "      --bg-color: #E8F0FE;\n",
              "      --fill-color: #1967D2;\n",
              "      --hover-bg-color: #E2EBFA;\n",
              "      --hover-fill-color: #174EA6;\n",
              "      --disabled-fill-color: #AAA;\n",
              "      --disabled-bg-color: #DDD;\n",
              "  }\n",
              "\n",
              "  [theme=dark] .colab-df-quickchart {\n",
              "      --bg-color: #3B4455;\n",
              "      --fill-color: #D2E3FC;\n",
              "      --hover-bg-color: #434B5C;\n",
              "      --hover-fill-color: #FFFFFF;\n",
              "      --disabled-bg-color: #3B4455;\n",
              "      --disabled-fill-color: #666;\n",
              "  }\n",
              "\n",
              "  .colab-df-quickchart {\n",
              "    background-color: var(--bg-color);\n",
              "    border: none;\n",
              "    border-radius: 50%;\n",
              "    cursor: pointer;\n",
              "    display: none;\n",
              "    fill: var(--fill-color);\n",
              "    height: 32px;\n",
              "    padding: 0;\n",
              "    width: 32px;\n",
              "  }\n",
              "\n",
              "  .colab-df-quickchart:hover {\n",
              "    background-color: var(--hover-bg-color);\n",
              "    box-shadow: 0 1px 2px rgba(60, 64, 67, 0.3), 0 1px 3px 1px rgba(60, 64, 67, 0.15);\n",
              "    fill: var(--button-hover-fill-color);\n",
              "  }\n",
              "\n",
              "  .colab-df-quickchart-complete:disabled,\n",
              "  .colab-df-quickchart-complete:disabled:hover {\n",
              "    background-color: var(--disabled-bg-color);\n",
              "    fill: var(--disabled-fill-color);\n",
              "    box-shadow: none;\n",
              "  }\n",
              "\n",
              "  .colab-df-spinner {\n",
              "    border: 2px solid var(--fill-color);\n",
              "    border-color: transparent;\n",
              "    border-bottom-color: var(--fill-color);\n",
              "    animation:\n",
              "      spin 1s steps(1) infinite;\n",
              "  }\n",
              "\n",
              "  @keyframes spin {\n",
              "    0% {\n",
              "      border-color: transparent;\n",
              "      border-bottom-color: var(--fill-color);\n",
              "      border-left-color: var(--fill-color);\n",
              "    }\n",
              "    20% {\n",
              "      border-color: transparent;\n",
              "      border-left-color: var(--fill-color);\n",
              "      border-top-color: var(--fill-color);\n",
              "    }\n",
              "    30% {\n",
              "      border-color: transparent;\n",
              "      border-left-color: var(--fill-color);\n",
              "      border-top-color: var(--fill-color);\n",
              "      border-right-color: var(--fill-color);\n",
              "    }\n",
              "    40% {\n",
              "      border-color: transparent;\n",
              "      border-right-color: var(--fill-color);\n",
              "      border-top-color: var(--fill-color);\n",
              "    }\n",
              "    60% {\n",
              "      border-color: transparent;\n",
              "      border-right-color: var(--fill-color);\n",
              "    }\n",
              "    80% {\n",
              "      border-color: transparent;\n",
              "      border-right-color: var(--fill-color);\n",
              "      border-bottom-color: var(--fill-color);\n",
              "    }\n",
              "    90% {\n",
              "      border-color: transparent;\n",
              "      border-bottom-color: var(--fill-color);\n",
              "    }\n",
              "  }\n",
              "</style>\n",
              "\n",
              "  <script>\n",
              "    async function quickchart(key) {\n",
              "      const quickchartButtonEl =\n",
              "        document.querySelector('#' + key + ' button');\n",
              "      quickchartButtonEl.disabled = true;  // To prevent multiple clicks.\n",
              "      quickchartButtonEl.classList.add('colab-df-spinner');\n",
              "      try {\n",
              "        const charts = await google.colab.kernel.invokeFunction(\n",
              "            'suggestCharts', [key], {});\n",
              "      } catch (error) {\n",
              "        console.error('Error during call to suggestCharts:', error);\n",
              "      }\n",
              "      quickchartButtonEl.classList.remove('colab-df-spinner');\n",
              "      quickchartButtonEl.classList.add('colab-df-quickchart-complete');\n",
              "    }\n",
              "    (() => {\n",
              "      let quickchartButtonEl =\n",
              "        document.querySelector('#df-4059f6c4-cb34-4d15-a383-20c29b24666e button');\n",
              "      quickchartButtonEl.style.display =\n",
              "        google.colab.kernel.accessAllowed ? 'block' : 'none';\n",
              "    })();\n",
              "  </script>\n",
              "</div>\n",
              "\n",
              "    </div>\n",
              "  </div>\n"
            ],
            "application/vnd.google.colaboratory.intrinsic+json": {
              "type": "dataframe",
              "variable_name": "data4",
              "summary": "{\n  \"name\": \"data4\",\n  \"rows\": 891,\n  \"fields\": [\n    {\n      \"column\": \"PassengerId\",\n      \"properties\": {\n        \"dtype\": \"number\",\n        \"std\": 257,\n        \"min\": 1,\n        \"max\": 891,\n        \"num_unique_values\": 891,\n        \"samples\": [\n          710,\n          440,\n          841\n        ],\n        \"semantic_type\": \"\",\n        \"description\": \"\"\n      }\n    },\n    {\n      \"column\": \"Survived\",\n      \"properties\": {\n        \"dtype\": \"number\",\n        \"std\": 0,\n        \"min\": 0,\n        \"max\": 1,\n        \"num_unique_values\": 2,\n        \"samples\": [\n          1,\n          0\n        ],\n        \"semantic_type\": \"\",\n        \"description\": \"\"\n      }\n    },\n    {\n      \"column\": \"Pclass\",\n      \"properties\": {\n        \"dtype\": \"number\",\n        \"std\": 0,\n        \"min\": 1,\n        \"max\": 3,\n        \"num_unique_values\": 3,\n        \"samples\": [\n          3,\n          1\n        ],\n        \"semantic_type\": \"\",\n        \"description\": \"\"\n      }\n    },\n    {\n      \"column\": \"Name\",\n      \"properties\": {\n        \"dtype\": \"string\",\n        \"num_unique_values\": 891,\n        \"samples\": [\n          \"Moubarek, Master. Halim Gonios (\\\"William George\\\")\",\n          \"Kvillner, Mr. Johan Henrik Johannesson\"\n        ],\n        \"semantic_type\": \"\",\n        \"description\": \"\"\n      }\n    },\n    {\n      \"column\": \"Sex\",\n      \"properties\": {\n        \"dtype\": \"category\",\n        \"num_unique_values\": 2,\n        \"samples\": [\n          \"female\",\n          \"male\"\n        ],\n        \"semantic_type\": \"\",\n        \"description\": \"\"\n      }\n    },\n    {\n      \"column\": \"Age\",\n      \"properties\": {\n        \"dtype\": \"number\",\n        \"std\": 14.526497332334042,\n        \"min\": 0.42,\n        \"max\": 80.0,\n        \"num_unique_values\": 88,\n        \"samples\": [\n          0.75,\n          22.0\n        ],\n        \"semantic_type\": \"\",\n        \"description\": \"\"\n      }\n    },\n    {\n      \"column\": \"SibSp\",\n      \"properties\": {\n        \"dtype\": \"number\",\n        \"std\": 1,\n        \"min\": 0,\n        \"max\": 8,\n        \"num_unique_values\": 7,\n        \"samples\": [\n          1,\n          0\n        ],\n        \"semantic_type\": \"\",\n        \"description\": \"\"\n      }\n    },\n    {\n      \"column\": \"Parch\",\n      \"properties\": {\n        \"dtype\": \"number\",\n        \"std\": 0,\n        \"min\": 0,\n        \"max\": 6,\n        \"num_unique_values\": 7,\n        \"samples\": [\n          0,\n          1\n        ],\n        \"semantic_type\": \"\",\n        \"description\": \"\"\n      }\n    },\n    {\n      \"column\": \"Ticket\",\n      \"properties\": {\n        \"dtype\": \"string\",\n        \"num_unique_values\": 681,\n        \"samples\": [\n          \"11774\",\n          \"248740\"\n        ],\n        \"semantic_type\": \"\",\n        \"description\": \"\"\n      }\n    },\n    {\n      \"column\": \"Fare\",\n      \"properties\": {\n        \"dtype\": \"number\",\n        \"std\": 49.6934285971809,\n        \"min\": 0.0,\n        \"max\": 512.3292,\n        \"num_unique_values\": 248,\n        \"samples\": [\n          11.2417,\n          51.8625\n        ],\n        \"semantic_type\": \"\",\n        \"description\": \"\"\n      }\n    },\n    {\n      \"column\": \"Cabin\",\n      \"properties\": {\n        \"dtype\": \"category\",\n        \"num_unique_values\": 147,\n        \"samples\": [\n          \"D45\",\n          \"B49\"\n        ],\n        \"semantic_type\": \"\",\n        \"description\": \"\"\n      }\n    },\n    {\n      \"column\": \"Embarked\",\n      \"properties\": {\n        \"dtype\": \"category\",\n        \"num_unique_values\": 3,\n        \"samples\": [\n          \"S\",\n          \"C\"\n        ],\n        \"semantic_type\": \"\",\n        \"description\": \"\"\n      }\n    },\n    {\n      \"column\": \"Title\",\n      \"properties\": {\n        \"dtype\": \"category\",\n        \"num_unique_values\": 4,\n        \"samples\": [\n          \"Mrs\",\n          \"Master\"\n        ],\n        \"semantic_type\": \"\",\n        \"description\": \"\"\n      }\n    },\n    {\n      \"column\": \"Passenger_type\",\n      \"properties\": {\n        \"dtype\": \"category\",\n        \"num_unique_values\": 6,\n        \"samples\": [\n          \"Adult\",\n          \"Child\"\n        ],\n        \"semantic_type\": \"\",\n        \"description\": \"\"\n      }\n    }\n  ]\n}"
            }
          },
          "metadata": {},
          "execution_count": 121
        }
      ]
    },
    {
      "cell_type": "markdown",
      "source": [
        "> **Penjelasan Kode:**\n",
        "\n",
        "1. **Memetakan title**: Menggunakan map(title_map) untuk mengubah title menjadi kategori seperti Officer, Royalty, Mr, Mrs, Miss, dll.\n",
        "2. **Menghitung jumlah kemunculan tiap kategori**: Menggunakan value_counts() untuk menghitung berapa kali setiap title muncul.\n",
        "3. **Mengambil jumlah Officer dan Royalty**: Dengan get(\"Officer\", 0) dan get(\"Royalty\", 0), kita memastikan jumlahnya, serta untuk kategori lainnya (seperti Mr, Mrs, dll.), kita hitung dengan mengurangi jumlah Officer dan Royalty dari total keseluruhan.\n",
        "> **Output:**\n",
        "1. **Jumlah Officer**: Total penumpang dengan title yang dipetakan sebagai Officer.\n",
        "2. **Jumlah Royalty**: Total penumpang dengan title yang dipetakan sebagai Royalty.\n",
        "3. **Jumlah Lainnya**: Total penumpang yang termasuk ke dalam title selain Officer dan Royalty.\n"
      ],
      "metadata": {
        "id": "0e16n1OJMSg0"
      }
    },
    {
      "cell_type": "markdown",
      "source": [
        "Cek jumlah dari masing-masing kelompok umur.\n",
        "\n",
        "**Tugas 6**: Berapa orang yang senior, dewasa, dan anak-anak?"
      ],
      "metadata": {
        "id": "x3JurWyDNDUn"
      }
    },
    {
      "cell_type": "code",
      "source": [
        "# Menghitung jumlah dari masing-masing kelompok umur\n",
        "age_group_counts = data4['Passenger_type'].value_counts()\n",
        "\n",
        "# Menampilkan jumlah orang dari masing-masing kelompok umur\n",
        "print(age_group_counts)\n",
        "\n",
        "# Mendapatkan jumlah Senior, Adult, dan Child\n",
        "senior = age_group_counts.get('Senior', 0)\n",
        "adult = age_group_counts.get('Adult', 0)\n",
        "child = age_group_counts.get('Child', 0)\n",
        "\n",
        "print(f\"Jumlah Senior: {senior}\")\n",
        "print(f\"Jumlah Adult: {adult}\")\n",
        "print(f\"Jumlah Child: {child}\")\n"
      ],
      "metadata": {
        "colab": {
          "base_uri": "https://localhost:8080/"
        },
        "id": "Y22xEIZvMDa-",
        "outputId": "d700ab88-e234-4252-ab3b-9421703bd80e"
      },
      "execution_count": null,
      "outputs": [
        {
          "output_type": "stream",
          "name": "stdout",
          "text": [
            "Passenger_type\n",
            "Adult      711\n",
            "Child       94\n",
            "Youth       45\n",
            "Senior      26\n",
            "Infant      14\n",
            "Unknown      1\n",
            "Name: count, dtype: int64\n",
            "Jumlah Senior: 26\n",
            "Jumlah Adult: 711\n",
            "Jumlah Child: 94\n"
          ]
        }
      ]
    },
    {
      "cell_type": "markdown",
      "source": [
        "> ## Transformasi Data"
      ],
      "metadata": {
        "id": "Qy-Y7ijaab5V"
      }
    },
    {
      "cell_type": "markdown",
      "source": [
        "### Cara manual adalah dengan melakukan mapping atribut jenis kelamin.\n",
        "Dengan laki-laki : 1dan perempuan : 0\n"
      ],
      "metadata": {
        "id": "mc265rMHbKI0"
      }
    },
    {
      "cell_type": "code",
      "source": [
        "Sex_map={\"male\": 1, \"female\": 0}\n",
        "data4['Sex'] = data4['Sex'].map(Sex_map)"
      ],
      "metadata": {
        "id": "JFcdLcO4ahrF"
      },
      "execution_count": null,
      "outputs": []
    },
    {
      "cell_type": "markdown",
      "source": [
        "cek data(4)"
      ],
      "metadata": {
        "id": "iBUIVeJgbZJr"
      }
    },
    {
      "cell_type": "code",
      "source": [
        "data4.head(20)"
      ],
      "metadata": {
        "colab": {
          "base_uri": "https://localhost:8080/",
          "height": 1000
        },
        "id": "crA5RCP3bbdb",
        "outputId": "729b44be-aa49-4afd-e0dc-795648701b0f"
      },
      "execution_count": null,
      "outputs": [
        {
          "output_type": "execute_result",
          "data": {
            "text/plain": [
              "    PassengerId  Survived  Pclass  \\\n",
              "0             1         0       3   \n",
              "1             2         1       1   \n",
              "2             3         1       3   \n",
              "3             4         1       1   \n",
              "4             5         0       3   \n",
              "5             6         0       3   \n",
              "6             7         0       1   \n",
              "7             8         0       3   \n",
              "8             9         1       3   \n",
              "9            10         1       2   \n",
              "10           11         1       3   \n",
              "11           12         1       1   \n",
              "12           13         0       3   \n",
              "13           14         0       3   \n",
              "14           15         0       3   \n",
              "15           16         1       2   \n",
              "16           17         0       3   \n",
              "17           18         1       2   \n",
              "18           19         0       3   \n",
              "19           20         1       3   \n",
              "\n",
              "                                                 Name  Sex   Age  SibSp  \\\n",
              "0                             Braund, Mr. Owen Harris    1  22.0      1   \n",
              "1   Cumings, Mrs. John Bradley (Florence Briggs Th...    0  38.0      1   \n",
              "2                              Heikkinen, Miss. Laina    0  26.0      0   \n",
              "3        Futrelle, Mrs. Jacques Heath (Lily May Peel)    0  35.0      1   \n",
              "4                            Allen, Mr. William Henry    1  35.0      0   \n",
              "5                                    Moran, Mr. James    1   NaN      0   \n",
              "6                             McCarthy, Mr. Timothy J    1  54.0      0   \n",
              "7                      Palsson, Master. Gosta Leonard    1   2.0      3   \n",
              "8   Johnson, Mrs. Oscar W (Elisabeth Vilhelmina Berg)    0  27.0      0   \n",
              "9                 Nasser, Mrs. Nicholas (Adele Achem)    0  14.0      1   \n",
              "10                    Sandstrom, Miss. Marguerite Rut    0   4.0      1   \n",
              "11                           Bonnell, Miss. Elizabeth    0  58.0      0   \n",
              "12                     Saundercock, Mr. William Henry    1  20.0      0   \n",
              "13                        Andersson, Mr. Anders Johan    1  39.0      1   \n",
              "14               Vestrom, Miss. Hulda Amanda Adolfina    0  14.0      0   \n",
              "15                   Hewlett, Mrs. (Mary D Kingcome)     0  55.0      0   \n",
              "16                               Rice, Master. Eugene    1   2.0      4   \n",
              "17                       Williams, Mr. Charles Eugene    1   NaN      0   \n",
              "18  Vander Planke, Mrs. Julius (Emelia Maria Vande...    0  31.0      1   \n",
              "19                            Masselmani, Mrs. Fatima    0   NaN      0   \n",
              "\n",
              "    Parch            Ticket     Fare Cabin Embarked   Title Passenger_type  \n",
              "0       0         A/5 21171   7.2500   NaN        S      Mr          Adult  \n",
              "1       0          PC 17599  71.2833   C85        C     Mrs          Adult  \n",
              "2       0  STON/O2. 3101282   7.9250   NaN        S    Miss          Adult  \n",
              "3       0            113803  53.1000  C123        S     Mrs          Adult  \n",
              "4       0            373450   8.0500   NaN        S      Mr          Adult  \n",
              "5       0            330877   8.4583   NaN        Q      Mr          Adult  \n",
              "6       0             17463  51.8625   E46        S      Mr          Adult  \n",
              "7       1            349909  21.0750   NaN        S  Master          Child  \n",
              "8       2            347742  11.1333   NaN        S     Mrs          Adult  \n",
              "9       0            237736  30.0708   NaN        C     Mrs          Youth  \n",
              "10      1           PP 9549  16.7000    G6        S    Miss          Child  \n",
              "11      0            113783  26.5500  C103        S    Miss          Adult  \n",
              "12      0         A/5. 2151   8.0500   NaN        S      Mr          Adult  \n",
              "13      5            347082  31.2750   NaN        S      Mr          Adult  \n",
              "14      0            350406   7.8542   NaN        S    Miss          Youth  \n",
              "15      0            248706  16.0000   NaN        S     Mrs          Adult  \n",
              "16      1            382652  29.1250   NaN        Q  Master          Child  \n",
              "17      0            244373  13.0000   NaN        S      Mr          Adult  \n",
              "18      0            345763  18.0000   NaN        S     Mrs          Adult  \n",
              "19      0              2649   7.2250   NaN        C     Mrs          Adult  "
            ],
            "text/html": [
              "\n",
              "  <div id=\"df-f7a33994-3e14-451b-b523-44d2d4c7d631\" class=\"colab-df-container\">\n",
              "    <div>\n",
              "<style scoped>\n",
              "    .dataframe tbody tr th:only-of-type {\n",
              "        vertical-align: middle;\n",
              "    }\n",
              "\n",
              "    .dataframe tbody tr th {\n",
              "        vertical-align: top;\n",
              "    }\n",
              "\n",
              "    .dataframe thead th {\n",
              "        text-align: right;\n",
              "    }\n",
              "</style>\n",
              "<table border=\"1\" class=\"dataframe\">\n",
              "  <thead>\n",
              "    <tr style=\"text-align: right;\">\n",
              "      <th></th>\n",
              "      <th>PassengerId</th>\n",
              "      <th>Survived</th>\n",
              "      <th>Pclass</th>\n",
              "      <th>Name</th>\n",
              "      <th>Sex</th>\n",
              "      <th>Age</th>\n",
              "      <th>SibSp</th>\n",
              "      <th>Parch</th>\n",
              "      <th>Ticket</th>\n",
              "      <th>Fare</th>\n",
              "      <th>Cabin</th>\n",
              "      <th>Embarked</th>\n",
              "      <th>Title</th>\n",
              "      <th>Passenger_type</th>\n",
              "    </tr>\n",
              "  </thead>\n",
              "  <tbody>\n",
              "    <tr>\n",
              "      <th>0</th>\n",
              "      <td>1</td>\n",
              "      <td>0</td>\n",
              "      <td>3</td>\n",
              "      <td>Braund, Mr. Owen Harris</td>\n",
              "      <td>1</td>\n",
              "      <td>22.0</td>\n",
              "      <td>1</td>\n",
              "      <td>0</td>\n",
              "      <td>A/5 21171</td>\n",
              "      <td>7.2500</td>\n",
              "      <td>NaN</td>\n",
              "      <td>S</td>\n",
              "      <td>Mr</td>\n",
              "      <td>Adult</td>\n",
              "    </tr>\n",
              "    <tr>\n",
              "      <th>1</th>\n",
              "      <td>2</td>\n",
              "      <td>1</td>\n",
              "      <td>1</td>\n",
              "      <td>Cumings, Mrs. John Bradley (Florence Briggs Th...</td>\n",
              "      <td>0</td>\n",
              "      <td>38.0</td>\n",
              "      <td>1</td>\n",
              "      <td>0</td>\n",
              "      <td>PC 17599</td>\n",
              "      <td>71.2833</td>\n",
              "      <td>C85</td>\n",
              "      <td>C</td>\n",
              "      <td>Mrs</td>\n",
              "      <td>Adult</td>\n",
              "    </tr>\n",
              "    <tr>\n",
              "      <th>2</th>\n",
              "      <td>3</td>\n",
              "      <td>1</td>\n",
              "      <td>3</td>\n",
              "      <td>Heikkinen, Miss. Laina</td>\n",
              "      <td>0</td>\n",
              "      <td>26.0</td>\n",
              "      <td>0</td>\n",
              "      <td>0</td>\n",
              "      <td>STON/O2. 3101282</td>\n",
              "      <td>7.9250</td>\n",
              "      <td>NaN</td>\n",
              "      <td>S</td>\n",
              "      <td>Miss</td>\n",
              "      <td>Adult</td>\n",
              "    </tr>\n",
              "    <tr>\n",
              "      <th>3</th>\n",
              "      <td>4</td>\n",
              "      <td>1</td>\n",
              "      <td>1</td>\n",
              "      <td>Futrelle, Mrs. Jacques Heath (Lily May Peel)</td>\n",
              "      <td>0</td>\n",
              "      <td>35.0</td>\n",
              "      <td>1</td>\n",
              "      <td>0</td>\n",
              "      <td>113803</td>\n",
              "      <td>53.1000</td>\n",
              "      <td>C123</td>\n",
              "      <td>S</td>\n",
              "      <td>Mrs</td>\n",
              "      <td>Adult</td>\n",
              "    </tr>\n",
              "    <tr>\n",
              "      <th>4</th>\n",
              "      <td>5</td>\n",
              "      <td>0</td>\n",
              "      <td>3</td>\n",
              "      <td>Allen, Mr. William Henry</td>\n",
              "      <td>1</td>\n",
              "      <td>35.0</td>\n",
              "      <td>0</td>\n",
              "      <td>0</td>\n",
              "      <td>373450</td>\n",
              "      <td>8.0500</td>\n",
              "      <td>NaN</td>\n",
              "      <td>S</td>\n",
              "      <td>Mr</td>\n",
              "      <td>Adult</td>\n",
              "    </tr>\n",
              "    <tr>\n",
              "      <th>5</th>\n",
              "      <td>6</td>\n",
              "      <td>0</td>\n",
              "      <td>3</td>\n",
              "      <td>Moran, Mr. James</td>\n",
              "      <td>1</td>\n",
              "      <td>NaN</td>\n",
              "      <td>0</td>\n",
              "      <td>0</td>\n",
              "      <td>330877</td>\n",
              "      <td>8.4583</td>\n",
              "      <td>NaN</td>\n",
              "      <td>Q</td>\n",
              "      <td>Mr</td>\n",
              "      <td>Adult</td>\n",
              "    </tr>\n",
              "    <tr>\n",
              "      <th>6</th>\n",
              "      <td>7</td>\n",
              "      <td>0</td>\n",
              "      <td>1</td>\n",
              "      <td>McCarthy, Mr. Timothy J</td>\n",
              "      <td>1</td>\n",
              "      <td>54.0</td>\n",
              "      <td>0</td>\n",
              "      <td>0</td>\n",
              "      <td>17463</td>\n",
              "      <td>51.8625</td>\n",
              "      <td>E46</td>\n",
              "      <td>S</td>\n",
              "      <td>Mr</td>\n",
              "      <td>Adult</td>\n",
              "    </tr>\n",
              "    <tr>\n",
              "      <th>7</th>\n",
              "      <td>8</td>\n",
              "      <td>0</td>\n",
              "      <td>3</td>\n",
              "      <td>Palsson, Master. Gosta Leonard</td>\n",
              "      <td>1</td>\n",
              "      <td>2.0</td>\n",
              "      <td>3</td>\n",
              "      <td>1</td>\n",
              "      <td>349909</td>\n",
              "      <td>21.0750</td>\n",
              "      <td>NaN</td>\n",
              "      <td>S</td>\n",
              "      <td>Master</td>\n",
              "      <td>Child</td>\n",
              "    </tr>\n",
              "    <tr>\n",
              "      <th>8</th>\n",
              "      <td>9</td>\n",
              "      <td>1</td>\n",
              "      <td>3</td>\n",
              "      <td>Johnson, Mrs. Oscar W (Elisabeth Vilhelmina Berg)</td>\n",
              "      <td>0</td>\n",
              "      <td>27.0</td>\n",
              "      <td>0</td>\n",
              "      <td>2</td>\n",
              "      <td>347742</td>\n",
              "      <td>11.1333</td>\n",
              "      <td>NaN</td>\n",
              "      <td>S</td>\n",
              "      <td>Mrs</td>\n",
              "      <td>Adult</td>\n",
              "    </tr>\n",
              "    <tr>\n",
              "      <th>9</th>\n",
              "      <td>10</td>\n",
              "      <td>1</td>\n",
              "      <td>2</td>\n",
              "      <td>Nasser, Mrs. Nicholas (Adele Achem)</td>\n",
              "      <td>0</td>\n",
              "      <td>14.0</td>\n",
              "      <td>1</td>\n",
              "      <td>0</td>\n",
              "      <td>237736</td>\n",
              "      <td>30.0708</td>\n",
              "      <td>NaN</td>\n",
              "      <td>C</td>\n",
              "      <td>Mrs</td>\n",
              "      <td>Youth</td>\n",
              "    </tr>\n",
              "    <tr>\n",
              "      <th>10</th>\n",
              "      <td>11</td>\n",
              "      <td>1</td>\n",
              "      <td>3</td>\n",
              "      <td>Sandstrom, Miss. Marguerite Rut</td>\n",
              "      <td>0</td>\n",
              "      <td>4.0</td>\n",
              "      <td>1</td>\n",
              "      <td>1</td>\n",
              "      <td>PP 9549</td>\n",
              "      <td>16.7000</td>\n",
              "      <td>G6</td>\n",
              "      <td>S</td>\n",
              "      <td>Miss</td>\n",
              "      <td>Child</td>\n",
              "    </tr>\n",
              "    <tr>\n",
              "      <th>11</th>\n",
              "      <td>12</td>\n",
              "      <td>1</td>\n",
              "      <td>1</td>\n",
              "      <td>Bonnell, Miss. Elizabeth</td>\n",
              "      <td>0</td>\n",
              "      <td>58.0</td>\n",
              "      <td>0</td>\n",
              "      <td>0</td>\n",
              "      <td>113783</td>\n",
              "      <td>26.5500</td>\n",
              "      <td>C103</td>\n",
              "      <td>S</td>\n",
              "      <td>Miss</td>\n",
              "      <td>Adult</td>\n",
              "    </tr>\n",
              "    <tr>\n",
              "      <th>12</th>\n",
              "      <td>13</td>\n",
              "      <td>0</td>\n",
              "      <td>3</td>\n",
              "      <td>Saundercock, Mr. William Henry</td>\n",
              "      <td>1</td>\n",
              "      <td>20.0</td>\n",
              "      <td>0</td>\n",
              "      <td>0</td>\n",
              "      <td>A/5. 2151</td>\n",
              "      <td>8.0500</td>\n",
              "      <td>NaN</td>\n",
              "      <td>S</td>\n",
              "      <td>Mr</td>\n",
              "      <td>Adult</td>\n",
              "    </tr>\n",
              "    <tr>\n",
              "      <th>13</th>\n",
              "      <td>14</td>\n",
              "      <td>0</td>\n",
              "      <td>3</td>\n",
              "      <td>Andersson, Mr. Anders Johan</td>\n",
              "      <td>1</td>\n",
              "      <td>39.0</td>\n",
              "      <td>1</td>\n",
              "      <td>5</td>\n",
              "      <td>347082</td>\n",
              "      <td>31.2750</td>\n",
              "      <td>NaN</td>\n",
              "      <td>S</td>\n",
              "      <td>Mr</td>\n",
              "      <td>Adult</td>\n",
              "    </tr>\n",
              "    <tr>\n",
              "      <th>14</th>\n",
              "      <td>15</td>\n",
              "      <td>0</td>\n",
              "      <td>3</td>\n",
              "      <td>Vestrom, Miss. Hulda Amanda Adolfina</td>\n",
              "      <td>0</td>\n",
              "      <td>14.0</td>\n",
              "      <td>0</td>\n",
              "      <td>0</td>\n",
              "      <td>350406</td>\n",
              "      <td>7.8542</td>\n",
              "      <td>NaN</td>\n",
              "      <td>S</td>\n",
              "      <td>Miss</td>\n",
              "      <td>Youth</td>\n",
              "    </tr>\n",
              "    <tr>\n",
              "      <th>15</th>\n",
              "      <td>16</td>\n",
              "      <td>1</td>\n",
              "      <td>2</td>\n",
              "      <td>Hewlett, Mrs. (Mary D Kingcome)</td>\n",
              "      <td>0</td>\n",
              "      <td>55.0</td>\n",
              "      <td>0</td>\n",
              "      <td>0</td>\n",
              "      <td>248706</td>\n",
              "      <td>16.0000</td>\n",
              "      <td>NaN</td>\n",
              "      <td>S</td>\n",
              "      <td>Mrs</td>\n",
              "      <td>Adult</td>\n",
              "    </tr>\n",
              "    <tr>\n",
              "      <th>16</th>\n",
              "      <td>17</td>\n",
              "      <td>0</td>\n",
              "      <td>3</td>\n",
              "      <td>Rice, Master. Eugene</td>\n",
              "      <td>1</td>\n",
              "      <td>2.0</td>\n",
              "      <td>4</td>\n",
              "      <td>1</td>\n",
              "      <td>382652</td>\n",
              "      <td>29.1250</td>\n",
              "      <td>NaN</td>\n",
              "      <td>Q</td>\n",
              "      <td>Master</td>\n",
              "      <td>Child</td>\n",
              "    </tr>\n",
              "    <tr>\n",
              "      <th>17</th>\n",
              "      <td>18</td>\n",
              "      <td>1</td>\n",
              "      <td>2</td>\n",
              "      <td>Williams, Mr. Charles Eugene</td>\n",
              "      <td>1</td>\n",
              "      <td>NaN</td>\n",
              "      <td>0</td>\n",
              "      <td>0</td>\n",
              "      <td>244373</td>\n",
              "      <td>13.0000</td>\n",
              "      <td>NaN</td>\n",
              "      <td>S</td>\n",
              "      <td>Mr</td>\n",
              "      <td>Adult</td>\n",
              "    </tr>\n",
              "    <tr>\n",
              "      <th>18</th>\n",
              "      <td>19</td>\n",
              "      <td>0</td>\n",
              "      <td>3</td>\n",
              "      <td>Vander Planke, Mrs. Julius (Emelia Maria Vande...</td>\n",
              "      <td>0</td>\n",
              "      <td>31.0</td>\n",
              "      <td>1</td>\n",
              "      <td>0</td>\n",
              "      <td>345763</td>\n",
              "      <td>18.0000</td>\n",
              "      <td>NaN</td>\n",
              "      <td>S</td>\n",
              "      <td>Mrs</td>\n",
              "      <td>Adult</td>\n",
              "    </tr>\n",
              "    <tr>\n",
              "      <th>19</th>\n",
              "      <td>20</td>\n",
              "      <td>1</td>\n",
              "      <td>3</td>\n",
              "      <td>Masselmani, Mrs. Fatima</td>\n",
              "      <td>0</td>\n",
              "      <td>NaN</td>\n",
              "      <td>0</td>\n",
              "      <td>0</td>\n",
              "      <td>2649</td>\n",
              "      <td>7.2250</td>\n",
              "      <td>NaN</td>\n",
              "      <td>C</td>\n",
              "      <td>Mrs</td>\n",
              "      <td>Adult</td>\n",
              "    </tr>\n",
              "  </tbody>\n",
              "</table>\n",
              "</div>\n",
              "    <div class=\"colab-df-buttons\">\n",
              "\n",
              "  <div class=\"colab-df-container\">\n",
              "    <button class=\"colab-df-convert\" onclick=\"convertToInteractive('df-f7a33994-3e14-451b-b523-44d2d4c7d631')\"\n",
              "            title=\"Convert this dataframe to an interactive table.\"\n",
              "            style=\"display:none;\">\n",
              "\n",
              "  <svg xmlns=\"http://www.w3.org/2000/svg\" height=\"24px\" viewBox=\"0 -960 960 960\">\n",
              "    <path d=\"M120-120v-720h720v720H120Zm60-500h600v-160H180v160Zm220 220h160v-160H400v160Zm0 220h160v-160H400v160ZM180-400h160v-160H180v160Zm440 0h160v-160H620v160ZM180-180h160v-160H180v160Zm440 0h160v-160H620v160Z\"/>\n",
              "  </svg>\n",
              "    </button>\n",
              "\n",
              "  <style>\n",
              "    .colab-df-container {\n",
              "      display:flex;\n",
              "      gap: 12px;\n",
              "    }\n",
              "\n",
              "    .colab-df-convert {\n",
              "      background-color: #E8F0FE;\n",
              "      border: none;\n",
              "      border-radius: 50%;\n",
              "      cursor: pointer;\n",
              "      display: none;\n",
              "      fill: #1967D2;\n",
              "      height: 32px;\n",
              "      padding: 0 0 0 0;\n",
              "      width: 32px;\n",
              "    }\n",
              "\n",
              "    .colab-df-convert:hover {\n",
              "      background-color: #E2EBFA;\n",
              "      box-shadow: 0px 1px 2px rgba(60, 64, 67, 0.3), 0px 1px 3px 1px rgba(60, 64, 67, 0.15);\n",
              "      fill: #174EA6;\n",
              "    }\n",
              "\n",
              "    .colab-df-buttons div {\n",
              "      margin-bottom: 4px;\n",
              "    }\n",
              "\n",
              "    [theme=dark] .colab-df-convert {\n",
              "      background-color: #3B4455;\n",
              "      fill: #D2E3FC;\n",
              "    }\n",
              "\n",
              "    [theme=dark] .colab-df-convert:hover {\n",
              "      background-color: #434B5C;\n",
              "      box-shadow: 0px 1px 3px 1px rgba(0, 0, 0, 0.15);\n",
              "      filter: drop-shadow(0px 1px 2px rgba(0, 0, 0, 0.3));\n",
              "      fill: #FFFFFF;\n",
              "    }\n",
              "  </style>\n",
              "\n",
              "    <script>\n",
              "      const buttonEl =\n",
              "        document.querySelector('#df-f7a33994-3e14-451b-b523-44d2d4c7d631 button.colab-df-convert');\n",
              "      buttonEl.style.display =\n",
              "        google.colab.kernel.accessAllowed ? 'block' : 'none';\n",
              "\n",
              "      async function convertToInteractive(key) {\n",
              "        const element = document.querySelector('#df-f7a33994-3e14-451b-b523-44d2d4c7d631');\n",
              "        const dataTable =\n",
              "          await google.colab.kernel.invokeFunction('convertToInteractive',\n",
              "                                                    [key], {});\n",
              "        if (!dataTable) return;\n",
              "\n",
              "        const docLinkHtml = 'Like what you see? Visit the ' +\n",
              "          '<a target=\"_blank\" href=https://colab.research.google.com/notebooks/data_table.ipynb>data table notebook</a>'\n",
              "          + ' to learn more about interactive tables.';\n",
              "        element.innerHTML = '';\n",
              "        dataTable['output_type'] = 'display_data';\n",
              "        await google.colab.output.renderOutput(dataTable, element);\n",
              "        const docLink = document.createElement('div');\n",
              "        docLink.innerHTML = docLinkHtml;\n",
              "        element.appendChild(docLink);\n",
              "      }\n",
              "    </script>\n",
              "  </div>\n",
              "\n",
              "\n",
              "<div id=\"df-a049ce32-8514-4ba4-a18a-e769dfba5842\">\n",
              "  <button class=\"colab-df-quickchart\" onclick=\"quickchart('df-a049ce32-8514-4ba4-a18a-e769dfba5842')\"\n",
              "            title=\"Suggest charts\"\n",
              "            style=\"display:none;\">\n",
              "\n",
              "<svg xmlns=\"http://www.w3.org/2000/svg\" height=\"24px\"viewBox=\"0 0 24 24\"\n",
              "     width=\"24px\">\n",
              "    <g>\n",
              "        <path d=\"M19 3H5c-1.1 0-2 .9-2 2v14c0 1.1.9 2 2 2h14c1.1 0 2-.9 2-2V5c0-1.1-.9-2-2-2zM9 17H7v-7h2v7zm4 0h-2V7h2v10zm4 0h-2v-4h2v4z\"/>\n",
              "    </g>\n",
              "</svg>\n",
              "  </button>\n",
              "\n",
              "<style>\n",
              "  .colab-df-quickchart {\n",
              "      --bg-color: #E8F0FE;\n",
              "      --fill-color: #1967D2;\n",
              "      --hover-bg-color: #E2EBFA;\n",
              "      --hover-fill-color: #174EA6;\n",
              "      --disabled-fill-color: #AAA;\n",
              "      --disabled-bg-color: #DDD;\n",
              "  }\n",
              "\n",
              "  [theme=dark] .colab-df-quickchart {\n",
              "      --bg-color: #3B4455;\n",
              "      --fill-color: #D2E3FC;\n",
              "      --hover-bg-color: #434B5C;\n",
              "      --hover-fill-color: #FFFFFF;\n",
              "      --disabled-bg-color: #3B4455;\n",
              "      --disabled-fill-color: #666;\n",
              "  }\n",
              "\n",
              "  .colab-df-quickchart {\n",
              "    background-color: var(--bg-color);\n",
              "    border: none;\n",
              "    border-radius: 50%;\n",
              "    cursor: pointer;\n",
              "    display: none;\n",
              "    fill: var(--fill-color);\n",
              "    height: 32px;\n",
              "    padding: 0;\n",
              "    width: 32px;\n",
              "  }\n",
              "\n",
              "  .colab-df-quickchart:hover {\n",
              "    background-color: var(--hover-bg-color);\n",
              "    box-shadow: 0 1px 2px rgba(60, 64, 67, 0.3), 0 1px 3px 1px rgba(60, 64, 67, 0.15);\n",
              "    fill: var(--button-hover-fill-color);\n",
              "  }\n",
              "\n",
              "  .colab-df-quickchart-complete:disabled,\n",
              "  .colab-df-quickchart-complete:disabled:hover {\n",
              "    background-color: var(--disabled-bg-color);\n",
              "    fill: var(--disabled-fill-color);\n",
              "    box-shadow: none;\n",
              "  }\n",
              "\n",
              "  .colab-df-spinner {\n",
              "    border: 2px solid var(--fill-color);\n",
              "    border-color: transparent;\n",
              "    border-bottom-color: var(--fill-color);\n",
              "    animation:\n",
              "      spin 1s steps(1) infinite;\n",
              "  }\n",
              "\n",
              "  @keyframes spin {\n",
              "    0% {\n",
              "      border-color: transparent;\n",
              "      border-bottom-color: var(--fill-color);\n",
              "      border-left-color: var(--fill-color);\n",
              "    }\n",
              "    20% {\n",
              "      border-color: transparent;\n",
              "      border-left-color: var(--fill-color);\n",
              "      border-top-color: var(--fill-color);\n",
              "    }\n",
              "    30% {\n",
              "      border-color: transparent;\n",
              "      border-left-color: var(--fill-color);\n",
              "      border-top-color: var(--fill-color);\n",
              "      border-right-color: var(--fill-color);\n",
              "    }\n",
              "    40% {\n",
              "      border-color: transparent;\n",
              "      border-right-color: var(--fill-color);\n",
              "      border-top-color: var(--fill-color);\n",
              "    }\n",
              "    60% {\n",
              "      border-color: transparent;\n",
              "      border-right-color: var(--fill-color);\n",
              "    }\n",
              "    80% {\n",
              "      border-color: transparent;\n",
              "      border-right-color: var(--fill-color);\n",
              "      border-bottom-color: var(--fill-color);\n",
              "    }\n",
              "    90% {\n",
              "      border-color: transparent;\n",
              "      border-bottom-color: var(--fill-color);\n",
              "    }\n",
              "  }\n",
              "</style>\n",
              "\n",
              "  <script>\n",
              "    async function quickchart(key) {\n",
              "      const quickchartButtonEl =\n",
              "        document.querySelector('#' + key + ' button');\n",
              "      quickchartButtonEl.disabled = true;  // To prevent multiple clicks.\n",
              "      quickchartButtonEl.classList.add('colab-df-spinner');\n",
              "      try {\n",
              "        const charts = await google.colab.kernel.invokeFunction(\n",
              "            'suggestCharts', [key], {});\n",
              "      } catch (error) {\n",
              "        console.error('Error during call to suggestCharts:', error);\n",
              "      }\n",
              "      quickchartButtonEl.classList.remove('colab-df-spinner');\n",
              "      quickchartButtonEl.classList.add('colab-df-quickchart-complete');\n",
              "    }\n",
              "    (() => {\n",
              "      let quickchartButtonEl =\n",
              "        document.querySelector('#df-a049ce32-8514-4ba4-a18a-e769dfba5842 button');\n",
              "      quickchartButtonEl.style.display =\n",
              "        google.colab.kernel.accessAllowed ? 'block' : 'none';\n",
              "    })();\n",
              "  </script>\n",
              "</div>\n",
              "\n",
              "    </div>\n",
              "  </div>\n"
            ],
            "application/vnd.google.colaboratory.intrinsic+json": {
              "type": "dataframe",
              "variable_name": "data4",
              "summary": "{\n  \"name\": \"data4\",\n  \"rows\": 891,\n  \"fields\": [\n    {\n      \"column\": \"PassengerId\",\n      \"properties\": {\n        \"dtype\": \"number\",\n        \"std\": 257,\n        \"min\": 1,\n        \"max\": 891,\n        \"num_unique_values\": 891,\n        \"samples\": [\n          710,\n          440,\n          841\n        ],\n        \"semantic_type\": \"\",\n        \"description\": \"\"\n      }\n    },\n    {\n      \"column\": \"Survived\",\n      \"properties\": {\n        \"dtype\": \"number\",\n        \"std\": 0,\n        \"min\": 0,\n        \"max\": 1,\n        \"num_unique_values\": 2,\n        \"samples\": [\n          1,\n          0\n        ],\n        \"semantic_type\": \"\",\n        \"description\": \"\"\n      }\n    },\n    {\n      \"column\": \"Pclass\",\n      \"properties\": {\n        \"dtype\": \"number\",\n        \"std\": 0,\n        \"min\": 1,\n        \"max\": 3,\n        \"num_unique_values\": 3,\n        \"samples\": [\n          3,\n          1\n        ],\n        \"semantic_type\": \"\",\n        \"description\": \"\"\n      }\n    },\n    {\n      \"column\": \"Name\",\n      \"properties\": {\n        \"dtype\": \"string\",\n        \"num_unique_values\": 891,\n        \"samples\": [\n          \"Moubarek, Master. Halim Gonios (\\\"William George\\\")\",\n          \"Kvillner, Mr. Johan Henrik Johannesson\"\n        ],\n        \"semantic_type\": \"\",\n        \"description\": \"\"\n      }\n    },\n    {\n      \"column\": \"Sex\",\n      \"properties\": {\n        \"dtype\": \"number\",\n        \"std\": 0,\n        \"min\": 0,\n        \"max\": 1,\n        \"num_unique_values\": 2,\n        \"samples\": [\n          0,\n          1\n        ],\n        \"semantic_type\": \"\",\n        \"description\": \"\"\n      }\n    },\n    {\n      \"column\": \"Age\",\n      \"properties\": {\n        \"dtype\": \"number\",\n        \"std\": 14.526497332334042,\n        \"min\": 0.42,\n        \"max\": 80.0,\n        \"num_unique_values\": 88,\n        \"samples\": [\n          0.75,\n          22.0\n        ],\n        \"semantic_type\": \"\",\n        \"description\": \"\"\n      }\n    },\n    {\n      \"column\": \"SibSp\",\n      \"properties\": {\n        \"dtype\": \"number\",\n        \"std\": 1,\n        \"min\": 0,\n        \"max\": 8,\n        \"num_unique_values\": 7,\n        \"samples\": [\n          1,\n          0\n        ],\n        \"semantic_type\": \"\",\n        \"description\": \"\"\n      }\n    },\n    {\n      \"column\": \"Parch\",\n      \"properties\": {\n        \"dtype\": \"number\",\n        \"std\": 0,\n        \"min\": 0,\n        \"max\": 6,\n        \"num_unique_values\": 7,\n        \"samples\": [\n          0,\n          1\n        ],\n        \"semantic_type\": \"\",\n        \"description\": \"\"\n      }\n    },\n    {\n      \"column\": \"Ticket\",\n      \"properties\": {\n        \"dtype\": \"string\",\n        \"num_unique_values\": 681,\n        \"samples\": [\n          \"11774\",\n          \"248740\"\n        ],\n        \"semantic_type\": \"\",\n        \"description\": \"\"\n      }\n    },\n    {\n      \"column\": \"Fare\",\n      \"properties\": {\n        \"dtype\": \"number\",\n        \"std\": 49.6934285971809,\n        \"min\": 0.0,\n        \"max\": 512.3292,\n        \"num_unique_values\": 248,\n        \"samples\": [\n          11.2417,\n          51.8625\n        ],\n        \"semantic_type\": \"\",\n        \"description\": \"\"\n      }\n    },\n    {\n      \"column\": \"Cabin\",\n      \"properties\": {\n        \"dtype\": \"category\",\n        \"num_unique_values\": 147,\n        \"samples\": [\n          \"D45\",\n          \"B49\"\n        ],\n        \"semantic_type\": \"\",\n        \"description\": \"\"\n      }\n    },\n    {\n      \"column\": \"Embarked\",\n      \"properties\": {\n        \"dtype\": \"category\",\n        \"num_unique_values\": 3,\n        \"samples\": [\n          \"S\",\n          \"C\"\n        ],\n        \"semantic_type\": \"\",\n        \"description\": \"\"\n      }\n    },\n    {\n      \"column\": \"Title\",\n      \"properties\": {\n        \"dtype\": \"category\",\n        \"num_unique_values\": 4,\n        \"samples\": [\n          \"Mrs\",\n          \"Master\"\n        ],\n        \"semantic_type\": \"\",\n        \"description\": \"\"\n      }\n    },\n    {\n      \"column\": \"Passenger_type\",\n      \"properties\": {\n        \"dtype\": \"category\",\n        \"num_unique_values\": 6,\n        \"samples\": [\n          \"Adult\",\n          \"Child\"\n        ],\n        \"semantic_type\": \"\",\n        \"description\": \"\"\n      }\n    }\n  ]\n}"
            }
          },
          "metadata": {},
          "execution_count": 124
        }
      ]
    },
    {
      "cell_type": "code",
      "source": [
        "def passenger_type(row):\n",
        "  if row['Age'] < 2 :\n",
        "    return 'Infant'\n",
        "  elif row['Age'] >= 2 and row['Age'] < 12 :\n",
        "    return 'Child'\n",
        "  elif row['Age'] >= 12 and row['Age'] < 18 :\n",
        "    return 'Youth'\n",
        "  elif row['Age'] >= 18 and row['Age'] < 60 :\n",
        "    return 'Adult'\n",
        "  elif row['Age'] >= 60 :\n",
        "    return 'Senior'\n",
        "  elif row['Title'] == 'Master':\n",
        "    return 'Child'\n",
        "  elif row['Title'] == 'Miss':\n",
        "    return 'Child'\n",
        "  elif row['Title'] == 'Mr'or row['Title'] == 'Mrs':\n",
        "    return 'Adult'\n",
        "  else:\n",
        "    return 'Unknown'\n",
        "\n",
        "data4['Passenger_type'] = data4.apply(lambda row: passenger_type(row), axis=1)\n"
      ],
      "metadata": {
        "id": "LB7X12grfTHU"
      },
      "execution_count": null,
      "outputs": []
    },
    {
      "cell_type": "markdown",
      "source": [
        "data awal diatas"
      ],
      "metadata": {
        "id": "doU9gMppfVkc"
      }
    },
    {
      "cell_type": "markdown",
      "source": [
        "Coba lakukan mapping ini pada ‘PassengerType’\n",
        "Dengan aturan mapping sebagai berikut:\n",
        "- Unknown : 0\n",
        "- Infant : 1\n",
        "- Child : 2\n",
        "- Youth : 3\n",
        "- Adult : 4\n",
        "- Senior : 5\n",
        "\n",
        "### **Tugas 7**: Apakah terjadi perubahan isian data pada atribut ‘PassegerType’?"
      ],
      "metadata": {
        "id": "PLtQ1ruib0UT"
      }
    },
    {
      "cell_type": "code",
      "source": [
        "# Menampilkan nilai unik yang ada di kolom Passenger_type sebelum mapping\n",
        "print(data4['Passenger_type'].unique())\n",
        "\n",
        "# Setelah mengetahui nilai apa yang tidak ada dalam dictionary, tambahkan ke passenger_type_map jika perlu\n"
      ],
      "metadata": {
        "colab": {
          "base_uri": "https://localhost:8080/"
        },
        "id": "Do-e06Ndc1ld",
        "outputId": "da09909f-9bc4-44ec-96aa-4ec1dc46c37c"
      },
      "execution_count": null,
      "outputs": [
        {
          "output_type": "stream",
          "name": "stdout",
          "text": [
            "['Adult' 'Child' 'Youth' 'Senior' 'Infant' 'Unknown']\n"
          ]
        }
      ]
    },
    {
      "cell_type": "code",
      "source": [
        "# Mapping dari Passenger_type ke angka\n",
        "passenger_type_map = {\n",
        "    'Unknown': 0,\n",
        "    'Infant': 1,\n",
        "    'Child': 2,\n",
        "    'Youth': 3,\n",
        "    'Adult': 4,\n",
        "    'Senior': 5\n",
        "}\n",
        "\n",
        "# Menerapkan mapping pada kolom Passenger_type\n",
        "data4['Passenger_type'] = data4['Passenger_type'].map(passenger_type_map)\n",
        "\n",
        "# Tampilkan 10 baris pertama untuk memverifikasi perubahan\n",
        "print(data4[['Passenger_type']].head(10))\n",
        "\n",
        "\n"
      ],
      "metadata": {
        "colab": {
          "base_uri": "https://localhost:8080/"
        },
        "id": "WKZaCqzyb-yM",
        "outputId": "f11bb120-4682-41e7-be32-c221a116b091"
      },
      "execution_count": null,
      "outputs": [
        {
          "output_type": "stream",
          "name": "stdout",
          "text": [
            "   Passenger_type\n",
            "0               4\n",
            "1               4\n",
            "2               4\n",
            "3               4\n",
            "4               4\n",
            "5               4\n",
            "6               4\n",
            "7               2\n",
            "8               4\n",
            "9               3\n"
          ]
        }
      ]
    },
    {
      "cell_type": "code",
      "source": [
        "data4.head(11)"
      ],
      "metadata": {
        "colab": {
          "base_uri": "https://localhost:8080/",
          "height": 952
        },
        "id": "c788ImT9jyfj",
        "outputId": "c7984c9e-f4cc-4848-dd9e-222d863fa8c1"
      },
      "execution_count": null,
      "outputs": [
        {
          "output_type": "execute_result",
          "data": {
            "text/plain": [
              "    PassengerId  Survived  Pclass  \\\n",
              "0             1         0       3   \n",
              "1             2         1       1   \n",
              "2             3         1       3   \n",
              "3             4         1       1   \n",
              "4             5         0       3   \n",
              "5             6         0       3   \n",
              "6             7         0       1   \n",
              "7             8         0       3   \n",
              "8             9         1       3   \n",
              "9            10         1       2   \n",
              "10           11         1       3   \n",
              "\n",
              "                                                 Name  Sex   Age  SibSp  \\\n",
              "0                             Braund, Mr. Owen Harris    1  22.0      1   \n",
              "1   Cumings, Mrs. John Bradley (Florence Briggs Th...    0  38.0      1   \n",
              "2                              Heikkinen, Miss. Laina    0  26.0      0   \n",
              "3        Futrelle, Mrs. Jacques Heath (Lily May Peel)    0  35.0      1   \n",
              "4                            Allen, Mr. William Henry    1  35.0      0   \n",
              "5                                    Moran, Mr. James    1   NaN      0   \n",
              "6                             McCarthy, Mr. Timothy J    1  54.0      0   \n",
              "7                      Palsson, Master. Gosta Leonard    1   2.0      3   \n",
              "8   Johnson, Mrs. Oscar W (Elisabeth Vilhelmina Berg)    0  27.0      0   \n",
              "9                 Nasser, Mrs. Nicholas (Adele Achem)    0  14.0      1   \n",
              "10                    Sandstrom, Miss. Marguerite Rut    0   4.0      1   \n",
              "\n",
              "    Parch            Ticket     Fare Cabin Embarked   Title  Passenger_type  \n",
              "0       0         A/5 21171   7.2500   NaN        S      Mr               4  \n",
              "1       0          PC 17599  71.2833   C85        C     Mrs               4  \n",
              "2       0  STON/O2. 3101282   7.9250   NaN        S    Miss               4  \n",
              "3       0            113803  53.1000  C123        S     Mrs               4  \n",
              "4       0            373450   8.0500   NaN        S      Mr               4  \n",
              "5       0            330877   8.4583   NaN        Q      Mr               4  \n",
              "6       0             17463  51.8625   E46        S      Mr               4  \n",
              "7       1            349909  21.0750   NaN        S  Master               2  \n",
              "8       2            347742  11.1333   NaN        S     Mrs               4  \n",
              "9       0            237736  30.0708   NaN        C     Mrs               3  \n",
              "10      1           PP 9549  16.7000    G6        S    Miss               2  "
            ],
            "text/html": [
              "\n",
              "  <div id=\"df-8cd5f56c-bb3b-4806-8302-34df2d839f60\" class=\"colab-df-container\">\n",
              "    <div>\n",
              "<style scoped>\n",
              "    .dataframe tbody tr th:only-of-type {\n",
              "        vertical-align: middle;\n",
              "    }\n",
              "\n",
              "    .dataframe tbody tr th {\n",
              "        vertical-align: top;\n",
              "    }\n",
              "\n",
              "    .dataframe thead th {\n",
              "        text-align: right;\n",
              "    }\n",
              "</style>\n",
              "<table border=\"1\" class=\"dataframe\">\n",
              "  <thead>\n",
              "    <tr style=\"text-align: right;\">\n",
              "      <th></th>\n",
              "      <th>PassengerId</th>\n",
              "      <th>Survived</th>\n",
              "      <th>Pclass</th>\n",
              "      <th>Name</th>\n",
              "      <th>Sex</th>\n",
              "      <th>Age</th>\n",
              "      <th>SibSp</th>\n",
              "      <th>Parch</th>\n",
              "      <th>Ticket</th>\n",
              "      <th>Fare</th>\n",
              "      <th>Cabin</th>\n",
              "      <th>Embarked</th>\n",
              "      <th>Title</th>\n",
              "      <th>Passenger_type</th>\n",
              "    </tr>\n",
              "  </thead>\n",
              "  <tbody>\n",
              "    <tr>\n",
              "      <th>0</th>\n",
              "      <td>1</td>\n",
              "      <td>0</td>\n",
              "      <td>3</td>\n",
              "      <td>Braund, Mr. Owen Harris</td>\n",
              "      <td>1</td>\n",
              "      <td>22.0</td>\n",
              "      <td>1</td>\n",
              "      <td>0</td>\n",
              "      <td>A/5 21171</td>\n",
              "      <td>7.2500</td>\n",
              "      <td>NaN</td>\n",
              "      <td>S</td>\n",
              "      <td>Mr</td>\n",
              "      <td>4</td>\n",
              "    </tr>\n",
              "    <tr>\n",
              "      <th>1</th>\n",
              "      <td>2</td>\n",
              "      <td>1</td>\n",
              "      <td>1</td>\n",
              "      <td>Cumings, Mrs. John Bradley (Florence Briggs Th...</td>\n",
              "      <td>0</td>\n",
              "      <td>38.0</td>\n",
              "      <td>1</td>\n",
              "      <td>0</td>\n",
              "      <td>PC 17599</td>\n",
              "      <td>71.2833</td>\n",
              "      <td>C85</td>\n",
              "      <td>C</td>\n",
              "      <td>Mrs</td>\n",
              "      <td>4</td>\n",
              "    </tr>\n",
              "    <tr>\n",
              "      <th>2</th>\n",
              "      <td>3</td>\n",
              "      <td>1</td>\n",
              "      <td>3</td>\n",
              "      <td>Heikkinen, Miss. Laina</td>\n",
              "      <td>0</td>\n",
              "      <td>26.0</td>\n",
              "      <td>0</td>\n",
              "      <td>0</td>\n",
              "      <td>STON/O2. 3101282</td>\n",
              "      <td>7.9250</td>\n",
              "      <td>NaN</td>\n",
              "      <td>S</td>\n",
              "      <td>Miss</td>\n",
              "      <td>4</td>\n",
              "    </tr>\n",
              "    <tr>\n",
              "      <th>3</th>\n",
              "      <td>4</td>\n",
              "      <td>1</td>\n",
              "      <td>1</td>\n",
              "      <td>Futrelle, Mrs. Jacques Heath (Lily May Peel)</td>\n",
              "      <td>0</td>\n",
              "      <td>35.0</td>\n",
              "      <td>1</td>\n",
              "      <td>0</td>\n",
              "      <td>113803</td>\n",
              "      <td>53.1000</td>\n",
              "      <td>C123</td>\n",
              "      <td>S</td>\n",
              "      <td>Mrs</td>\n",
              "      <td>4</td>\n",
              "    </tr>\n",
              "    <tr>\n",
              "      <th>4</th>\n",
              "      <td>5</td>\n",
              "      <td>0</td>\n",
              "      <td>3</td>\n",
              "      <td>Allen, Mr. William Henry</td>\n",
              "      <td>1</td>\n",
              "      <td>35.0</td>\n",
              "      <td>0</td>\n",
              "      <td>0</td>\n",
              "      <td>373450</td>\n",
              "      <td>8.0500</td>\n",
              "      <td>NaN</td>\n",
              "      <td>S</td>\n",
              "      <td>Mr</td>\n",
              "      <td>4</td>\n",
              "    </tr>\n",
              "    <tr>\n",
              "      <th>5</th>\n",
              "      <td>6</td>\n",
              "      <td>0</td>\n",
              "      <td>3</td>\n",
              "      <td>Moran, Mr. James</td>\n",
              "      <td>1</td>\n",
              "      <td>NaN</td>\n",
              "      <td>0</td>\n",
              "      <td>0</td>\n",
              "      <td>330877</td>\n",
              "      <td>8.4583</td>\n",
              "      <td>NaN</td>\n",
              "      <td>Q</td>\n",
              "      <td>Mr</td>\n",
              "      <td>4</td>\n",
              "    </tr>\n",
              "    <tr>\n",
              "      <th>6</th>\n",
              "      <td>7</td>\n",
              "      <td>0</td>\n",
              "      <td>1</td>\n",
              "      <td>McCarthy, Mr. Timothy J</td>\n",
              "      <td>1</td>\n",
              "      <td>54.0</td>\n",
              "      <td>0</td>\n",
              "      <td>0</td>\n",
              "      <td>17463</td>\n",
              "      <td>51.8625</td>\n",
              "      <td>E46</td>\n",
              "      <td>S</td>\n",
              "      <td>Mr</td>\n",
              "      <td>4</td>\n",
              "    </tr>\n",
              "    <tr>\n",
              "      <th>7</th>\n",
              "      <td>8</td>\n",
              "      <td>0</td>\n",
              "      <td>3</td>\n",
              "      <td>Palsson, Master. Gosta Leonard</td>\n",
              "      <td>1</td>\n",
              "      <td>2.0</td>\n",
              "      <td>3</td>\n",
              "      <td>1</td>\n",
              "      <td>349909</td>\n",
              "      <td>21.0750</td>\n",
              "      <td>NaN</td>\n",
              "      <td>S</td>\n",
              "      <td>Master</td>\n",
              "      <td>2</td>\n",
              "    </tr>\n",
              "    <tr>\n",
              "      <th>8</th>\n",
              "      <td>9</td>\n",
              "      <td>1</td>\n",
              "      <td>3</td>\n",
              "      <td>Johnson, Mrs. Oscar W (Elisabeth Vilhelmina Berg)</td>\n",
              "      <td>0</td>\n",
              "      <td>27.0</td>\n",
              "      <td>0</td>\n",
              "      <td>2</td>\n",
              "      <td>347742</td>\n",
              "      <td>11.1333</td>\n",
              "      <td>NaN</td>\n",
              "      <td>S</td>\n",
              "      <td>Mrs</td>\n",
              "      <td>4</td>\n",
              "    </tr>\n",
              "    <tr>\n",
              "      <th>9</th>\n",
              "      <td>10</td>\n",
              "      <td>1</td>\n",
              "      <td>2</td>\n",
              "      <td>Nasser, Mrs. Nicholas (Adele Achem)</td>\n",
              "      <td>0</td>\n",
              "      <td>14.0</td>\n",
              "      <td>1</td>\n",
              "      <td>0</td>\n",
              "      <td>237736</td>\n",
              "      <td>30.0708</td>\n",
              "      <td>NaN</td>\n",
              "      <td>C</td>\n",
              "      <td>Mrs</td>\n",
              "      <td>3</td>\n",
              "    </tr>\n",
              "    <tr>\n",
              "      <th>10</th>\n",
              "      <td>11</td>\n",
              "      <td>1</td>\n",
              "      <td>3</td>\n",
              "      <td>Sandstrom, Miss. Marguerite Rut</td>\n",
              "      <td>0</td>\n",
              "      <td>4.0</td>\n",
              "      <td>1</td>\n",
              "      <td>1</td>\n",
              "      <td>PP 9549</td>\n",
              "      <td>16.7000</td>\n",
              "      <td>G6</td>\n",
              "      <td>S</td>\n",
              "      <td>Miss</td>\n",
              "      <td>2</td>\n",
              "    </tr>\n",
              "  </tbody>\n",
              "</table>\n",
              "</div>\n",
              "    <div class=\"colab-df-buttons\">\n",
              "\n",
              "  <div class=\"colab-df-container\">\n",
              "    <button class=\"colab-df-convert\" onclick=\"convertToInteractive('df-8cd5f56c-bb3b-4806-8302-34df2d839f60')\"\n",
              "            title=\"Convert this dataframe to an interactive table.\"\n",
              "            style=\"display:none;\">\n",
              "\n",
              "  <svg xmlns=\"http://www.w3.org/2000/svg\" height=\"24px\" viewBox=\"0 -960 960 960\">\n",
              "    <path d=\"M120-120v-720h720v720H120Zm60-500h600v-160H180v160Zm220 220h160v-160H400v160Zm0 220h160v-160H400v160ZM180-400h160v-160H180v160Zm440 0h160v-160H620v160ZM180-180h160v-160H180v160Zm440 0h160v-160H620v160Z\"/>\n",
              "  </svg>\n",
              "    </button>\n",
              "\n",
              "  <style>\n",
              "    .colab-df-container {\n",
              "      display:flex;\n",
              "      gap: 12px;\n",
              "    }\n",
              "\n",
              "    .colab-df-convert {\n",
              "      background-color: #E8F0FE;\n",
              "      border: none;\n",
              "      border-radius: 50%;\n",
              "      cursor: pointer;\n",
              "      display: none;\n",
              "      fill: #1967D2;\n",
              "      height: 32px;\n",
              "      padding: 0 0 0 0;\n",
              "      width: 32px;\n",
              "    }\n",
              "\n",
              "    .colab-df-convert:hover {\n",
              "      background-color: #E2EBFA;\n",
              "      box-shadow: 0px 1px 2px rgba(60, 64, 67, 0.3), 0px 1px 3px 1px rgba(60, 64, 67, 0.15);\n",
              "      fill: #174EA6;\n",
              "    }\n",
              "\n",
              "    .colab-df-buttons div {\n",
              "      margin-bottom: 4px;\n",
              "    }\n",
              "\n",
              "    [theme=dark] .colab-df-convert {\n",
              "      background-color: #3B4455;\n",
              "      fill: #D2E3FC;\n",
              "    }\n",
              "\n",
              "    [theme=dark] .colab-df-convert:hover {\n",
              "      background-color: #434B5C;\n",
              "      box-shadow: 0px 1px 3px 1px rgba(0, 0, 0, 0.15);\n",
              "      filter: drop-shadow(0px 1px 2px rgba(0, 0, 0, 0.3));\n",
              "      fill: #FFFFFF;\n",
              "    }\n",
              "  </style>\n",
              "\n",
              "    <script>\n",
              "      const buttonEl =\n",
              "        document.querySelector('#df-8cd5f56c-bb3b-4806-8302-34df2d839f60 button.colab-df-convert');\n",
              "      buttonEl.style.display =\n",
              "        google.colab.kernel.accessAllowed ? 'block' : 'none';\n",
              "\n",
              "      async function convertToInteractive(key) {\n",
              "        const element = document.querySelector('#df-8cd5f56c-bb3b-4806-8302-34df2d839f60');\n",
              "        const dataTable =\n",
              "          await google.colab.kernel.invokeFunction('convertToInteractive',\n",
              "                                                    [key], {});\n",
              "        if (!dataTable) return;\n",
              "\n",
              "        const docLinkHtml = 'Like what you see? Visit the ' +\n",
              "          '<a target=\"_blank\" href=https://colab.research.google.com/notebooks/data_table.ipynb>data table notebook</a>'\n",
              "          + ' to learn more about interactive tables.';\n",
              "        element.innerHTML = '';\n",
              "        dataTable['output_type'] = 'display_data';\n",
              "        await google.colab.output.renderOutput(dataTable, element);\n",
              "        const docLink = document.createElement('div');\n",
              "        docLink.innerHTML = docLinkHtml;\n",
              "        element.appendChild(docLink);\n",
              "      }\n",
              "    </script>\n",
              "  </div>\n",
              "\n",
              "\n",
              "<div id=\"df-71798a4a-ca5b-49dc-84f2-e50155f3b8c6\">\n",
              "  <button class=\"colab-df-quickchart\" onclick=\"quickchart('df-71798a4a-ca5b-49dc-84f2-e50155f3b8c6')\"\n",
              "            title=\"Suggest charts\"\n",
              "            style=\"display:none;\">\n",
              "\n",
              "<svg xmlns=\"http://www.w3.org/2000/svg\" height=\"24px\"viewBox=\"0 0 24 24\"\n",
              "     width=\"24px\">\n",
              "    <g>\n",
              "        <path d=\"M19 3H5c-1.1 0-2 .9-2 2v14c0 1.1.9 2 2 2h14c1.1 0 2-.9 2-2V5c0-1.1-.9-2-2-2zM9 17H7v-7h2v7zm4 0h-2V7h2v10zm4 0h-2v-4h2v4z\"/>\n",
              "    </g>\n",
              "</svg>\n",
              "  </button>\n",
              "\n",
              "<style>\n",
              "  .colab-df-quickchart {\n",
              "      --bg-color: #E8F0FE;\n",
              "      --fill-color: #1967D2;\n",
              "      --hover-bg-color: #E2EBFA;\n",
              "      --hover-fill-color: #174EA6;\n",
              "      --disabled-fill-color: #AAA;\n",
              "      --disabled-bg-color: #DDD;\n",
              "  }\n",
              "\n",
              "  [theme=dark] .colab-df-quickchart {\n",
              "      --bg-color: #3B4455;\n",
              "      --fill-color: #D2E3FC;\n",
              "      --hover-bg-color: #434B5C;\n",
              "      --hover-fill-color: #FFFFFF;\n",
              "      --disabled-bg-color: #3B4455;\n",
              "      --disabled-fill-color: #666;\n",
              "  }\n",
              "\n",
              "  .colab-df-quickchart {\n",
              "    background-color: var(--bg-color);\n",
              "    border: none;\n",
              "    border-radius: 50%;\n",
              "    cursor: pointer;\n",
              "    display: none;\n",
              "    fill: var(--fill-color);\n",
              "    height: 32px;\n",
              "    padding: 0;\n",
              "    width: 32px;\n",
              "  }\n",
              "\n",
              "  .colab-df-quickchart:hover {\n",
              "    background-color: var(--hover-bg-color);\n",
              "    box-shadow: 0 1px 2px rgba(60, 64, 67, 0.3), 0 1px 3px 1px rgba(60, 64, 67, 0.15);\n",
              "    fill: var(--button-hover-fill-color);\n",
              "  }\n",
              "\n",
              "  .colab-df-quickchart-complete:disabled,\n",
              "  .colab-df-quickchart-complete:disabled:hover {\n",
              "    background-color: var(--disabled-bg-color);\n",
              "    fill: var(--disabled-fill-color);\n",
              "    box-shadow: none;\n",
              "  }\n",
              "\n",
              "  .colab-df-spinner {\n",
              "    border: 2px solid var(--fill-color);\n",
              "    border-color: transparent;\n",
              "    border-bottom-color: var(--fill-color);\n",
              "    animation:\n",
              "      spin 1s steps(1) infinite;\n",
              "  }\n",
              "\n",
              "  @keyframes spin {\n",
              "    0% {\n",
              "      border-color: transparent;\n",
              "      border-bottom-color: var(--fill-color);\n",
              "      border-left-color: var(--fill-color);\n",
              "    }\n",
              "    20% {\n",
              "      border-color: transparent;\n",
              "      border-left-color: var(--fill-color);\n",
              "      border-top-color: var(--fill-color);\n",
              "    }\n",
              "    30% {\n",
              "      border-color: transparent;\n",
              "      border-left-color: var(--fill-color);\n",
              "      border-top-color: var(--fill-color);\n",
              "      border-right-color: var(--fill-color);\n",
              "    }\n",
              "    40% {\n",
              "      border-color: transparent;\n",
              "      border-right-color: var(--fill-color);\n",
              "      border-top-color: var(--fill-color);\n",
              "    }\n",
              "    60% {\n",
              "      border-color: transparent;\n",
              "      border-right-color: var(--fill-color);\n",
              "    }\n",
              "    80% {\n",
              "      border-color: transparent;\n",
              "      border-right-color: var(--fill-color);\n",
              "      border-bottom-color: var(--fill-color);\n",
              "    }\n",
              "    90% {\n",
              "      border-color: transparent;\n",
              "      border-bottom-color: var(--fill-color);\n",
              "    }\n",
              "  }\n",
              "</style>\n",
              "\n",
              "  <script>\n",
              "    async function quickchart(key) {\n",
              "      const quickchartButtonEl =\n",
              "        document.querySelector('#' + key + ' button');\n",
              "      quickchartButtonEl.disabled = true;  // To prevent multiple clicks.\n",
              "      quickchartButtonEl.classList.add('colab-df-spinner');\n",
              "      try {\n",
              "        const charts = await google.colab.kernel.invokeFunction(\n",
              "            'suggestCharts', [key], {});\n",
              "      } catch (error) {\n",
              "        console.error('Error during call to suggestCharts:', error);\n",
              "      }\n",
              "      quickchartButtonEl.classList.remove('colab-df-spinner');\n",
              "      quickchartButtonEl.classList.add('colab-df-quickchart-complete');\n",
              "    }\n",
              "    (() => {\n",
              "      let quickchartButtonEl =\n",
              "        document.querySelector('#df-71798a4a-ca5b-49dc-84f2-e50155f3b8c6 button');\n",
              "      quickchartButtonEl.style.display =\n",
              "        google.colab.kernel.accessAllowed ? 'block' : 'none';\n",
              "    })();\n",
              "  </script>\n",
              "</div>\n",
              "\n",
              "    </div>\n",
              "  </div>\n"
            ],
            "application/vnd.google.colaboratory.intrinsic+json": {
              "type": "dataframe",
              "variable_name": "data4",
              "summary": "{\n  \"name\": \"data4\",\n  \"rows\": 891,\n  \"fields\": [\n    {\n      \"column\": \"PassengerId\",\n      \"properties\": {\n        \"dtype\": \"number\",\n        \"std\": 257,\n        \"min\": 1,\n        \"max\": 891,\n        \"num_unique_values\": 891,\n        \"samples\": [\n          710,\n          440,\n          841\n        ],\n        \"semantic_type\": \"\",\n        \"description\": \"\"\n      }\n    },\n    {\n      \"column\": \"Survived\",\n      \"properties\": {\n        \"dtype\": \"number\",\n        \"std\": 0,\n        \"min\": 0,\n        \"max\": 1,\n        \"num_unique_values\": 2,\n        \"samples\": [\n          1,\n          0\n        ],\n        \"semantic_type\": \"\",\n        \"description\": \"\"\n      }\n    },\n    {\n      \"column\": \"Pclass\",\n      \"properties\": {\n        \"dtype\": \"number\",\n        \"std\": 0,\n        \"min\": 1,\n        \"max\": 3,\n        \"num_unique_values\": 3,\n        \"samples\": [\n          3,\n          1\n        ],\n        \"semantic_type\": \"\",\n        \"description\": \"\"\n      }\n    },\n    {\n      \"column\": \"Name\",\n      \"properties\": {\n        \"dtype\": \"string\",\n        \"num_unique_values\": 891,\n        \"samples\": [\n          \"Moubarek, Master. Halim Gonios (\\\"William George\\\")\",\n          \"Kvillner, Mr. Johan Henrik Johannesson\"\n        ],\n        \"semantic_type\": \"\",\n        \"description\": \"\"\n      }\n    },\n    {\n      \"column\": \"Sex\",\n      \"properties\": {\n        \"dtype\": \"number\",\n        \"std\": 0,\n        \"min\": 0,\n        \"max\": 1,\n        \"num_unique_values\": 2,\n        \"samples\": [\n          0,\n          1\n        ],\n        \"semantic_type\": \"\",\n        \"description\": \"\"\n      }\n    },\n    {\n      \"column\": \"Age\",\n      \"properties\": {\n        \"dtype\": \"number\",\n        \"std\": 14.526497332334042,\n        \"min\": 0.42,\n        \"max\": 80.0,\n        \"num_unique_values\": 88,\n        \"samples\": [\n          0.75,\n          22.0\n        ],\n        \"semantic_type\": \"\",\n        \"description\": \"\"\n      }\n    },\n    {\n      \"column\": \"SibSp\",\n      \"properties\": {\n        \"dtype\": \"number\",\n        \"std\": 1,\n        \"min\": 0,\n        \"max\": 8,\n        \"num_unique_values\": 7,\n        \"samples\": [\n          1,\n          0\n        ],\n        \"semantic_type\": \"\",\n        \"description\": \"\"\n      }\n    },\n    {\n      \"column\": \"Parch\",\n      \"properties\": {\n        \"dtype\": \"number\",\n        \"std\": 0,\n        \"min\": 0,\n        \"max\": 6,\n        \"num_unique_values\": 7,\n        \"samples\": [\n          0,\n          1\n        ],\n        \"semantic_type\": \"\",\n        \"description\": \"\"\n      }\n    },\n    {\n      \"column\": \"Ticket\",\n      \"properties\": {\n        \"dtype\": \"string\",\n        \"num_unique_values\": 681,\n        \"samples\": [\n          \"11774\",\n          \"248740\"\n        ],\n        \"semantic_type\": \"\",\n        \"description\": \"\"\n      }\n    },\n    {\n      \"column\": \"Fare\",\n      \"properties\": {\n        \"dtype\": \"number\",\n        \"std\": 49.6934285971809,\n        \"min\": 0.0,\n        \"max\": 512.3292,\n        \"num_unique_values\": 248,\n        \"samples\": [\n          11.2417,\n          51.8625\n        ],\n        \"semantic_type\": \"\",\n        \"description\": \"\"\n      }\n    },\n    {\n      \"column\": \"Cabin\",\n      \"properties\": {\n        \"dtype\": \"category\",\n        \"num_unique_values\": 147,\n        \"samples\": [\n          \"D45\",\n          \"B49\"\n        ],\n        \"semantic_type\": \"\",\n        \"description\": \"\"\n      }\n    },\n    {\n      \"column\": \"Embarked\",\n      \"properties\": {\n        \"dtype\": \"category\",\n        \"num_unique_values\": 3,\n        \"samples\": [\n          \"S\",\n          \"C\"\n        ],\n        \"semantic_type\": \"\",\n        \"description\": \"\"\n      }\n    },\n    {\n      \"column\": \"Title\",\n      \"properties\": {\n        \"dtype\": \"category\",\n        \"num_unique_values\": 4,\n        \"samples\": [\n          \"Mrs\",\n          \"Master\"\n        ],\n        \"semantic_type\": \"\",\n        \"description\": \"\"\n      }\n    },\n    {\n      \"column\": \"Passenger_type\",\n      \"properties\": {\n        \"dtype\": \"number\",\n        \"std\": 0,\n        \"min\": 0,\n        \"max\": 5,\n        \"num_unique_values\": 6,\n        \"samples\": [\n          4,\n          2\n        ],\n        \"semantic_type\": \"\",\n        \"description\": \"\"\n      }\n    }\n  ]\n}"
            }
          },
          "metadata": {},
          "execution_count": 128
        }
      ]
    },
    {
      "cell_type": "markdown",
      "source": [
        "Cara manual ini sayangnya memiliki kelemahan yaitu jika isi data diluar dari yang didefinisikan\n",
        "dalam mapping, maka data tersebut tidak dapat dikonversi.\n",
        "\n",
        "Misalnya dalam kelompok umur ada data yang kelompok umurnya adalah super senior,\n",
        "karena pada aturan mapping tidak didefinisikan maka super senior tidak dapat dikonversi.\n",
        "\n",
        "Selain itu, jika melakukan mapping manual seperti ini, ini hanya diperuntukkan jika tipe\n",
        "atributnya adalah ordinal.\n",
        "\n",
        "Jika tetap memaksa untuk mapping jenis kelamin seperti cara diatas (tahap 13), maka nantinya\n",
        "pada saat pemodelan, model akan melihat adanya order atau urutan.\n",
        "\n",
        "Misalnya diubah aturannya dengan laki-laki adalah 1 dan perempuan adalah 2.\n",
        "\n",
        "Maka model akan mengenali bahwa perempuan sama dengan 2 laki-laki.\n",
        "\n",
        "Sehingga cara encoding harus memperhatikan tipe atribut."
      ],
      "metadata": {
        "id": "gU_hS0oTq0L9"
      }
    },
    {
      "cell_type": "markdown",
      "source": [
        "> ## **Ordinal Encoding**"
      ],
      "metadata": {
        "id": "GONlJFBGtk7m"
      }
    },
    {
      "cell_type": "markdown",
      "source": [
        "Jika tipe atribut adalah atribut yaitu memperhatikan adanya order atau urutan, maka cara\n",
        "mapping manual sebelumnya dapat digunakan. Selain itu, jika menggunakan cara mapping\n",
        "manual, maka dipastikan bahwa mapping sudah fix dan tidak ada kemungkinan adanya\n",
        "kelompok baru."
      ],
      "metadata": {
        "id": "lwSQsWAMuP9G"
      }
    },
    {
      "cell_type": "markdown",
      "source": [
        "Cara selain mapping manual adalah menggunakan library sklearn.\n"
      ],
      "metadata": {
        "id": "IxDtolwWuRxm"
      }
    },
    {
      "cell_type": "code",
      "source": [
        "from sklearn import preprocessing"
      ],
      "metadata": {
        "id": "nXRGK2MVssCj"
      },
      "execution_count": null,
      "outputs": []
    },
    {
      "cell_type": "markdown",
      "source": [
        "Pada library ini terdapat dua jenis encoding yang disediakan untuk encoding tipe ordinal yaitu\n",
        "1. **ordinal encoder** (https://scikitlearn.\n",
        "org/stable/modules/generated/sklearn.preprocessing.OrdinalEncoder.html )\n",
        "2. **label encoder** (https://scikitlearn.\n",
        "org/stable/modules/generated/sklearn.preprocessing.LabelEncoder.html )"
      ],
      "metadata": {
        "id": "wQF_3Warufvt"
      }
    },
    {
      "cell_type": "markdown",
      "source": [
        "Categorical Encoding"
      ],
      "metadata": {
        "id": "5VlkxKy0unKF"
      }
    },
    {
      "cell_type": "markdown",
      "source": [
        "Jika tipe atribut adalah categorical, alias nominal namun tidak ada urutan, misalnya atribut\n",
        "jenis kelamin. Maka salah satu cara yang dapat dilakukan untuk encoding adalah dengan\n",
        "menggunakan **one-hot encoding**.\n",
        "\n",
        "Teknik one-hot encoding ini dapat menggunakan library Get Dummies yang disediakan oleh\n",
        "pandas atau oneHotEncoder yang disediakan oleh sklearn\n",
        "(https://scikitlearn.org/stable/modules/generated/sklearn.preprocessing.OneHotEncoder.html)"
      ],
      "metadata": {
        "id": "qw3vAVAOzvo4"
      }
    },
    {
      "cell_type": "markdown",
      "source": [
        "Untuk mencoba teknik teknik encoding silahkan cek link: https://medium.com/@adiptamartulandi/data-preprocessing-pada-machine-learninghandling-\n",
        "categorical-data-ucupstory-6e409dbfd0a0.\n",
        "\n",
        "Buka github-nya."
      ],
      "metadata": {
        "id": "UH5ASPSR0WAt"
      }
    },
    {
      "cell_type": "markdown",
      "source": [
        "### **Nominal Encoding (One-Hot Encoding)**"
      ],
      "metadata": {
        "id": "8G4e5W1eYiGf"
      }
    },
    {
      "cell_type": "markdown",
      "source": [
        "Atribut Sex adalah contoh atribut nominal, karena tidak memiliki urutan. Kita akan menggunakan One-Hot Encoding dengan pd.get_dummies() dari Pandas untuk atribut Sex."
      ],
      "metadata": {
        "id": "nHhf0oMPZa24"
      }
    },
    {
      "cell_type": "code",
      "source": [
        "import pandas as pd\n",
        "\n",
        "# One-Hot Encoding untuk atribut Sex\n",
        "data4 = pd.get_dummies(data4, columns=['Sex'], drop_first=True)\n",
        "\n",
        "# Tampilkan beberapa baris pertama untuk melihat hasil\n",
        "print(data4.head(10))\n"
      ],
      "metadata": {
        "id": "t4uSiQCfwv61",
        "colab": {
          "base_uri": "https://localhost:8080/"
        },
        "outputId": "5495290d-7b95-41c4-b146-6d6b748f5115"
      },
      "execution_count": null,
      "outputs": [
        {
          "output_type": "stream",
          "name": "stdout",
          "text": [
            "   PassengerId  Survived  Pclass  \\\n",
            "0            1         0       3   \n",
            "1            2         1       1   \n",
            "2            3         1       3   \n",
            "3            4         1       1   \n",
            "4            5         0       3   \n",
            "5            6         0       3   \n",
            "6            7         0       1   \n",
            "7            8         0       3   \n",
            "8            9         1       3   \n",
            "9           10         1       2   \n",
            "\n",
            "                                                Name   Age  SibSp  Parch  \\\n",
            "0                            Braund, Mr. Owen Harris  22.0      1      0   \n",
            "1  Cumings, Mrs. John Bradley (Florence Briggs Th...  38.0      1      0   \n",
            "2                             Heikkinen, Miss. Laina  26.0      0      0   \n",
            "3       Futrelle, Mrs. Jacques Heath (Lily May Peel)  35.0      1      0   \n",
            "4                           Allen, Mr. William Henry  35.0      0      0   \n",
            "5                                   Moran, Mr. James   NaN      0      0   \n",
            "6                            McCarthy, Mr. Timothy J  54.0      0      0   \n",
            "7                     Palsson, Master. Gosta Leonard   2.0      3      1   \n",
            "8  Johnson, Mrs. Oscar W (Elisabeth Vilhelmina Berg)  27.0      0      2   \n",
            "9                Nasser, Mrs. Nicholas (Adele Achem)  14.0      1      0   \n",
            "\n",
            "             Ticket     Fare Cabin Embarked   Title  Passenger_type  Sex_1  \n",
            "0         A/5 21171   7.2500   NaN        S      Mr               4   True  \n",
            "1          PC 17599  71.2833   C85        C     Mrs               4  False  \n",
            "2  STON/O2. 3101282   7.9250   NaN        S    Miss               4  False  \n",
            "3            113803  53.1000  C123        S     Mrs               4  False  \n",
            "4            373450   8.0500   NaN        S      Mr               4   True  \n",
            "5            330877   8.4583   NaN        Q      Mr               4   True  \n",
            "6             17463  51.8625   E46        S      Mr               4   True  \n",
            "7            349909  21.0750   NaN        S  Master               2   True  \n",
            "8            347742  11.1333   NaN        S     Mrs               4  False  \n",
            "9            237736  30.0708   NaN        C     Mrs               3  False  \n"
          ]
        }
      ]
    },
    {
      "cell_type": "markdown",
      "source": [
        "Penjelasan:\n",
        "- pd.get_dummies(): Ini akan mengubah atribut Sex menjadi dua kolom baru, misalnya Sex_male dengan nilai 0 atau 1.\n",
        "- drop_first=True: Ini digunakan untuk menghindari multikolinearitas, jadi hanya satu kolom hasil encoding yang akan ditampilkan (misalnya, kolom Sex_male)."
      ],
      "metadata": {
        "id": "_JC6oTVfZSzm"
      }
    },
    {
      "cell_type": "markdown",
      "source": [
        "### **Ordinal Encoding**"
      ],
      "metadata": {
        "id": "trl8-Cf2ZGhn"
      }
    },
    {
      "cell_type": "markdown",
      "source": [
        "Atribut Pclass adalah contoh atribut ordinal, karena memiliki urutan (1st, 2nd, 3rd class). Kita akan melakukan encoding dengan urutan tertentu menggunakan OrdinalEncoder dari scikit-learn."
      ],
      "metadata": {
        "id": "K4mTCCA-Z7mY"
      }
    },
    {
      "cell_type": "code",
      "source": [
        "from sklearn.preprocessing import OrdinalEncoder\n",
        "\n",
        "# Ordinal Encoding untuk atribut Pclass\n",
        "ordinal_encoder = OrdinalEncoder(categories=[[1, 2, 3]])  # Sesuai urutan Pclass\n",
        "data4['Pclass'] = ordinal_encoder.fit_transform(data4[['Pclass']])\n",
        "\n",
        "# Tampilkan beberapa baris pertama untuk melihat hasil\n",
        "print(data4[['Pclass']].head(10))\n"
      ],
      "metadata": {
        "id": "-akvzfH6ZHRO",
        "colab": {
          "base_uri": "https://localhost:8080/"
        },
        "outputId": "393ce64a-a7c4-440a-a35c-bf4ca2bc03bc"
      },
      "execution_count": null,
      "outputs": [
        {
          "output_type": "stream",
          "name": "stdout",
          "text": [
            "   Pclass\n",
            "0     2.0\n",
            "1     0.0\n",
            "2     2.0\n",
            "3     0.0\n",
            "4     2.0\n",
            "5     2.0\n",
            "6     0.0\n",
            "7     2.0\n",
            "8     2.0\n",
            "9     1.0\n"
          ]
        }
      ]
    },
    {
      "cell_type": "markdown",
      "source": [
        "Penjelasan:\n",
        "- **OrdinalEncoder** : Digunakan untuk mengubah atribut ordinal menjadi angka sesuai urutan.\n",
        "- **categories** = [[1, 2, 3]] : Mengatur urutan untuk Pclass di mana 1st class dianggap lebih tinggi daripada 2nd dan 3rd class."
      ],
      "metadata": {
        "id": "N7vy5Nhradk1"
      }
    },
    {
      "cell_type": "markdown",
      "source": [
        "### **Tugas 8**: Coba teknik encoder untuk nominal dan ordinal pada data titanic dengan masingmasing\n",
        "tipe atribut pilih satu teknik saja."
      ],
      "metadata": {
        "id": "jHLlnTDWaWo9"
      }
    },
    {
      "cell_type": "markdown",
      "source": [
        "1. **Nominal Encoding (One-Hot Encoding)**: Contoh atribut Sex yang merupakan atribut nominal (tanpa urutan).\n",
        "2. **Ordinal Encoding**: Contoh atribut Pclass yang memiliki urutan (1st, 2nd, 3rd class).\n",
        "\n",
        "Hasil:\n",
        "One-Hot Encoding akan menghasilkan kolom baru seperti Sex_male dengan nilai 0 atau 1.\n",
        "Ordinal Encoding akan mengubah atribut Pclass menjadi nilai angka berdasarkan urutan kelasnya.\n",
        "Ini adalah penerapan dua teknik encoding yang masing-masing digunakan untuk menangani atribut nominal (Sex) dan atribut ordinal (Pclass)."
      ],
      "metadata": {
        "id": "e71_yhXjZjKf"
      }
    },
    {
      "cell_type": "markdown",
      "source": [],
      "metadata": {
        "id": "D18B0FESa69W"
      }
    },
    {
      "cell_type": "markdown",
      "source": [],
      "metadata": {
        "id": "cxsRkWnOa-Ue"
      }
    },
    {
      "cell_type": "markdown",
      "source": [
        "> ## **Pemilihan Fitur/Attribut**"
      ],
      "metadata": {
        "id": "0f7nauyQa_4n"
      }
    },
    {
      "cell_type": "markdown",
      "source": [
        "### **curse of dimensionality?**"
      ],
      "metadata": {
        "id": "fMpoBnHWbMfl"
      }
    },
    {
      "cell_type": "markdown",
      "source": [
        "**Curse of Dimensionality** adalah fenomena di mana ketika jumlah fitur atau dimensi dalam dataset meningkat, beberapa algoritma machine learning menjadi kurang efektif. Ini terjadi karena data dalam dimensi yang sangat tinggi menjadi lebih jarang (sparse), yang menyulitkan model untuk menemukan pola yang dapat digunakan untuk prediksi.\n",
        "\n",
        "**Fenomena ini memiliki beberapa dampak negatif**:\n",
        "\n",
        "1. **Data menjadi jarang**: Dalam dimensi yang lebih tinggi, jumlah kombinasi fitur bertambah secara eksponensial, sehingga jarang sekali ada sampel yang dekat satu sama lain. Model sulit untuk menemukan pola yang bermakna karena data yang jarang.\n",
        "  \n",
        "2. **Overfitting**: Semakin banyak dimensi yang tidak relevan, semakin besar risiko overfitting, di mana model belajar pola yang tidak berguna (noise) dan tidak bisa menggeneralisasi dengan baik untuk data baru.\n",
        "\n",
        "3. **Memori dan komputasi**: Semakin tinggi dimensi, semakin besar kebutuhan untuk penyimpanan dan komputasi. Hal ini memperlambat proses pelatihan model dan prediksi.\n",
        "\n",
        "4. **Kebutuhan data lebih banyak**: Semakin tinggi dimensi, semakin banyak data yang diperlukan untuk memastikan bahwa pola yang ditemukan benar-benar representatif dan tidak hanya kebetulan.\n",
        "\n",
        "**Cara Mengatasi Curse of Dimensionality**\n",
        "1. **Dimensionality Reduction**: Teknik seperti **Principal Component Analysis (PCA)** atau **t-SNE** dapat digunakan untuk mengurangi dimensi tanpa menghilangkan terlalu banyak informasi.\n",
        "2. **Feature Selection**: Memilih fitur yang paling relevan dan menghapus fitur yang tidak relevan atau kurang informasi.\n",
        "3. **Regularization**: Teknik regularisasi seperti **L1/Lasso Regularization** dapat membantu model menekan koefisien fitur yang tidak penting.\n",
        "\n",
        "**Curse of Dimensionality** menjadi penting saat bekerja dengan data yang memiliki banyak fitur, dan mengelolanya dengan teknik di atas dapat meningkatkan performa model machine learning."
      ],
      "metadata": {
        "id": "Pfs_C3OhbqEW"
      }
    },
    {
      "cell_type": "markdown",
      "source": [],
      "metadata": {
        "id": "mNhBcpMNb3jf"
      }
    },
    {
      "cell_type": "markdown",
      "source": [
        "### **Teknik Korelasi**"
      ],
      "metadata": {
        "id": "_3F7spGscsmt"
      }
    },
    {
      "cell_type": "markdown",
      "source": [
        "Teknik korelasi adalah metode statistik yang digunakan untuk mengukur dan menganalisis hubungan atau keterkaitan antara dua variabel. Korelasi bertujuan untuk mengetahui seberapa kuat dan seberapa arah hubungan antara dua variabel, baik itu positif atau negatif. Dalam konteks ini, korelasi tidak menunjukkan hubungan sebab-akibat, melainkan hanya mengukur bagaimana satu variabel cenderung berubah seiring dengan perubahan variabel lainnya.\n",
        "\n",
        "**Jenis-Jenis Korelasi:**\n",
        "1. **Korelasi Positif** :\n",
        "- Jika nilai satu variabel meningkat, nilai variabel lain juga meningkat.\n",
        "- Contoh: Semakin tinggi pendapatan seseorang, semakin besar kemungkinan mereka untuk melakukan pengeluaran lebih besar.\n",
        "2. **Korelasi Negatif**:\n",
        "- Jika nilai satu variabel meningkat, nilai variabel lain menurun.\n",
        "- Contoh: Semakin banyak waktu yang dihabiskan untuk bermain game, semakin sedikit waktu yang tersedia untuk belajar.\n",
        "3. **Korelasi Nol (Tidak Ada Korelasi)**:\n",
        "- Tidak ada hubungan signifikan antara kedua variabel.\n",
        "- Contoh: Tinggi badan dan jumlah buku yang dibaca per tahun.\n",
        "\n",
        "**Nilai Korelasi**:\n",
        "Nilai korelasi diukur dalam skala dari -1 hingga 1, dengan penjelasan sebagai berikut:\n",
        "- 1: Korelasi positif sempurna (kedua variabel selalu bergerak bersama dalam arah yang sama).\n",
        "- 0: Tidak ada korelasi (tidak ada hubungan antara kedua variabel).\n",
        "- -1: Korelasi negatif sempurna (kedua variabel selalu bergerak dalam arah yang berlawanan).\n",
        "\n",
        "**Teknik Korelasi yang Sering Digunakan:**\n",
        "1. Korelasi Pearson:\n",
        "- Digunakan untuk mengukur hubungan linier antara dua variabel numerik.\n",
        "- Cocok digunakan ketika kedua variabel berdistribusi normal dan datanya bersifat kontinyu.\n",
        "\n",
        "**Rumus Pearson** :"
      ],
      "metadata": {
        "id": "_sz5MAbddIeV"
      }
    },
    {
      "cell_type": "markdown",
      "source": [
        "![image.png](data:image/png;base64,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)"
      ],
      "metadata": {
        "id": "P9_slplncw2F"
      }
    },
    {
      "cell_type": "markdown",
      "source": [
        "2. **Korelasi Spearman (Spearman's Rank Correlation)** :\n",
        "- Digunakan ketika data tidak memenuhi asumsi normalitas atau datanya berbentuk ordinal (data berurutan).\n",
        "- Korelasi Spearman mengukur seberapa baik hubungan antara dua variabel dapat digambarkan menggunakan fungsi monotonik.\n",
        "3. **Korelasi Kendall (Kendall's Tau):**\n",
        "- Alternatif dari Spearman, digunakan untuk data ordinal dan berfokus pada urutan data untuk mengukur hubungan antar variabel."
      ],
      "metadata": {
        "id": "YgaLboEMeLN2"
      }
    },
    {
      "cell_type": "markdown",
      "source": [
        "**Contoh Penerapan Korelasi dalam Python:**\n",
        "Menggunakan korelasi Pearson antara dua variabel dalam dataset Titanic, misalnya Age dan Fare."
      ],
      "metadata": {
        "id": "IXJbjNrheg03"
      }
    },
    {
      "cell_type": "code",
      "source": [
        "import pandas as pd\n",
        "\n",
        "# Menghitung korelasi Pearson antara dua variabel\n",
        "correlation = data4['Age'].corr(data4['Fare'], method='pearson')\n",
        "print(f\"Korelasi Pearson antara Age dan Fare: {correlation}\")\n"
      ],
      "metadata": {
        "id": "OlKMAzwjc9CR"
      },
      "execution_count": null,
      "outputs": []
    },
    {
      "cell_type": "markdown",
      "source": [
        "Interpretasi Hasil Korelasi:\n",
        "Nilai positif mendekati 1 menunjukkan hubungan yang kuat dan positif antara variabel.\n",
        "Nilai negatif mendekati -1 menunjukkan hubungan yang kuat dan negatif.\n",
        "Nilai mendekati 0 menunjukkan hubungan yang lemah atau tidak ada hubungan.\n",
        "Teknik korelasi membantu dalam analisis data untuk memahami pola hubungan antara variabel sebelum melanjutkan ke analisis yang lebih mendalam atau pembuatan model."
      ],
      "metadata": {
        "id": "4YX5p6UnelIF"
      }
    },
    {
      "cell_type": "markdown",
      "source": [
        "### **contoh hitung korelasi menggunakan pandas, dengan default adalah pearson correlation.**"
      ],
      "metadata": {
        "id": "LBYET6UIepCu"
      }
    },
    {
      "cell_type": "markdown",
      "source": [
        "buat data baru 5"
      ],
      "metadata": {
        "id": "9SlT_q3plGoN"
      }
    },
    {
      "cell_type": "markdown",
      "source": [
        "1. Panggil library untuk visualisasi (buat data(5))"
      ],
      "metadata": {
        "id": "y0_foUl5e8E1"
      }
    },
    {
      "cell_type": "code",
      "source": [
        "import pandas as pd\n",
        "import seaborn as sns\n",
        "import matplotlib.pyplot as plt\n"
      ],
      "metadata": {
        "id": "lXDJlZOWoz6d"
      },
      "execution_count": null,
      "outputs": []
    },
    {
      "cell_type": "markdown",
      "source": [
        "2. Panggil library untuk visualisasi"
      ],
      "metadata": {
        "id": "d3V5enWofErm"
      }
    },
    {
      "cell_type": "code",
      "source": [
        "def titanic_corr(data4):\n",
        "    # Memilih kolom numerik saja\n",
        "    numeric_data4 = data4.select_dtypes(include=['float64', 'int64'])\n",
        "\n",
        "    # Menghitung korelasi\n",
        "    correlation = numeric_data4.corr()\n",
        "\n",
        "    # Membuat heatmap untuk menampilkan korelasi\n",
        "    sns.heatmap(correlation, annot=True, cbar=True, cmap='RdYlGn')\n",
        "    plt.show()\n"
      ],
      "metadata": {
        "id": "HiVIISzvo5a2"
      },
      "execution_count": null,
      "outputs": []
    },
    {
      "cell_type": "markdown",
      "source": [
        "3. Panggil dan jalankan fungsi tersebut."
      ],
      "metadata": {
        "id": "6eHar5UXfibO"
      }
    },
    {
      "cell_type": "code",
      "source": [
        "titanic_corr(data4)\n",
        "\n"
      ],
      "metadata": {
        "colab": {
          "base_uri": "https://localhost:8080/",
          "height": 530
        },
        "id": "cYm3d3OYmBK2",
        "outputId": "09d62217-9bba-4ffd-946c-31d00c45d26f"
      },
      "execution_count": null,
      "outputs": [
        {
          "output_type": "display_data",
          "data": {
            "text/plain": [
              "<Figure size 640x480 with 2 Axes>"
            ],
            "image/png": "[encoded data removed]"
          },
          "metadata": {}
        }
      ]
    },
    {
      "cell_type": "markdown",
      "source": [
        "Jika ingin menampilkan nilai korelasi tanpa heatmap"
      ],
      "metadata": {
        "id": "VFLGjGIpuAKv"
      }
    },
    {
      "cell_type": "code",
      "source": [
        "def titanic_corr_table(data):\n",
        "    # Memilih kolom numerik saja\n",
        "    numeric_data = data.select_dtypes(include=['float64', 'int64'])\n",
        "\n",
        "    # Menghitung korelasi\n",
        "    correlation = numeric_data.corr()\n",
        "\n",
        "    # Menampilkan nilai korelasi dalam bentuk tabel\n",
        "    return correlation\n"
      ],
      "metadata": {
        "id": "_yeWkWEHuEpv"
      },
      "execution_count": null,
      "outputs": []
    },
    {
      "cell_type": "markdown",
      "source": [
        "Panggil fungsi tersebut dengan :"
      ],
      "metadata": {
        "id": "pXDVRvoFuH5H"
      }
    },
    {
      "cell_type": "code",
      "source": [
        "correlation_table = titanic_corr_table(data4)\n",
        "print(correlation_table)\n"
      ],
      "metadata": {
        "colab": {
          "base_uri": "https://localhost:8080/"
        },
        "id": "BHleM7bkuLrn",
        "outputId": "09bb01c5-a37d-4338-f2a1-04a5aafcd6a0"
      },
      "execution_count": null,
      "outputs": [
        {
          "output_type": "stream",
          "name": "stdout",
          "text": [
            "                PassengerId  Survived    Pclass       Sex       Age     SibSp  \\\n",
            "PassengerId        1.000000 -0.005007 -0.035144  0.042939  0.036847 -0.057527   \n",
            "Survived          -0.005007  1.000000 -0.338481 -0.543351 -0.077221 -0.035322   \n",
            "Pclass            -0.035144 -0.338481  1.000000  0.131900 -0.369226  0.083081   \n",
            "Sex                0.042939 -0.543351  0.131900  1.000000  0.093254 -0.114631   \n",
            "Age                0.036847 -0.077221 -0.369226  0.093254  1.000000 -0.308247   \n",
            "SibSp             -0.057527 -0.035322  0.083081 -0.114631 -0.308247  1.000000   \n",
            "Parch             -0.001652  0.081629  0.018443 -0.245489 -0.189119  0.414838   \n",
            "Fare               0.012658  0.257307 -0.549500 -0.182333  0.096067  0.159651   \n",
            "Passenger_type     0.033334 -0.169298 -0.207880  0.215365  0.715579 -0.377843   \n",
            "\n",
            "                   Parch      Fare  Passenger_type  \n",
            "PassengerId    -0.001652  0.012658        0.033334  \n",
            "Survived        0.081629  0.257307       -0.169298  \n",
            "Pclass          0.018443 -0.549500       -0.207880  \n",
            "Sex            -0.245489 -0.182333        0.215365  \n",
            "Age            -0.189119  0.096067        0.715579  \n",
            "SibSp           0.414838  0.159651       -0.377843  \n",
            "Parch           1.000000  0.216225       -0.309874  \n",
            "Fare            0.216225  1.000000        0.036580  \n",
            "Passenger_type -0.309874  0.036580        1.000000  \n"
          ]
        }
      ]
    },
    {
      "cell_type": "markdown",
      "source": [
        "> ### **Tugas 9 dan 10**"
      ],
      "metadata": {
        "id": "krbCI_LOuY83"
      }
    },
    {
      "cell_type": "markdown",
      "source": [
        "Coba hitung korelasi setelah atribut telah di-encoding.\n",
        "\n",
        "**Tugas 9**:\n",
        "\n",
        "Apa maksud hasil korelasi tersebut?"
      ],
      "metadata": {
        "id": "UqMTcBIFuiSv"
      }
    },
    {
      "cell_type": "markdown",
      "source": [
        "Korelasi mengukur hubungan linier antara dua atribut numerik. Nilai korelasi berkisar antara:\n",
        "\n",
        "- +1: Korelasi positif sempurna — artinya, jika satu atribut meningkat, atribut lain juga akan meningkat secara proporsional.\n",
        "- -1: Korelasi negatif sempurna — artinya, jika satu atribut meningkat, atribut lain akan menurun secara proporsional.\n",
        "- 0: Tidak ada korelasi linier antara atribut.\n",
        "\n",
        "Jika, setelah encoding, atribut seperti Sex_male memiliki korelasi positif yang kuat dengan Survived, artinya jenis kelamin laki-laki lebih berhubungan dengan kemungkinan bertahan hidup. Sebaliknya, jika korelasinya negatif, laki-laki cenderung lebih rendah kemungkinan bertahan hidup dibandingkan perempuan."
      ],
      "metadata": {
        "id": "PUYyOryau-Bg"
      }
    },
    {
      "cell_type": "markdown",
      "source": [
        "Silahkan hapus atribut yang tidak anda gunakan dari data anda.\n",
        "\n",
        "**Tugas 10**:\n",
        "\n",
        "- Jelaskan mengapa anda menghapus atribut-atribut yang tidak digunakan tersebut.\n",
        "- Untuk passangerId, yang sifatnya adalah unik per instance-nya maka atribut tersebut\n",
        "dihapus atau tidak?"
      ],
      "metadata": {
        "id": "LFPgQC59upfp"
      }
    },
    {
      "cell_type": "markdown",
      "source": [
        "Hapus Atribut yang Tidak Digunakan dari Data"
      ],
      "metadata": {
        "id": "Whr7LFybvNe_"
      }
    },
    {
      "cell_type": "code",
      "source": [
        "def remove_unused_columns(data):\n",
        "    # Hapus kolom yang tidak digunakan, misalnya 'Name', 'Ticket', dan 'Cabin'\n",
        "    data_cleaned = data.drop(['Name', 'Ticket', 'Cabin'], axis=1)\n",
        "\n",
        "    return data_cleaned\n",
        "\n",
        "# Contoh pemanggilan\n",
        "data_cleaned = remove_unused_columns(data4)\n"
      ],
      "metadata": {
        "id": "IkrGFz8wu3mp"
      },
      "execution_count": null,
      "outputs": []
    },
    {
      "cell_type": "markdown",
      "source": [
        "Jelaskan mengapa anda menghapus atribut-atribut yang tidak digunakan tersebut."
      ],
      "metadata": {
        "id": "MhzGA8SDvOXo"
      }
    },
    {
      "cell_type": "markdown",
      "source": [
        " Mengapa Menghapus Atribut-atribut Tersebut?\n",
        "Atribut yang tidak relevan untuk analisis atau yang tidak berkontribusi pada perhitungan statistik biasanya dihapus. Misalnya:\n",
        "\n",
        "- **Name**: Nama penumpang adalah teks unik yang tidak memiliki relevansi statistik dalam menghitung korelasi.\n",
        "- **Ticket**: Nomor tiket juga tidak berhubungan langsung dengan prediksi atau analisis bertahan hidup.\n",
        "- **Cabin**: Kabin mungkin terlalu detail dan memiliki banyak nilai yang hilang (missing values), sehingga bisa diabaikan.\n",
        "Dengan menghapus atribut-atribut ini, kita bisa fokus pada atribut yang benar-benar memberikan informasi yang relevan dan berguna dalam analisis."
      ],
      "metadata": {
        "id": "3EbOsROnvfAZ"
      }
    },
    {
      "cell_type": "markdown",
      "source": [
        "Dengan menghapus atribut-atribut ini, kita bisa fokus pada atribut yang benar-benar memberikan informasi yang relevan dan berguna dalam analisis."
      ],
      "metadata": {
        "id": "f9d0DrGzwkae"
      }
    },
    {
      "cell_type": "markdown",
      "source": [
        "**Apakah Atribut PassengerId Dihapus?**\n",
        "\n",
        "**PassengerId** bersifat unik untuk setiap penumpang dan tidak memiliki makna statistik untuk perhitungan korelasi atau prediksi.\n",
        "\n",
        "Karena itu, PassengerId biasanya dihapus, kecuali Anda perlu melacak penumpang tertentu dalam dataset. Untuk analisis statistik dan korelasi, sebaiknya dihapus, karena ini hanya sekadar identifikasi yang tidak berkontribusi terhadap analisis korelasi atau prediktif."
      ],
      "metadata": {
        "id": "qFo5rjQhwns_"
      }
    },
    {
      "cell_type": "code",
      "source": [
        "# Menghapus PassengerId karena tidak relevan untuk korelasi\n",
        "data4_cleaned = data4.drop(['PassengerId'], axis=1)\n"
      ],
      "metadata": {
        "id": "0eyCnr7IvoXS"
      },
      "execution_count": null,
      "outputs": []
    },
    {
      "cell_type": "markdown",
      "source": [
        "cek data"
      ],
      "metadata": {
        "id": "oCZpri-XwCkl"
      }
    },
    {
      "cell_type": "code",
      "source": [
        "print(data5.isnull().sum())\n",
        "print(data5.shape)"
      ],
      "metadata": {
        "colab": {
          "base_uri": "https://localhost:8080/"
        },
        "id": "EBNCqco5wEq2",
        "outputId": "ad663774-4d81-4ee9-b7ed-3e0a8974481a"
      },
      "execution_count": null,
      "outputs": [
        {
          "output_type": "stream",
          "name": "stdout",
          "text": [
            "PassengerId      0\n",
            "Survived         0\n",
            "Pclass           0\n",
            "Name             0\n",
            "Sex              0\n",
            "Age            177\n",
            "SibSp            0\n",
            "Parch            0\n",
            "Ticket           0\n",
            "Fare             0\n",
            "Cabin          687\n",
            "Embarked         2\n",
            "dtype: int64\n",
            "(891, 12)\n"
          ]
        }
      ]
    },
    {
      "cell_type": "code",
      "source": [
        "data5.head()"
      ],
      "metadata": {
        "colab": {
          "base_uri": "https://localhost:8080/",
          "height": 504
        },
        "id": "Cm5_1K4TwKXQ",
        "outputId": "4c473a3d-249a-4b03-a522-ecc500f1309e"
      },
      "execution_count": null,
      "outputs": [
        {
          "output_type": "execute_result",
          "data": {
            "text/plain": [
              "   PassengerId  Survived  Pclass  \\\n",
              "0            1         0       3   \n",
              "1            2         1       1   \n",
              "2            3         1       3   \n",
              "3            4         1       1   \n",
              "4            5         0       3   \n",
              "\n",
              "                                                Name     Sex   Age  SibSp  \\\n",
              "0                            Braund, Mr. Owen Harris    male  22.0      1   \n",
              "1  Cumings, Mrs. John Bradley (Florence Briggs Th...  female  38.0      1   \n",
              "2                             Heikkinen, Miss. Laina  female  26.0      0   \n",
              "3       Futrelle, Mrs. Jacques Heath (Lily May Peel)  female  35.0      1   \n",
              "4                           Allen, Mr. William Henry    male  35.0      0   \n",
              "\n",
              "   Parch            Ticket     Fare Cabin Embarked  \n",
              "0      0         A/5 21171   7.2500   NaN        S  \n",
              "1      0          PC 17599  71.2833   C85        C  \n",
              "2      0  STON/O2. 3101282   7.9250   NaN        S  \n",
              "3      0            113803  53.1000  C123        S  \n",
              "4      0            373450   8.0500   NaN        S  "
            ],
            "text/html": [
              "\n",
              "  <div id=\"df-1b3370e1-ee0d-4797-b500-d576690b5d3c\" class=\"colab-df-container\">\n",
              "    <div>\n",
              "<style scoped>\n",
              "    .dataframe tbody tr th:only-of-type {\n",
              "        vertical-align: middle;\n",
              "    }\n",
              "\n",
              "    .dataframe tbody tr th {\n",
              "        vertical-align: top;\n",
              "    }\n",
              "\n",
              "    .dataframe thead th {\n",
              "        text-align: right;\n",
              "    }\n",
              "</style>\n",
              "<table border=\"1\" class=\"dataframe\">\n",
              "  <thead>\n",
              "    <tr style=\"text-align: right;\">\n",
              "      <th></th>\n",
              "      <th>PassengerId</th>\n",
              "      <th>Survived</th>\n",
              "      <th>Pclass</th>\n",
              "      <th>Name</th>\n",
              "      <th>Sex</th>\n",
              "      <th>Age</th>\n",
              "      <th>SibSp</th>\n",
              "      <th>Parch</th>\n",
              "      <th>Ticket</th>\n",
              "      <th>Fare</th>\n",
              "      <th>Cabin</th>\n",
              "      <th>Embarked</th>\n",
              "    </tr>\n",
              "  </thead>\n",
              "  <tbody>\n",
              "    <tr>\n",
              "      <th>0</th>\n",
              "      <td>1</td>\n",
              "      <td>0</td>\n",
              "      <td>3</td>\n",
              "      <td>Braund, Mr. Owen Harris</td>\n",
              "      <td>male</td>\n",
              "      <td>22.0</td>\n",
              "      <td>1</td>\n",
              "      <td>0</td>\n",
              "      <td>A/5 21171</td>\n",
              "      <td>7.2500</td>\n",
              "      <td>NaN</td>\n",
              "      <td>S</td>\n",
              "    </tr>\n",
              "    <tr>\n",
              "      <th>1</th>\n",
              "      <td>2</td>\n",
              "      <td>1</td>\n",
              "      <td>1</td>\n",
              "      <td>Cumings, Mrs. John Bradley (Florence Briggs Th...</td>\n",
              "      <td>female</td>\n",
              "      <td>38.0</td>\n",
              "      <td>1</td>\n",
              "      <td>0</td>\n",
              "      <td>PC 17599</td>\n",
              "      <td>71.2833</td>\n",
              "      <td>C85</td>\n",
              "      <td>C</td>\n",
              "    </tr>\n",
              "    <tr>\n",
              "      <th>2</th>\n",
              "      <td>3</td>\n",
              "      <td>1</td>\n",
              "      <td>3</td>\n",
              "      <td>Heikkinen, Miss. Laina</td>\n",
              "      <td>female</td>\n",
              "      <td>26.0</td>\n",
              "      <td>0</td>\n",
              "      <td>0</td>\n",
              "      <td>STON/O2. 3101282</td>\n",
              "      <td>7.9250</td>\n",
              "      <td>NaN</td>\n",
              "      <td>S</td>\n",
              "    </tr>\n",
              "    <tr>\n",
              "      <th>3</th>\n",
              "      <td>4</td>\n",
              "      <td>1</td>\n",
              "      <td>1</td>\n",
              "      <td>Futrelle, Mrs. Jacques Heath (Lily May Peel)</td>\n",
              "      <td>female</td>\n",
              "      <td>35.0</td>\n",
              "      <td>1</td>\n",
              "      <td>0</td>\n",
              "      <td>113803</td>\n",
              "      <td>53.1000</td>\n",
              "      <td>C123</td>\n",
              "      <td>S</td>\n",
              "    </tr>\n",
              "    <tr>\n",
              "      <th>4</th>\n",
              "      <td>5</td>\n",
              "      <td>0</td>\n",
              "      <td>3</td>\n",
              "      <td>Allen, Mr. William Henry</td>\n",
              "      <td>male</td>\n",
              "      <td>35.0</td>\n",
              "      <td>0</td>\n",
              "      <td>0</td>\n",
              "      <td>373450</td>\n",
              "      <td>8.0500</td>\n",
              "      <td>NaN</td>\n",
              "      <td>S</td>\n",
              "    </tr>\n",
              "  </tbody>\n",
              "</table>\n",
              "</div>\n",
              "    <div class=\"colab-df-buttons\">\n",
              "\n",
              "  <div class=\"colab-df-container\">\n",
              "    <button class=\"colab-df-convert\" onclick=\"convertToInteractive('df-1b3370e1-ee0d-4797-b500-d576690b5d3c')\"\n",
              "            title=\"Convert this dataframe to an interactive table.\"\n",
              "            style=\"display:none;\">\n",
              "\n",
              "  <svg xmlns=\"http://www.w3.org/2000/svg\" height=\"24px\" viewBox=\"0 -960 960 960\">\n",
              "    <path d=\"M120-120v-720h720v720H120Zm60-500h600v-160H180v160Zm220 220h160v-160H400v160Zm0 220h160v-160H400v160ZM180-400h160v-160H180v160Zm440 0h160v-160H620v160ZM180-180h160v-160H180v160Zm440 0h160v-160H620v160Z\"/>\n",
              "  </svg>\n",
              "    </button>\n",
              "\n",
              "  <style>\n",
              "    .colab-df-container {\n",
              "      display:flex;\n",
              "      gap: 12px;\n",
              "    }\n",
              "\n",
              "    .colab-df-convert {\n",
              "      background-color: #E8F0FE;\n",
              "      border: none;\n",
              "      border-radius: 50%;\n",
              "      cursor: pointer;\n",
              "      display: none;\n",
              "      fill: #1967D2;\n",
              "      height: 32px;\n",
              "      padding: 0 0 0 0;\n",
              "      width: 32px;\n",
              "    }\n",
              "\n",
              "    .colab-df-convert:hover {\n",
              "      background-color: #E2EBFA;\n",
              "      box-shadow: 0px 1px 2px rgba(60, 64, 67, 0.3), 0px 1px 3px 1px rgba(60, 64, 67, 0.15);\n",
              "      fill: #174EA6;\n",
              "    }\n",
              "\n",
              "    .colab-df-buttons div {\n",
              "      margin-bottom: 4px;\n",
              "    }\n",
              "\n",
              "    [theme=dark] .colab-df-convert {\n",
              "      background-color: #3B4455;\n",
              "      fill: #D2E3FC;\n",
              "    }\n",
              "\n",
              "    [theme=dark] .colab-df-convert:hover {\n",
              "      background-color: #434B5C;\n",
              "      box-shadow: 0px 1px 3px 1px rgba(0, 0, 0, 0.15);\n",
              "      filter: drop-shadow(0px 1px 2px rgba(0, 0, 0, 0.3));\n",
              "      fill: #FFFFFF;\n",
              "    }\n",
              "  </style>\n",
              "\n",
              "    <script>\n",
              "      const buttonEl =\n",
              "        document.querySelector('#df-1b3370e1-ee0d-4797-b500-d576690b5d3c button.colab-df-convert');\n",
              "      buttonEl.style.display =\n",
              "        google.colab.kernel.accessAllowed ? 'block' : 'none';\n",
              "\n",
              "      async function convertToInteractive(key) {\n",
              "        const element = document.querySelector('#df-1b3370e1-ee0d-4797-b500-d576690b5d3c');\n",
              "        const dataTable =\n",
              "          await google.colab.kernel.invokeFunction('convertToInteractive',\n",
              "                                                    [key], {});\n",
              "        if (!dataTable) return;\n",
              "\n",
              "        const docLinkHtml = 'Like what you see? Visit the ' +\n",
              "          '<a target=\"_blank\" href=https://colab.research.google.com/notebooks/data_table.ipynb>data table notebook</a>'\n",
              "          + ' to learn more about interactive tables.';\n",
              "        element.innerHTML = '';\n",
              "        dataTable['output_type'] = 'display_data';\n",
              "        await google.colab.output.renderOutput(dataTable, element);\n",
              "        const docLink = document.createElement('div');\n",
              "        docLink.innerHTML = docLinkHtml;\n",
              "        element.appendChild(docLink);\n",
              "      }\n",
              "    </script>\n",
              "  </div>\n",
              "\n",
              "\n",
              "<div id=\"df-cd042022-3187-4a53-bd33-43c82a9e6dd8\">\n",
              "  <button class=\"colab-df-quickchart\" onclick=\"quickchart('df-cd042022-3187-4a53-bd33-43c82a9e6dd8')\"\n",
              "            title=\"Suggest charts\"\n",
              "            style=\"display:none;\">\n",
              "\n",
              "<svg xmlns=\"http://www.w3.org/2000/svg\" height=\"24px\"viewBox=\"0 0 24 24\"\n",
              "     width=\"24px\">\n",
              "    <g>\n",
              "        <path d=\"M19 3H5c-1.1 0-2 .9-2 2v14c0 1.1.9 2 2 2h14c1.1 0 2-.9 2-2V5c0-1.1-.9-2-2-2zM9 17H7v-7h2v7zm4 0h-2V7h2v10zm4 0h-2v-4h2v4z\"/>\n",
              "    </g>\n",
              "</svg>\n",
              "  </button>\n",
              "\n",
              "<style>\n",
              "  .colab-df-quickchart {\n",
              "      --bg-color: #E8F0FE;\n",
              "      --fill-color: #1967D2;\n",
              "      --hover-bg-color: #E2EBFA;\n",
              "      --hover-fill-color: #174EA6;\n",
              "      --disabled-fill-color: #AAA;\n",
              "      --disabled-bg-color: #DDD;\n",
              "  }\n",
              "\n",
              "  [theme=dark] .colab-df-quickchart {\n",
              "      --bg-color: #3B4455;\n",
              "      --fill-color: #D2E3FC;\n",
              "      --hover-bg-color: #434B5C;\n",
              "      --hover-fill-color: #FFFFFF;\n",
              "      --disabled-bg-color: #3B4455;\n",
              "      --disabled-fill-color: #666;\n",
              "  }\n",
              "\n",
              "  .colab-df-quickchart {\n",
              "    background-color: var(--bg-color);\n",
              "    border: none;\n",
              "    border-radius: 50%;\n",
              "    cursor: pointer;\n",
              "    display: none;\n",
              "    fill: var(--fill-color);\n",
              "    height: 32px;\n",
              "    padding: 0;\n",
              "    width: 32px;\n",
              "  }\n",
              "\n",
              "  .colab-df-quickchart:hover {\n",
              "    background-color: var(--hover-bg-color);\n",
              "    box-shadow: 0 1px 2px rgba(60, 64, 67, 0.3), 0 1px 3px 1px rgba(60, 64, 67, 0.15);\n",
              "    fill: var(--button-hover-fill-color);\n",
              "  }\n",
              "\n",
              "  .colab-df-quickchart-complete:disabled,\n",
              "  .colab-df-quickchart-complete:disabled:hover {\n",
              "    background-color: var(--disabled-bg-color);\n",
              "    fill: var(--disabled-fill-color);\n",
              "    box-shadow: none;\n",
              "  }\n",
              "\n",
              "  .colab-df-spinner {\n",
              "    border: 2px solid var(--fill-color);\n",
              "    border-color: transparent;\n",
              "    border-bottom-color: var(--fill-color);\n",
              "    animation:\n",
              "      spin 1s steps(1) infinite;\n",
              "  }\n",
              "\n",
              "  @keyframes spin {\n",
              "    0% {\n",
              "      border-color: transparent;\n",
              "      border-bottom-color: var(--fill-color);\n",
              "      border-left-color: var(--fill-color);\n",
              "    }\n",
              "    20% {\n",
              "      border-color: transparent;\n",
              "      border-left-color: var(--fill-color);\n",
              "      border-top-color: var(--fill-color);\n",
              "    }\n",
              "    30% {\n",
              "      border-color: transparent;\n",
              "      border-left-color: var(--fill-color);\n",
              "      border-top-color: var(--fill-color);\n",
              "      border-right-color: var(--fill-color);\n",
              "    }\n",
              "    40% {\n",
              "      border-color: transparent;\n",
              "      border-right-color: var(--fill-color);\n",
              "      border-top-color: var(--fill-color);\n",
              "    }\n",
              "    60% {\n",
              "      border-color: transparent;\n",
              "      border-right-color: var(--fill-color);\n",
              "    }\n",
              "    80% {\n",
              "      border-color: transparent;\n",
              "      border-right-color: var(--fill-color);\n",
              "      border-bottom-color: var(--fill-color);\n",
              "    }\n",
              "    90% {\n",
              "      border-color: transparent;\n",
              "      border-bottom-color: var(--fill-color);\n",
              "    }\n",
              "  }\n",
              "</style>\n",
              "\n",
              "  <script>\n",
              "    async function quickchart(key) {\n",
              "      const quickchartButtonEl =\n",
              "        document.querySelector('#' + key + ' button');\n",
              "      quickchartButtonEl.disabled = true;  // To prevent multiple clicks.\n",
              "      quickchartButtonEl.classList.add('colab-df-spinner');\n",
              "      try {\n",
              "        const charts = await google.colab.kernel.invokeFunction(\n",
              "            'suggestCharts', [key], {});\n",
              "      } catch (error) {\n",
              "        console.error('Error during call to suggestCharts:', error);\n",
              "      }\n",
              "      quickchartButtonEl.classList.remove('colab-df-spinner');\n",
              "      quickchartButtonEl.classList.add('colab-df-quickchart-complete');\n",
              "    }\n",
              "    (() => {\n",
              "      let quickchartButtonEl =\n",
              "        document.querySelector('#df-cd042022-3187-4a53-bd33-43c82a9e6dd8 button');\n",
              "      quickchartButtonEl.style.display =\n",
              "        google.colab.kernel.accessAllowed ? 'block' : 'none';\n",
              "    })();\n",
              "  </script>\n",
              "</div>\n",
              "\n",
              "    </div>\n",
              "  </div>\n"
            ],
            "application/vnd.google.colaboratory.intrinsic+json": {
              "type": "dataframe",
              "variable_name": "data5",
              "summary": "{\n  \"name\": \"data5\",\n  \"rows\": 891,\n  \"fields\": [\n    {\n      \"column\": \"PassengerId\",\n      \"properties\": {\n        \"dtype\": \"number\",\n        \"std\": 257,\n        \"min\": 1,\n        \"max\": 891,\n        \"num_unique_values\": 891,\n        \"samples\": [\n          710,\n          440,\n          841\n        ],\n        \"semantic_type\": \"\",\n        \"description\": \"\"\n      }\n    },\n    {\n      \"column\": \"Survived\",\n      \"properties\": {\n        \"dtype\": \"number\",\n        \"std\": 0,\n        \"min\": 0,\n        \"max\": 1,\n        \"num_unique_values\": 2,\n        \"samples\": [\n          1,\n          0\n        ],\n        \"semantic_type\": \"\",\n        \"description\": \"\"\n      }\n    },\n    {\n      \"column\": \"Pclass\",\n      \"properties\": {\n        \"dtype\": \"number\",\n        \"std\": 0,\n        \"min\": 1,\n        \"max\": 3,\n        \"num_unique_values\": 3,\n        \"samples\": [\n          3,\n          1\n        ],\n        \"semantic_type\": \"\",\n        \"description\": \"\"\n      }\n    },\n    {\n      \"column\": \"Name\",\n      \"properties\": {\n        \"dtype\": \"string\",\n        \"num_unique_values\": 891,\n        \"samples\": [\n          \"Moubarek, Master. Halim Gonios (\\\"William George\\\")\",\n          \"Kvillner, Mr. Johan Henrik Johannesson\"\n        ],\n        \"semantic_type\": \"\",\n        \"description\": \"\"\n      }\n    },\n    {\n      \"column\": \"Sex\",\n      \"properties\": {\n        \"dtype\": \"category\",\n        \"num_unique_values\": 2,\n        \"samples\": [\n          \"female\",\n          \"male\"\n        ],\n        \"semantic_type\": \"\",\n        \"description\": \"\"\n      }\n    },\n    {\n      \"column\": \"Age\",\n      \"properties\": {\n        \"dtype\": \"number\",\n        \"std\": 14.526497332334042,\n        \"min\": 0.42,\n        \"max\": 80.0,\n        \"num_unique_values\": 88,\n        \"samples\": [\n          0.75,\n          22.0\n        ],\n        \"semantic_type\": \"\",\n        \"description\": \"\"\n      }\n    },\n    {\n      \"column\": \"SibSp\",\n      \"properties\": {\n        \"dtype\": \"number\",\n        \"std\": 1,\n        \"min\": 0,\n        \"max\": 8,\n        \"num_unique_values\": 7,\n        \"samples\": [\n          1,\n          0\n        ],\n        \"semantic_type\": \"\",\n        \"description\": \"\"\n      }\n    },\n    {\n      \"column\": \"Parch\",\n      \"properties\": {\n        \"dtype\": \"number\",\n        \"std\": 0,\n        \"min\": 0,\n        \"max\": 6,\n        \"num_unique_values\": 7,\n        \"samples\": [\n          0,\n          1\n        ],\n        \"semantic_type\": \"\",\n        \"description\": \"\"\n      }\n    },\n    {\n      \"column\": \"Ticket\",\n      \"properties\": {\n        \"dtype\": \"string\",\n        \"num_unique_values\": 681,\n        \"samples\": [\n          \"11774\",\n          \"248740\"\n        ],\n        \"semantic_type\": \"\",\n        \"description\": \"\"\n      }\n    },\n    {\n      \"column\": \"Fare\",\n      \"properties\": {\n        \"dtype\": \"number\",\n        \"std\": 49.6934285971809,\n        \"min\": 0.0,\n        \"max\": 512.3292,\n        \"num_unique_values\": 248,\n        \"samples\": [\n          11.2417,\n          51.8625\n        ],\n        \"semantic_type\": \"\",\n        \"description\": \"\"\n      }\n    },\n    {\n      \"column\": \"Cabin\",\n      \"properties\": {\n        \"dtype\": \"category\",\n        \"num_unique_values\": 147,\n        \"samples\": [\n          \"D45\",\n          \"B49\"\n        ],\n        \"semantic_type\": \"\",\n        \"description\": \"\"\n      }\n    },\n    {\n      \"column\": \"Embarked\",\n      \"properties\": {\n        \"dtype\": \"category\",\n        \"num_unique_values\": 3,\n        \"samples\": [\n          \"S\",\n          \"C\"\n        ],\n        \"semantic_type\": \"\",\n        \"description\": \"\"\n      }\n    }\n  ]\n}"
            }
          },
          "metadata": {},
          "execution_count": 154
        }
      ]
    }
  ],
  "metadata": {
    "colab": {
      "provenance": [],
      "authorship_tag": "ABX9TyPMoupHnhFtdDXbhrswg5s7",
      "include_colab_link": true
    },
    "kernelspec": {
      "display_name": "Python 3",
      "name": "python3"
    },
    "language_info": {
      "name": "python"
    }
  },
  "nbformat": 4,
  "nbformat_minor": 0
}